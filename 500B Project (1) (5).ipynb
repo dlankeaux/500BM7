{
 "cells": [
  {
   "cell_type": "code",
   "metadata": {
    "cell_id": "00000-771f377f-959e-430c-a274-f58c21883bd9",
    "deepnote_to_be_reexecuted": false,
    "source_hash": "795219a",
    "execution_start": 1629075598254,
    "execution_millis": 1305,
    "deepnote_cell_type": "code"
   },
   "source": "#importing necessary libraries \n\nimport numpy as np\nimport pandas as pd\nimport matplotlib as mpl\nimport matplotlib.pyplot as plt\nimport seaborn as sns\n\nfrom sklearn.model_selection import train_test_split\nfrom sklearn.ensemble import RandomForestClassifier\nfrom sklearn import model_selection, preprocessing, feature_selection, ensemble, linear_model, decomposition\n\n\n",
   "outputs": [],
   "execution_count": null
  },
  {
   "cell_type": "code",
   "metadata": {
    "tags": [],
    "cell_id": "00001-ffd76590-bc48-4e22-ba40-37e2bad0c368",
    "deepnote_to_be_reexecuted": false,
    "source_hash": "5e3ac225",
    "execution_start": 1629075599564,
    "execution_millis": 148,
    "deepnote_cell_type": "code"
   },
   "source": "# importing dataset as dataframe named table\n# peeking at the first 5 rows\ntable = pd.read_csv('online_shoppers_intention.csv')\ntable.head() ",
   "outputs": [
    {
     "output_type": "execute_result",
     "execution_count": 2,
     "data": {
      "application/vnd.deepnote.dataframe.v2+json": {
       "row_count": 5,
       "column_count": 18,
       "columns": [
        {
         "name": "Administrative",
         "dtype": "int64",
         "stats": {
          "unique_count": 1,
          "nan_count": 0,
          "min": "0",
          "max": "0",
          "histogram": [
           {
            "bin_start": -0.5,
            "bin_end": -0.4,
            "count": 0
           },
           {
            "bin_start": -0.4,
            "bin_end": -0.3,
            "count": 0
           },
           {
            "bin_start": -0.3,
            "bin_end": -0.19999999999999996,
            "count": 0
           },
           {
            "bin_start": -0.19999999999999996,
            "bin_end": -0.09999999999999998,
            "count": 0
           },
           {
            "bin_start": -0.09999999999999998,
            "bin_end": 0,
            "count": 0
           },
           {
            "bin_start": 0,
            "bin_end": 0.10000000000000009,
            "count": 5
           },
           {
            "bin_start": 0.10000000000000009,
            "bin_end": 0.20000000000000007,
            "count": 0
           },
           {
            "bin_start": 0.20000000000000007,
            "bin_end": 0.30000000000000004,
            "count": 0
           },
           {
            "bin_start": 0.30000000000000004,
            "bin_end": 0.4,
            "count": 0
           },
           {
            "bin_start": 0.4,
            "bin_end": 0.5,
            "count": 0
           }
          ]
         }
        },
        {
         "name": "Administrative_Duration",
         "dtype": "float64",
         "stats": {
          "unique_count": 1,
          "nan_count": 0,
          "min": "0.0",
          "max": "0.0",
          "histogram": [
           {
            "bin_start": -0.5,
            "bin_end": -0.4,
            "count": 0
           },
           {
            "bin_start": -0.4,
            "bin_end": -0.3,
            "count": 0
           },
           {
            "bin_start": -0.3,
            "bin_end": -0.19999999999999996,
            "count": 0
           },
           {
            "bin_start": -0.19999999999999996,
            "bin_end": -0.09999999999999998,
            "count": 0
           },
           {
            "bin_start": -0.09999999999999998,
            "bin_end": 0,
            "count": 0
           },
           {
            "bin_start": 0,
            "bin_end": 0.10000000000000009,
            "count": 5
           },
           {
            "bin_start": 0.10000000000000009,
            "bin_end": 0.20000000000000007,
            "count": 0
           },
           {
            "bin_start": 0.20000000000000007,
            "bin_end": 0.30000000000000004,
            "count": 0
           },
           {
            "bin_start": 0.30000000000000004,
            "bin_end": 0.4,
            "count": 0
           },
           {
            "bin_start": 0.4,
            "bin_end": 0.5,
            "count": 0
           }
          ]
         }
        },
        {
         "name": "Informational",
         "dtype": "float64",
         "stats": {
          "unique_count": 1,
          "nan_count": 0,
          "min": "0.0",
          "max": "0.0",
          "histogram": [
           {
            "bin_start": -0.5,
            "bin_end": -0.4,
            "count": 0
           },
           {
            "bin_start": -0.4,
            "bin_end": -0.3,
            "count": 0
           },
           {
            "bin_start": -0.3,
            "bin_end": -0.19999999999999996,
            "count": 0
           },
           {
            "bin_start": -0.19999999999999996,
            "bin_end": -0.09999999999999998,
            "count": 0
           },
           {
            "bin_start": -0.09999999999999998,
            "bin_end": 0,
            "count": 0
           },
           {
            "bin_start": 0,
            "bin_end": 0.10000000000000009,
            "count": 5
           },
           {
            "bin_start": 0.10000000000000009,
            "bin_end": 0.20000000000000007,
            "count": 0
           },
           {
            "bin_start": 0.20000000000000007,
            "bin_end": 0.30000000000000004,
            "count": 0
           },
           {
            "bin_start": 0.30000000000000004,
            "bin_end": 0.4,
            "count": 0
           },
           {
            "bin_start": 0.4,
            "bin_end": 0.5,
            "count": 0
           }
          ]
         }
        },
        {
         "name": "Informational_Duration",
         "dtype": "float64",
         "stats": {
          "unique_count": 1,
          "nan_count": 0,
          "min": "0.0",
          "max": "0.0",
          "histogram": [
           {
            "bin_start": -0.5,
            "bin_end": -0.4,
            "count": 0
           },
           {
            "bin_start": -0.4,
            "bin_end": -0.3,
            "count": 0
           },
           {
            "bin_start": -0.3,
            "bin_end": -0.19999999999999996,
            "count": 0
           },
           {
            "bin_start": -0.19999999999999996,
            "bin_end": -0.09999999999999998,
            "count": 0
           },
           {
            "bin_start": -0.09999999999999998,
            "bin_end": 0,
            "count": 0
           },
           {
            "bin_start": 0,
            "bin_end": 0.10000000000000009,
            "count": 5
           },
           {
            "bin_start": 0.10000000000000009,
            "bin_end": 0.20000000000000007,
            "count": 0
           },
           {
            "bin_start": 0.20000000000000007,
            "bin_end": 0.30000000000000004,
            "count": 0
           },
           {
            "bin_start": 0.30000000000000004,
            "bin_end": 0.4,
            "count": 0
           },
           {
            "bin_start": 0.4,
            "bin_end": 0.5,
            "count": 0
           }
          ]
         }
        },
        {
         "name": "ProductRelated",
         "dtype": "int64",
         "stats": {
          "unique_count": 3,
          "nan_count": 0,
          "min": "1",
          "max": "10",
          "histogram": [
           {
            "bin_start": 1,
            "bin_end": 1.9,
            "count": 2
           },
           {
            "bin_start": 1.9,
            "bin_end": 2.8,
            "count": 2
           },
           {
            "bin_start": 2.8,
            "bin_end": 3.7,
            "count": 0
           },
           {
            "bin_start": 3.7,
            "bin_end": 4.6,
            "count": 0
           },
           {
            "bin_start": 4.6,
            "bin_end": 5.5,
            "count": 0
           },
           {
            "bin_start": 5.5,
            "bin_end": 6.4,
            "count": 0
           },
           {
            "bin_start": 6.4,
            "bin_end": 7.3,
            "count": 0
           },
           {
            "bin_start": 7.3,
            "bin_end": 8.2,
            "count": 0
           },
           {
            "bin_start": 8.2,
            "bin_end": 9.1,
            "count": 0
           },
           {
            "bin_start": 9.1,
            "bin_end": 10,
            "count": 1
           }
          ]
         }
        },
        {
         "name": "ProductRelated_Duration",
         "dtype": "float64",
         "stats": {
          "unique_count": 4,
          "nan_count": 0,
          "min": "0.0",
          "max": "627.5",
          "histogram": [
           {
            "bin_start": 0,
            "bin_end": 62.75,
            "count": 3
           },
           {
            "bin_start": 62.75,
            "bin_end": 125.5,
            "count": 1
           },
           {
            "bin_start": 125.5,
            "bin_end": 188.25,
            "count": 0
           },
           {
            "bin_start": 188.25,
            "bin_end": 251,
            "count": 0
           },
           {
            "bin_start": 251,
            "bin_end": 313.75,
            "count": 0
           },
           {
            "bin_start": 313.75,
            "bin_end": 376.5,
            "count": 0
           },
           {
            "bin_start": 376.5,
            "bin_end": 439.25,
            "count": 0
           },
           {
            "bin_start": 439.25,
            "bin_end": 502,
            "count": 0
           },
           {
            "bin_start": 502,
            "bin_end": 564.75,
            "count": 0
           },
           {
            "bin_start": 564.75,
            "bin_end": 627.5,
            "count": 1
           }
          ]
         }
        },
        {
         "name": "BounceRates",
         "dtype": "float64",
         "stats": {
          "unique_count": 4,
          "nan_count": 0,
          "min": "0.0",
          "max": "0.2",
          "histogram": [
           {
            "bin_start": 0,
            "bin_end": 0.02,
            "count": 1
           },
           {
            "bin_start": 0.02,
            "bin_end": 0.04,
            "count": 1
           },
           {
            "bin_start": 0.04,
            "bin_end": 0.06,
            "count": 1
           },
           {
            "bin_start": 0.06,
            "bin_end": 0.08,
            "count": 0
           },
           {
            "bin_start": 0.08,
            "bin_end": 0.1,
            "count": 0
           },
           {
            "bin_start": 0.1,
            "bin_end": 0.12,
            "count": 0
           },
           {
            "bin_start": 0.12,
            "bin_end": 0.14,
            "count": 0
           },
           {
            "bin_start": 0.14,
            "bin_end": 0.16,
            "count": 0
           },
           {
            "bin_start": 0.16,
            "bin_end": 0.18,
            "count": 0
           },
           {
            "bin_start": 0.18,
            "bin_end": 0.2,
            "count": 2
           }
          ]
         }
        },
        {
         "name": "ExitRates",
         "dtype": "float64",
         "stats": {
          "unique_count": 4,
          "nan_count": 0,
          "min": "0.05",
          "max": "0.2",
          "histogram": [
           {
            "bin_start": 0.05,
            "bin_end": 0.065,
            "count": 1
           },
           {
            "bin_start": 0.065,
            "bin_end": 0.08000000000000002,
            "count": 0
           },
           {
            "bin_start": 0.08000000000000002,
            "bin_end": 0.09500000000000001,
            "count": 0
           },
           {
            "bin_start": 0.09500000000000001,
            "bin_end": 0.11000000000000001,
            "count": 1
           },
           {
            "bin_start": 0.11000000000000001,
            "bin_end": 0.125,
            "count": 0
           },
           {
            "bin_start": 0.125,
            "bin_end": 0.14,
            "count": 0
           },
           {
            "bin_start": 0.14,
            "bin_end": 0.15500000000000003,
            "count": 1
           },
           {
            "bin_start": 0.15500000000000003,
            "bin_end": 0.17000000000000004,
            "count": 0
           },
           {
            "bin_start": 0.17000000000000004,
            "bin_end": 0.18500000000000005,
            "count": 0
           },
           {
            "bin_start": 0.18500000000000005,
            "bin_end": 0.2,
            "count": 2
           }
          ]
         }
        },
        {
         "name": "PageValues",
         "dtype": "float64",
         "stats": {
          "unique_count": 1,
          "nan_count": 0,
          "min": "0.0",
          "max": "0.0",
          "histogram": [
           {
            "bin_start": -0.5,
            "bin_end": -0.4,
            "count": 0
           },
           {
            "bin_start": -0.4,
            "bin_end": -0.3,
            "count": 0
           },
           {
            "bin_start": -0.3,
            "bin_end": -0.19999999999999996,
            "count": 0
           },
           {
            "bin_start": -0.19999999999999996,
            "bin_end": -0.09999999999999998,
            "count": 0
           },
           {
            "bin_start": -0.09999999999999998,
            "bin_end": 0,
            "count": 0
           },
           {
            "bin_start": 0,
            "bin_end": 0.10000000000000009,
            "count": 5
           },
           {
            "bin_start": 0.10000000000000009,
            "bin_end": 0.20000000000000007,
            "count": 0
           },
           {
            "bin_start": 0.20000000000000007,
            "bin_end": 0.30000000000000004,
            "count": 0
           },
           {
            "bin_start": 0.30000000000000004,
            "bin_end": 0.4,
            "count": 0
           },
           {
            "bin_start": 0.4,
            "bin_end": 0.5,
            "count": 0
           }
          ]
         }
        },
        {
         "name": "SpecialDay",
         "dtype": "float64",
         "stats": {
          "unique_count": 1,
          "nan_count": 0,
          "min": "0.0",
          "max": "0.0",
          "histogram": [
           {
            "bin_start": -0.5,
            "bin_end": -0.4,
            "count": 0
           },
           {
            "bin_start": -0.4,
            "bin_end": -0.3,
            "count": 0
           },
           {
            "bin_start": -0.3,
            "bin_end": -0.19999999999999996,
            "count": 0
           },
           {
            "bin_start": -0.19999999999999996,
            "bin_end": -0.09999999999999998,
            "count": 0
           },
           {
            "bin_start": -0.09999999999999998,
            "bin_end": 0,
            "count": 0
           },
           {
            "bin_start": 0,
            "bin_end": 0.10000000000000009,
            "count": 5
           },
           {
            "bin_start": 0.10000000000000009,
            "bin_end": 0.20000000000000007,
            "count": 0
           },
           {
            "bin_start": 0.20000000000000007,
            "bin_end": 0.30000000000000004,
            "count": 0
           },
           {
            "bin_start": 0.30000000000000004,
            "bin_end": 0.4,
            "count": 0
           },
           {
            "bin_start": 0.4,
            "bin_end": 0.5,
            "count": 0
           }
          ]
         }
        },
        {
         "name": "Month",
         "dtype": "object",
         "stats": {
          "unique_count": 1,
          "nan_count": 0,
          "categories": [
           {
            "name": "Feb",
            "count": 5
           }
          ]
         }
        },
        {
         "name": "OperatingSystems",
         "dtype": "float64",
         "stats": {
          "unique_count": 4,
          "nan_count": 0,
          "min": "1.0",
          "max": "4.0",
          "histogram": [
           {
            "bin_start": 1,
            "bin_end": 1.3,
            "count": 1
           },
           {
            "bin_start": 1.3,
            "bin_end": 1.6,
            "count": 0
           },
           {
            "bin_start": 1.6,
            "bin_end": 1.9,
            "count": 0
           },
           {
            "bin_start": 1.9,
            "bin_end": 2.2,
            "count": 1
           },
           {
            "bin_start": 2.2,
            "bin_end": 2.5,
            "count": 0
           },
           {
            "bin_start": 2.5,
            "bin_end": 2.8,
            "count": 0
           },
           {
            "bin_start": 2.8,
            "bin_end": 3.1,
            "count": 2
           },
           {
            "bin_start": 3.1,
            "bin_end": 3.4,
            "count": 0
           },
           {
            "bin_start": 3.4,
            "bin_end": 3.6999999999999997,
            "count": 0
           },
           {
            "bin_start": 3.6999999999999997,
            "bin_end": 4,
            "count": 1
           }
          ]
         }
        },
        {
         "name": "Browser",
         "dtype": "int64",
         "stats": {
          "unique_count": 3,
          "nan_count": 0,
          "min": "1",
          "max": "3",
          "histogram": [
           {
            "bin_start": 1,
            "bin_end": 1.2,
            "count": 2
           },
           {
            "bin_start": 1.2,
            "bin_end": 1.4,
            "count": 0
           },
           {
            "bin_start": 1.4,
            "bin_end": 1.6,
            "count": 0
           },
           {
            "bin_start": 1.6,
            "bin_end": 1.8,
            "count": 0
           },
           {
            "bin_start": 1.8,
            "bin_end": 2,
            "count": 0
           },
           {
            "bin_start": 2,
            "bin_end": 2.2,
            "count": 2
           },
           {
            "bin_start": 2.2,
            "bin_end": 2.4000000000000004,
            "count": 0
           },
           {
            "bin_start": 2.4000000000000004,
            "bin_end": 2.6,
            "count": 0
           },
           {
            "bin_start": 2.6,
            "bin_end": 2.8,
            "count": 0
           },
           {
            "bin_start": 2.8,
            "bin_end": 3,
            "count": 1
           }
          ]
         }
        },
        {
         "name": "Region",
         "dtype": "int64",
         "stats": {
          "unique_count": 3,
          "nan_count": 0,
          "min": "1",
          "max": "9",
          "histogram": [
           {
            "bin_start": 1,
            "bin_end": 1.8,
            "count": 3
           },
           {
            "bin_start": 1.8,
            "bin_end": 2.6,
            "count": 1
           },
           {
            "bin_start": 2.6,
            "bin_end": 3.4000000000000004,
            "count": 0
           },
           {
            "bin_start": 3.4000000000000004,
            "bin_end": 4.2,
            "count": 0
           },
           {
            "bin_start": 4.2,
            "bin_end": 5,
            "count": 0
           },
           {
            "bin_start": 5,
            "bin_end": 5.800000000000001,
            "count": 0
           },
           {
            "bin_start": 5.800000000000001,
            "bin_end": 6.6000000000000005,
            "count": 0
           },
           {
            "bin_start": 6.6000000000000005,
            "bin_end": 7.4,
            "count": 0
           },
           {
            "bin_start": 7.4,
            "bin_end": 8.2,
            "count": 0
           },
           {
            "bin_start": 8.2,
            "bin_end": 9,
            "count": 1
           }
          ]
         }
        },
        {
         "name": "TrafficType",
         "dtype": "int64",
         "stats": {
          "unique_count": 4,
          "nan_count": 0,
          "min": "1",
          "max": "4",
          "histogram": [
           {
            "bin_start": 1,
            "bin_end": 1.3,
            "count": 1
           },
           {
            "bin_start": 1.3,
            "bin_end": 1.6,
            "count": 0
           },
           {
            "bin_start": 1.6,
            "bin_end": 1.9,
            "count": 0
           },
           {
            "bin_start": 1.9,
            "bin_end": 2.2,
            "count": 1
           },
           {
            "bin_start": 2.2,
            "bin_end": 2.5,
            "count": 0
           },
           {
            "bin_start": 2.5,
            "bin_end": 2.8,
            "count": 0
           },
           {
            "bin_start": 2.8,
            "bin_end": 3.1,
            "count": 1
           },
           {
            "bin_start": 3.1,
            "bin_end": 3.4,
            "count": 0
           },
           {
            "bin_start": 3.4,
            "bin_end": 3.6999999999999997,
            "count": 0
           },
           {
            "bin_start": 3.6999999999999997,
            "bin_end": 4,
            "count": 2
           }
          ]
         }
        },
        {
         "name": "VisitorType",
         "dtype": "object",
         "stats": {
          "unique_count": 1,
          "nan_count": 0,
          "categories": [
           {
            "name": "Returning_Visitor",
            "count": 5
           }
          ]
         }
        },
        {
         "name": "Weekend",
         "dtype": "bool",
         "stats": {
          "unique_count": 2,
          "nan_count": 0,
          "categories": [
           {
            "name": "False",
            "count": 4
           },
           {
            "name": "True",
            "count": 1
           }
          ]
         }
        },
        {
         "name": "Revenue",
         "dtype": "bool",
         "stats": {
          "unique_count": 1,
          "nan_count": 0,
          "categories": [
           {
            "name": "False",
            "count": 5
           }
          ]
         }
        },
        {
         "name": "_deepnote_index_column",
         "dtype": "int64"
        }
       ],
       "rows_top": [
        {
         "Administrative": 0,
         "Administrative_Duration": 0,
         "Informational": 0,
         "Informational_Duration": 0,
         "ProductRelated": 1,
         "ProductRelated_Duration": 0,
         "BounceRates": 0.2,
         "ExitRates": 0.2,
         "PageValues": 0,
         "SpecialDay": 0,
         "Month": "Feb",
         "OperatingSystems": 1,
         "Browser": 1,
         "Region": 1,
         "TrafficType": 1,
         "VisitorType": "Returning_Visitor",
         "Weekend": "False",
         "Revenue": "False",
         "_deepnote_index_column": 0
        },
        {
         "Administrative": 0,
         "Administrative_Duration": 0,
         "Informational": 0,
         "Informational_Duration": 0,
         "ProductRelated": 2,
         "ProductRelated_Duration": 64,
         "BounceRates": 0,
         "ExitRates": 0.1,
         "PageValues": 0,
         "SpecialDay": 0,
         "Month": "Feb",
         "OperatingSystems": 2,
         "Browser": 2,
         "Region": 1,
         "TrafficType": 2,
         "VisitorType": "Returning_Visitor",
         "Weekend": "False",
         "Revenue": "False",
         "_deepnote_index_column": 1
        },
        {
         "Administrative": 0,
         "Administrative_Duration": 0,
         "Informational": 0,
         "Informational_Duration": 0,
         "ProductRelated": 1,
         "ProductRelated_Duration": 0,
         "BounceRates": 0.2,
         "ExitRates": 0.2,
         "PageValues": 0,
         "SpecialDay": 0,
         "Month": "Feb",
         "OperatingSystems": 4,
         "Browser": 1,
         "Region": 9,
         "TrafficType": 3,
         "VisitorType": "Returning_Visitor",
         "Weekend": "False",
         "Revenue": "False",
         "_deepnote_index_column": 2
        },
        {
         "Administrative": 0,
         "Administrative_Duration": 0,
         "Informational": 0,
         "Informational_Duration": 0,
         "ProductRelated": 2,
         "ProductRelated_Duration": 2.666666667,
         "BounceRates": 0.05,
         "ExitRates": 0.14,
         "PageValues": 0,
         "SpecialDay": 0,
         "Month": "Feb",
         "OperatingSystems": 3,
         "Browser": 2,
         "Region": 2,
         "TrafficType": 4,
         "VisitorType": "Returning_Visitor",
         "Weekend": "False",
         "Revenue": "False",
         "_deepnote_index_column": 3
        },
        {
         "Administrative": 0,
         "Administrative_Duration": 0,
         "Informational": 0,
         "Informational_Duration": 0,
         "ProductRelated": 10,
         "ProductRelated_Duration": 627.5,
         "BounceRates": 0.02,
         "ExitRates": 0.05,
         "PageValues": 0,
         "SpecialDay": 0,
         "Month": "Feb",
         "OperatingSystems": 3,
         "Browser": 3,
         "Region": 1,
         "TrafficType": 4,
         "VisitorType": "Returning_Visitor",
         "Weekend": "True",
         "Revenue": "False",
         "_deepnote_index_column": 4
        }
       ],
       "rows_bottom": null
      },
      "text/plain": "   Administrative  Administrative_Duration  Informational  \\\n0               0                      0.0            0.0   \n1               0                      0.0            0.0   \n2               0                      0.0            0.0   \n3               0                      0.0            0.0   \n4               0                      0.0            0.0   \n\n   Informational_Duration  ProductRelated  ProductRelated_Duration  \\\n0                     0.0               1                 0.000000   \n1                     0.0               2                64.000000   \n2                     0.0               1                 0.000000   \n3                     0.0               2                 2.666667   \n4                     0.0              10               627.500000   \n\n   BounceRates  ExitRates  PageValues  SpecialDay Month  OperatingSystems  \\\n0         0.20       0.20         0.0         0.0   Feb               1.0   \n1         0.00       0.10         0.0         0.0   Feb               2.0   \n2         0.20       0.20         0.0         0.0   Feb               4.0   \n3         0.05       0.14         0.0         0.0   Feb               3.0   \n4         0.02       0.05         0.0         0.0   Feb               3.0   \n\n   Browser  Region  TrafficType        VisitorType  Weekend  Revenue  \n0        1       1            1  Returning_Visitor    False    False  \n1        2       1            2  Returning_Visitor    False    False  \n2        1       9            3  Returning_Visitor    False    False  \n3        2       2            4  Returning_Visitor    False    False  \n4        3       1            4  Returning_Visitor     True    False  ",
      "text/html": "<div>\n<style scoped>\n    .dataframe tbody tr th:only-of-type {\n        vertical-align: middle;\n    }\n\n    .dataframe tbody tr th {\n        vertical-align: top;\n    }\n\n    .dataframe thead th {\n        text-align: right;\n    }\n</style>\n<table border=\"1\" class=\"dataframe\">\n  <thead>\n    <tr style=\"text-align: right;\">\n      <th></th>\n      <th>Administrative</th>\n      <th>Administrative_Duration</th>\n      <th>Informational</th>\n      <th>Informational_Duration</th>\n      <th>ProductRelated</th>\n      <th>ProductRelated_Duration</th>\n      <th>BounceRates</th>\n      <th>ExitRates</th>\n      <th>PageValues</th>\n      <th>SpecialDay</th>\n      <th>Month</th>\n      <th>OperatingSystems</th>\n      <th>Browser</th>\n      <th>Region</th>\n      <th>TrafficType</th>\n      <th>VisitorType</th>\n      <th>Weekend</th>\n      <th>Revenue</th>\n    </tr>\n  </thead>\n  <tbody>\n    <tr>\n      <th>0</th>\n      <td>0</td>\n      <td>0.0</td>\n      <td>0.0</td>\n      <td>0.0</td>\n      <td>1</td>\n      <td>0.000000</td>\n      <td>0.20</td>\n      <td>0.20</td>\n      <td>0.0</td>\n      <td>0.0</td>\n      <td>Feb</td>\n      <td>1.0</td>\n      <td>1</td>\n      <td>1</td>\n      <td>1</td>\n      <td>Returning_Visitor</td>\n      <td>False</td>\n      <td>False</td>\n    </tr>\n    <tr>\n      <th>1</th>\n      <td>0</td>\n      <td>0.0</td>\n      <td>0.0</td>\n      <td>0.0</td>\n      <td>2</td>\n      <td>64.000000</td>\n      <td>0.00</td>\n      <td>0.10</td>\n      <td>0.0</td>\n      <td>0.0</td>\n      <td>Feb</td>\n      <td>2.0</td>\n      <td>2</td>\n      <td>1</td>\n      <td>2</td>\n      <td>Returning_Visitor</td>\n      <td>False</td>\n      <td>False</td>\n    </tr>\n    <tr>\n      <th>2</th>\n      <td>0</td>\n      <td>0.0</td>\n      <td>0.0</td>\n      <td>0.0</td>\n      <td>1</td>\n      <td>0.000000</td>\n      <td>0.20</td>\n      <td>0.20</td>\n      <td>0.0</td>\n      <td>0.0</td>\n      <td>Feb</td>\n      <td>4.0</td>\n      <td>1</td>\n      <td>9</td>\n      <td>3</td>\n      <td>Returning_Visitor</td>\n      <td>False</td>\n      <td>False</td>\n    </tr>\n    <tr>\n      <th>3</th>\n      <td>0</td>\n      <td>0.0</td>\n      <td>0.0</td>\n      <td>0.0</td>\n      <td>2</td>\n      <td>2.666667</td>\n      <td>0.05</td>\n      <td>0.14</td>\n      <td>0.0</td>\n      <td>0.0</td>\n      <td>Feb</td>\n      <td>3.0</td>\n      <td>2</td>\n      <td>2</td>\n      <td>4</td>\n      <td>Returning_Visitor</td>\n      <td>False</td>\n      <td>False</td>\n    </tr>\n    <tr>\n      <th>4</th>\n      <td>0</td>\n      <td>0.0</td>\n      <td>0.0</td>\n      <td>0.0</td>\n      <td>10</td>\n      <td>627.500000</td>\n      <td>0.02</td>\n      <td>0.05</td>\n      <td>0.0</td>\n      <td>0.0</td>\n      <td>Feb</td>\n      <td>3.0</td>\n      <td>3</td>\n      <td>1</td>\n      <td>4</td>\n      <td>Returning_Visitor</td>\n      <td>True</td>\n      <td>False</td>\n    </tr>\n  </tbody>\n</table>\n</div>"
     },
     "metadata": {}
    }
   ],
   "execution_count": null
  },
  {
   "cell_type": "code",
   "metadata": {
    "cell_id": "00001-ec0105ca-c84b-4f0f-a904-c7ebfa327f06",
    "deepnote_to_be_reexecuted": false,
    "source_hash": "805f0ac4",
    "execution_start": 1629075599723,
    "execution_millis": 12,
    "deepnote_cell_type": "code"
   },
   "source": "# taking a look at data dims, shape, size, types, column names and overall info\n\nprint('Dimensions: ',table.ndim)\nprint('Shape: ',table.shape)\nprint('Size: ', table.size)\nprint('Data Type: ', table.dtypes)\nprint('Columns: ', table.columns)\nprint('Info: ', table.info)",
   "outputs": [
    {
     "name": "stdout",
     "text": "Dimensions:  2\nShape:  (12330, 18)\nSize:  221940\nData Type:  Administrative               int64\nAdministrative_Duration    float64\nInformational              float64\nInformational_Duration     float64\nProductRelated               int64\nProductRelated_Duration    float64\nBounceRates                float64\nExitRates                  float64\nPageValues                 float64\nSpecialDay                 float64\nMonth                       object\nOperatingSystems           float64\nBrowser                      int64\nRegion                       int64\nTrafficType                  int64\nVisitorType                 object\nWeekend                       bool\nRevenue                       bool\ndtype: object\nColumns:  Index(['Administrative', 'Administrative_Duration', 'Informational',\n       'Informational_Duration', 'ProductRelated', 'ProductRelated_Duration',\n       'BounceRates', 'ExitRates', 'PageValues', 'SpecialDay', 'Month',\n       'OperatingSystems', 'Browser', 'Region', 'TrafficType', 'VisitorType',\n       'Weekend', 'Revenue'],\n      dtype='object')\nInfo:  <bound method DataFrame.info of        Administrative  Administrative_Duration  Informational  \\\n0                   0                      0.0            0.0   \n1                   0                      0.0            0.0   \n2                   0                      0.0            0.0   \n3                   0                      0.0            0.0   \n4                   0                      0.0            0.0   \n...               ...                      ...            ...   \n12325               3                    145.0            0.0   \n12326               0                      0.0            0.0   \n12327               0                      0.0            0.0   \n12328               4                     75.0            0.0   \n12329               0                      0.0            0.0   \n\n       Informational_Duration  ProductRelated  ProductRelated_Duration  \\\n0                         0.0               1                 0.000000   \n1                         0.0               2                64.000000   \n2                         0.0               1                 0.000000   \n3                         0.0               2                 2.666667   \n4                         0.0              10               627.500000   \n...                       ...             ...                      ...   \n12325                     0.0              53              1783.791667   \n12326                     0.0               5               465.750000   \n12327                     0.0               6               184.250000   \n12328                     0.0              15               346.000000   \n12329                     0.0               3                21.250000   \n\n       BounceRates  ExitRates  PageValues  SpecialDay Month  OperatingSystems  \\\n0         0.200000   0.200000    0.000000         0.0   Feb               1.0   \n1         0.000000   0.100000    0.000000         0.0   Feb               2.0   \n2         0.200000   0.200000    0.000000         0.0   Feb               4.0   \n3         0.050000   0.140000    0.000000         0.0   Feb               3.0   \n4         0.020000   0.050000    0.000000         0.0   Feb               3.0   \n...            ...        ...         ...         ...   ...               ...   \n12325     0.007143   0.029031   12.241717         0.0   Dec               4.0   \n12326     0.000000   0.021333    0.000000         0.0   Nov               3.0   \n12327     0.083333   0.086667    0.000000         0.0   Nov               3.0   \n12328     0.000000   0.021053    0.000000         0.0   Nov               2.0   \n12329     0.000000   0.066667    0.000000         0.0   Nov               3.0   \n\n       Browser  Region  TrafficType        VisitorType  Weekend  Revenue  \n0            1       1            1  Returning_Visitor    False    False  \n1            2       1            2  Returning_Visitor    False    False  \n2            1       9            3  Returning_Visitor    False    False  \n3            2       2            4  Returning_Visitor    False    False  \n4            3       1            4  Returning_Visitor     True    False  \n...        ...     ...          ...                ...      ...      ...  \n12325        6       1            1  Returning_Visitor     True    False  \n12326        2       1            8  Returning_Visitor     True    False  \n12327        2       1           13  Returning_Visitor     True    False  \n12328        2       3           11  Returning_Visitor    False    False  \n12329        2       1            2        New_Visitor     True    False  \n\n[12330 rows x 18 columns]>\n",
     "output_type": "stream"
    }
   ],
   "execution_count": null
  },
  {
   "cell_type": "code",
   "metadata": {
    "scrolled": true,
    "cell_id": "00002-6a863cdf-be54-4af0-b1ac-4c6238369f41",
    "deepnote_to_be_reexecuted": false,
    "source_hash": "d740cbe",
    "execution_start": 1629075599732,
    "execution_millis": 16,
    "deepnote_cell_type": "code"
   },
   "source": "# worth noting, there are 12,330 rows and 18 columns\n# some data types may need to be changed\n# checking nulls in data\n\ntable.isnull().sum()",
   "outputs": [
    {
     "output_type": "execute_result",
     "execution_count": 4,
     "data": {
      "text/plain": "Administrative               0\nAdministrative_Duration      0\nInformational              128\nInformational_Duration       0\nProductRelated               0\nProductRelated_Duration      0\nBounceRates                  0\nExitRates                    0\nPageValues                 135\nSpecialDay                   0\nMonth                        0\nOperatingSystems           123\nBrowser                      0\nRegion                       0\nTrafficType                  0\nVisitorType                  0\nWeekend                      0\nRevenue                      0\ndtype: int64"
     },
     "metadata": {}
    }
   ],
   "execution_count": null
  },
  {
   "cell_type": "code",
   "metadata": {
    "tags": [],
    "cell_id": "00003-c37d3fb3-ac41-486c-9c39-96518965dd82",
    "deepnote_to_be_reexecuted": false,
    "source_hash": "d23d521c",
    "execution_start": 1629075599745,
    "execution_millis": 301,
    "deepnote_cell_type": "code"
   },
   "source": "# viewing descriptive statistics for all columns of dataset\n\ntable.describe()",
   "outputs": [
    {
     "output_type": "execute_result",
     "execution_count": 5,
     "data": {
      "application/vnd.deepnote.dataframe.v2+json": {
       "row_count": 8,
       "column_count": 14,
       "columns": [
        {
         "name": "Administrative",
         "dtype": "float64",
         "stats": {
          "unique_count": 7,
          "nan_count": 0,
          "min": "0.0",
          "max": "12330.0",
          "histogram": [
           {
            "bin_start": 0,
            "bin_end": 1233,
            "count": 7
           },
           {
            "bin_start": 1233,
            "bin_end": 2466,
            "count": 0
           },
           {
            "bin_start": 2466,
            "bin_end": 3699,
            "count": 0
           },
           {
            "bin_start": 3699,
            "bin_end": 4932,
            "count": 0
           },
           {
            "bin_start": 4932,
            "bin_end": 6165,
            "count": 0
           },
           {
            "bin_start": 6165,
            "bin_end": 7398,
            "count": 0
           },
           {
            "bin_start": 7398,
            "bin_end": 8631,
            "count": 0
           },
           {
            "bin_start": 8631,
            "bin_end": 9864,
            "count": 0
           },
           {
            "bin_start": 9864,
            "bin_end": 11097,
            "count": 0
           },
           {
            "bin_start": 11097,
            "bin_end": 12330,
            "count": 1
           }
          ]
         }
        },
        {
         "name": "Administrative_Duration",
         "dtype": "float64",
         "stats": {
          "unique_count": 7,
          "nan_count": 0,
          "min": "0.0",
          "max": "12330.0",
          "histogram": [
           {
            "bin_start": 0,
            "bin_end": 1233,
            "count": 6
           },
           {
            "bin_start": 1233,
            "bin_end": 2466,
            "count": 0
           },
           {
            "bin_start": 2466,
            "bin_end": 3699,
            "count": 1
           },
           {
            "bin_start": 3699,
            "bin_end": 4932,
            "count": 0
           },
           {
            "bin_start": 4932,
            "bin_end": 6165,
            "count": 0
           },
           {
            "bin_start": 6165,
            "bin_end": 7398,
            "count": 0
           },
           {
            "bin_start": 7398,
            "bin_end": 8631,
            "count": 0
           },
           {
            "bin_start": 8631,
            "bin_end": 9864,
            "count": 0
           },
           {
            "bin_start": 9864,
            "bin_end": 11097,
            "count": 0
           },
           {
            "bin_start": 11097,
            "bin_end": 12330,
            "count": 1
           }
          ]
         }
        },
        {
         "name": "Informational",
         "dtype": "float64",
         "stats": {
          "unique_count": 5,
          "nan_count": 0,
          "min": "0.0",
          "max": "12202.0",
          "histogram": [
           {
            "bin_start": 0,
            "bin_end": 1220.2,
            "count": 7
           },
           {
            "bin_start": 1220.2,
            "bin_end": 2440.4,
            "count": 0
           },
           {
            "bin_start": 2440.4,
            "bin_end": 3660.6000000000004,
            "count": 0
           },
           {
            "bin_start": 3660.6000000000004,
            "bin_end": 4880.8,
            "count": 0
           },
           {
            "bin_start": 4880.8,
            "bin_end": 6101,
            "count": 0
           },
           {
            "bin_start": 6101,
            "bin_end": 7321.200000000001,
            "count": 0
           },
           {
            "bin_start": 7321.200000000001,
            "bin_end": 8541.4,
            "count": 0
           },
           {
            "bin_start": 8541.4,
            "bin_end": 9761.6,
            "count": 0
           },
           {
            "bin_start": 9761.6,
            "bin_end": 10981.800000000001,
            "count": 0
           },
           {
            "bin_start": 10981.800000000001,
            "bin_end": 12202,
            "count": 1
           }
          ]
         }
        },
        {
         "name": "Informational_Duration",
         "dtype": "float64",
         "stats": {
          "unique_count": 5,
          "nan_count": 0,
          "min": "0.0",
          "max": "12330.0",
          "histogram": [
           {
            "bin_start": 0,
            "bin_end": 1233,
            "count": 6
           },
           {
            "bin_start": 1233,
            "bin_end": 2466,
            "count": 0
           },
           {
            "bin_start": 2466,
            "bin_end": 3699,
            "count": 1
           },
           {
            "bin_start": 3699,
            "bin_end": 4932,
            "count": 0
           },
           {
            "bin_start": 4932,
            "bin_end": 6165,
            "count": 0
           },
           {
            "bin_start": 6165,
            "bin_end": 7398,
            "count": 0
           },
           {
            "bin_start": 7398,
            "bin_end": 8631,
            "count": 0
           },
           {
            "bin_start": 8631,
            "bin_end": 9864,
            "count": 0
           },
           {
            "bin_start": 9864,
            "bin_end": 11097,
            "count": 0
           },
           {
            "bin_start": 11097,
            "bin_end": 12330,
            "count": 1
           }
          ]
         }
        },
        {
         "name": "ProductRelated",
         "dtype": "float64",
         "stats": {
          "unique_count": 8,
          "nan_count": 0,
          "min": "0.0",
          "max": "12330.0",
          "histogram": [
           {
            "bin_start": 0,
            "bin_end": 1233,
            "count": 7
           },
           {
            "bin_start": 1233,
            "bin_end": 2466,
            "count": 0
           },
           {
            "bin_start": 2466,
            "bin_end": 3699,
            "count": 0
           },
           {
            "bin_start": 3699,
            "bin_end": 4932,
            "count": 0
           },
           {
            "bin_start": 4932,
            "bin_end": 6165,
            "count": 0
           },
           {
            "bin_start": 6165,
            "bin_end": 7398,
            "count": 0
           },
           {
            "bin_start": 7398,
            "bin_end": 8631,
            "count": 0
           },
           {
            "bin_start": 8631,
            "bin_end": 9864,
            "count": 0
           },
           {
            "bin_start": 9864,
            "bin_end": 11097,
            "count": 0
           },
           {
            "bin_start": 11097,
            "bin_end": 12330,
            "count": 1
           }
          ]
         }
        },
        {
         "name": "ProductRelated_Duration",
         "dtype": "float64",
         "stats": {
          "unique_count": 8,
          "nan_count": 0,
          "min": "0.0",
          "max": "63973.52223",
          "histogram": [
           {
            "bin_start": 0,
            "bin_end": 6397.352223,
            "count": 6
           },
           {
            "bin_start": 6397.352223,
            "bin_end": 12794.704446,
            "count": 1
           },
           {
            "bin_start": 12794.704446,
            "bin_end": 19192.056668999998,
            "count": 0
           },
           {
            "bin_start": 19192.056668999998,
            "bin_end": 25589.408892,
            "count": 0
           },
           {
            "bin_start": 25589.408892,
            "bin_end": 31986.761115,
            "count": 0
           },
           {
            "bin_start": 31986.761115,
            "bin_end": 38384.113337999996,
            "count": 0
           },
           {
            "bin_start": 38384.113337999996,
            "bin_end": 44781.465561,
            "count": 0
           },
           {
            "bin_start": 44781.465561,
            "bin_end": 51178.817784,
            "count": 0
           },
           {
            "bin_start": 51178.817784,
            "bin_end": 57576.170007,
            "count": 0
           },
           {
            "bin_start": 57576.170007,
            "bin_end": 63973.52223,
            "count": 1
           }
          ]
         }
        },
        {
         "name": "BounceRates",
         "dtype": "float64",
         "stats": {
          "unique_count": 7,
          "nan_count": 0,
          "min": "0.0",
          "max": "12330.0",
          "histogram": [
           {
            "bin_start": 0,
            "bin_end": 1233,
            "count": 7
           },
           {
            "bin_start": 1233,
            "bin_end": 2466,
            "count": 0
           },
           {
            "bin_start": 2466,
            "bin_end": 3699,
            "count": 0
           },
           {
            "bin_start": 3699,
            "bin_end": 4932,
            "count": 0
           },
           {
            "bin_start": 4932,
            "bin_end": 6165,
            "count": 0
           },
           {
            "bin_start": 6165,
            "bin_end": 7398,
            "count": 0
           },
           {
            "bin_start": 7398,
            "bin_end": 8631,
            "count": 0
           },
           {
            "bin_start": 8631,
            "bin_end": 9864,
            "count": 0
           },
           {
            "bin_start": 9864,
            "bin_end": 11097,
            "count": 0
           },
           {
            "bin_start": 11097,
            "bin_end": 12330,
            "count": 1
           }
          ]
         }
        },
        {
         "name": "ExitRates",
         "dtype": "float64",
         "stats": {
          "unique_count": 8,
          "nan_count": 0,
          "min": "0.0",
          "max": "12330.0",
          "histogram": [
           {
            "bin_start": 0,
            "bin_end": 1233,
            "count": 7
           },
           {
            "bin_start": 1233,
            "bin_end": 2466,
            "count": 0
           },
           {
            "bin_start": 2466,
            "bin_end": 3699,
            "count": 0
           },
           {
            "bin_start": 3699,
            "bin_end": 4932,
            "count": 0
           },
           {
            "bin_start": 4932,
            "bin_end": 6165,
            "count": 0
           },
           {
            "bin_start": 6165,
            "bin_end": 7398,
            "count": 0
           },
           {
            "bin_start": 7398,
            "bin_end": 8631,
            "count": 0
           },
           {
            "bin_start": 8631,
            "bin_end": 9864,
            "count": 0
           },
           {
            "bin_start": 9864,
            "bin_end": 11097,
            "count": 0
           },
           {
            "bin_start": 11097,
            "bin_end": 12330,
            "count": 1
           }
          ]
         }
        },
        {
         "name": "PageValues",
         "dtype": "float64",
         "stats": {
          "unique_count": 5,
          "nan_count": 0,
          "min": "0.0",
          "max": "12195.0",
          "histogram": [
           {
            "bin_start": 0,
            "bin_end": 1219.5,
            "count": 7
           },
           {
            "bin_start": 1219.5,
            "bin_end": 2439,
            "count": 0
           },
           {
            "bin_start": 2439,
            "bin_end": 3658.5,
            "count": 0
           },
           {
            "bin_start": 3658.5,
            "bin_end": 4878,
            "count": 0
           },
           {
            "bin_start": 4878,
            "bin_end": 6097.5,
            "count": 0
           },
           {
            "bin_start": 6097.5,
            "bin_end": 7317,
            "count": 0
           },
           {
            "bin_start": 7317,
            "bin_end": 8536.5,
            "count": 0
           },
           {
            "bin_start": 8536.5,
            "bin_end": 9756,
            "count": 0
           },
           {
            "bin_start": 9756,
            "bin_end": 10975.5,
            "count": 0
           },
           {
            "bin_start": 10975.5,
            "bin_end": 12195,
            "count": 1
           }
          ]
         }
        },
        {
         "name": "SpecialDay",
         "dtype": "float64",
         "stats": {
          "unique_count": 5,
          "nan_count": 0,
          "min": "0.0",
          "max": "12330.0",
          "histogram": [
           {
            "bin_start": 0,
            "bin_end": 1233,
            "count": 7
           },
           {
            "bin_start": 1233,
            "bin_end": 2466,
            "count": 0
           },
           {
            "bin_start": 2466,
            "bin_end": 3699,
            "count": 0
           },
           {
            "bin_start": 3699,
            "bin_end": 4932,
            "count": 0
           },
           {
            "bin_start": 4932,
            "bin_end": 6165,
            "count": 0
           },
           {
            "bin_start": 6165,
            "bin_end": 7398,
            "count": 0
           },
           {
            "bin_start": 7398,
            "bin_end": 8631,
            "count": 0
           },
           {
            "bin_start": 8631,
            "bin_end": 9864,
            "count": 0
           },
           {
            "bin_start": 9864,
            "bin_end": 11097,
            "count": 0
           },
           {
            "bin_start": 11097,
            "bin_end": 12330,
            "count": 1
           }
          ]
         }
        },
        {
         "name": "OperatingSystems",
         "dtype": "float64",
         "stats": {
          "unique_count": 7,
          "nan_count": 0,
          "min": "0.9118290236414558",
          "max": "12207.0",
          "histogram": [
           {
            "bin_start": 0.9118290236414558,
            "bin_end": 1221.5206461212774,
            "count": 7
           },
           {
            "bin_start": 1221.5206461212774,
            "bin_end": 2442.1294632189133,
            "count": 0
           },
           {
            "bin_start": 2442.1294632189133,
            "bin_end": 3662.738280316549,
            "count": 0
           },
           {
            "bin_start": 3662.738280316549,
            "bin_end": 4883.347097414185,
            "count": 0
           },
           {
            "bin_start": 4883.347097414185,
            "bin_end": 6103.955914511821,
            "count": 0
           },
           {
            "bin_start": 6103.955914511821,
            "bin_end": 7324.564731609456,
            "count": 0
           },
           {
            "bin_start": 7324.564731609456,
            "bin_end": 8545.173548707093,
            "count": 0
           },
           {
            "bin_start": 8545.173548707093,
            "bin_end": 9765.78236580473,
            "count": 0
           },
           {
            "bin_start": 9765.78236580473,
            "bin_end": 10986.391182902365,
            "count": 0
           },
           {
            "bin_start": 10986.391182902365,
            "bin_end": 12207,
            "count": 1
           }
          ]
         }
        },
        {
         "name": "Browser",
         "dtype": "float64",
         "stats": {
          "unique_count": 6,
          "nan_count": 0,
          "min": "1.0",
          "max": "12330.0",
          "histogram": [
           {
            "bin_start": 1,
            "bin_end": 1233.9,
            "count": 7
           },
           {
            "bin_start": 1233.9,
            "bin_end": 2466.8,
            "count": 0
           },
           {
            "bin_start": 2466.8,
            "bin_end": 3699.7000000000003,
            "count": 0
           },
           {
            "bin_start": 3699.7000000000003,
            "bin_end": 4932.6,
            "count": 0
           },
           {
            "bin_start": 4932.6,
            "bin_end": 6165.5,
            "count": 0
           },
           {
            "bin_start": 6165.5,
            "bin_end": 7398.400000000001,
            "count": 0
           },
           {
            "bin_start": 7398.400000000001,
            "bin_end": 8631.300000000001,
            "count": 0
           },
           {
            "bin_start": 8631.300000000001,
            "bin_end": 9864.2,
            "count": 0
           },
           {
            "bin_start": 9864.2,
            "bin_end": 11097.1,
            "count": 0
           },
           {
            "bin_start": 11097.1,
            "bin_end": 12330,
            "count": 1
           }
          ]
         }
        },
        {
         "name": "Region",
         "dtype": "float64",
         "stats": {
          "unique_count": 7,
          "nan_count": 0,
          "min": "1.0",
          "max": "12330.0",
          "histogram": [
           {
            "bin_start": 1,
            "bin_end": 1233.9,
            "count": 7
           },
           {
            "bin_start": 1233.9,
            "bin_end": 2466.8,
            "count": 0
           },
           {
            "bin_start": 2466.8,
            "bin_end": 3699.7000000000003,
            "count": 0
           },
           {
            "bin_start": 3699.7000000000003,
            "bin_end": 4932.6,
            "count": 0
           },
           {
            "bin_start": 4932.6,
            "bin_end": 6165.5,
            "count": 0
           },
           {
            "bin_start": 6165.5,
            "bin_end": 7398.400000000001,
            "count": 0
           },
           {
            "bin_start": 7398.400000000001,
            "bin_end": 8631.300000000001,
            "count": 0
           },
           {
            "bin_start": 8631.300000000001,
            "bin_end": 9864.2,
            "count": 0
           },
           {
            "bin_start": 9864.2,
            "bin_end": 11097.1,
            "count": 0
           },
           {
            "bin_start": 11097.1,
            "bin_end": 12330,
            "count": 1
           }
          ]
         }
        },
        {
         "name": "TrafficType",
         "dtype": "float64",
         "stats": {
          "unique_count": 7,
          "nan_count": 0,
          "min": "1.0",
          "max": "12330.0",
          "histogram": [
           {
            "bin_start": 1,
            "bin_end": 1233.9,
            "count": 7
           },
           {
            "bin_start": 1233.9,
            "bin_end": 2466.8,
            "count": 0
           },
           {
            "bin_start": 2466.8,
            "bin_end": 3699.7000000000003,
            "count": 0
           },
           {
            "bin_start": 3699.7000000000003,
            "bin_end": 4932.6,
            "count": 0
           },
           {
            "bin_start": 4932.6,
            "bin_end": 6165.5,
            "count": 0
           },
           {
            "bin_start": 6165.5,
            "bin_end": 7398.400000000001,
            "count": 0
           },
           {
            "bin_start": 7398.400000000001,
            "bin_end": 8631.300000000001,
            "count": 0
           },
           {
            "bin_start": 8631.300000000001,
            "bin_end": 9864.2,
            "count": 0
           },
           {
            "bin_start": 9864.2,
            "bin_end": 11097.1,
            "count": 0
           },
           {
            "bin_start": 11097.1,
            "bin_end": 12330,
            "count": 1
           }
          ]
         }
        },
        {
         "name": "_deepnote_index_column",
         "dtype": "object"
        }
       ],
       "rows_top": [
        {
         "Administrative": 12330,
         "Administrative_Duration": 12330,
         "Informational": 12202,
         "Informational_Duration": 12330,
         "ProductRelated": 12330,
         "ProductRelated_Duration": 12330,
         "BounceRates": 12330,
         "ExitRates": 12330,
         "PageValues": 12195,
         "SpecialDay": 12330,
         "OperatingSystems": 12207,
         "Browser": 12330,
         "Region": 12330,
         "TrafficType": 12330,
         "_deepnote_index_column": "count"
        },
        {
         "Administrative": 2.3151662611516626,
         "Administrative_Duration": 80.81861053933592,
         "Informational": 0.5037698737911818,
         "Informational_Duration": 34.47239792772304,
         "ProductRelated": 31.731467964314678,
         "ProductRelated_Duration": 1194.7462199688268,
         "BounceRates": 0.02219138047072181,
         "ExitRates": 0.04307279776650446,
         "PageValues": 5.911195928555637,
         "SpecialDay": 0.061427412814274135,
         "OperatingSystems": 2.123617596461047,
         "Browser": 2.357096512570965,
         "Region": 3.1473641524736413,
         "TrafficType": 4.069586374695864,
         "_deepnote_index_column": "mean"
        },
        {
         "Administrative": 3.3217841061569113,
         "Administrative_Duration": 176.77910747048634,
         "Informational": 1.2708816948952932,
         "Informational_Duration": 140.74929442219798,
         "ProductRelated": 44.47550330493652,
         "ProductRelated_Duration": 1913.6692878720035,
         "BounceRates": 0.04848832180626067,
         "ExitRates": 0.048596540551443565,
         "PageValues": 18.632115552408937,
         "SpecialDay": 0.19891727315262864,
         "OperatingSystems": 0.9118290236414558,
         "Browser": 1.7172766755534394,
         "Region": 2.401591236743714,
         "TrafficType": 4.025169160452515,
         "_deepnote_index_column": "std"
        },
        {
         "Administrative": 0,
         "Administrative_Duration": 0,
         "Informational": 0,
         "Informational_Duration": 0,
         "ProductRelated": 0,
         "ProductRelated_Duration": 0,
         "BounceRates": 0,
         "ExitRates": 0,
         "PageValues": 0,
         "SpecialDay": 0,
         "OperatingSystems": 1,
         "Browser": 1,
         "Region": 1,
         "TrafficType": 1,
         "_deepnote_index_column": "min"
        },
        {
         "Administrative": 0,
         "Administrative_Duration": 0,
         "Informational": 0,
         "Informational_Duration": 0,
         "ProductRelated": 7,
         "ProductRelated_Duration": 184.1375,
         "BounceRates": 0,
         "ExitRates": 0.014285714,
         "PageValues": 0,
         "SpecialDay": 0,
         "OperatingSystems": 2,
         "Browser": 2,
         "Region": 1,
         "TrafficType": 2,
         "_deepnote_index_column": "25%"
        },
        {
         "Administrative": 1,
         "Administrative_Duration": 7.5,
         "Informational": 0,
         "Informational_Duration": 0,
         "ProductRelated": 18,
         "ProductRelated_Duration": 598.9369047499999,
         "BounceRates": 0.00311246749999995,
         "ExitRates": 0.0251564025,
         "PageValues": 0,
         "SpecialDay": 0,
         "OperatingSystems": 2,
         "Browser": 2,
         "Region": 3,
         "TrafficType": 2,
         "_deepnote_index_column": "50%"
        },
        {
         "Administrative": 4,
         "Administrative_Duration": 93.25625,
         "Informational": 0,
         "Informational_Duration": 0,
         "ProductRelated": 38,
         "ProductRelated_Duration": 1464.1572135000001,
         "BounceRates": 0.016812558499999998,
         "ExitRates": 0.05,
         "PageValues": 0,
         "SpecialDay": 0,
         "OperatingSystems": 3,
         "Browser": 2,
         "Region": 4,
         "TrafficType": 4,
         "_deepnote_index_column": "75%"
        },
        {
         "Administrative": 27,
         "Administrative_Duration": 3398.75,
         "Informational": 24,
         "Informational_Duration": 2549.375,
         "ProductRelated": 705,
         "ProductRelated_Duration": 63973.52223,
         "BounceRates": 0.2,
         "ExitRates": 0.2,
         "PageValues": 361.7637419,
         "SpecialDay": 1,
         "OperatingSystems": 8,
         "Browser": 13,
         "Region": 9,
         "TrafficType": 20,
         "_deepnote_index_column": "max"
        }
       ],
       "rows_bottom": null
      },
      "text/plain": "       Administrative  Administrative_Duration  Informational  \\\ncount    12330.000000             12330.000000   12202.000000   \nmean         2.315166                80.818611       0.503770   \nstd          3.321784               176.779107       1.270882   \nmin          0.000000                 0.000000       0.000000   \n25%          0.000000                 0.000000       0.000000   \n50%          1.000000                 7.500000       0.000000   \n75%          4.000000                93.256250       0.000000   \nmax         27.000000              3398.750000      24.000000   \n\n       Informational_Duration  ProductRelated  ProductRelated_Duration  \\\ncount            12330.000000    12330.000000             12330.000000   \nmean                34.472398       31.731468              1194.746220   \nstd                140.749294       44.475503              1913.669288   \nmin                  0.000000        0.000000                 0.000000   \n25%                  0.000000        7.000000               184.137500   \n50%                  0.000000       18.000000               598.936905   \n75%                  0.000000       38.000000              1464.157214   \nmax               2549.375000      705.000000             63973.522230   \n\n        BounceRates     ExitRates    PageValues    SpecialDay  \\\ncount  12330.000000  12330.000000  12195.000000  12330.000000   \nmean       0.022191      0.043073      5.911196      0.061427   \nstd        0.048488      0.048597     18.632116      0.198917   \nmin        0.000000      0.000000      0.000000      0.000000   \n25%        0.000000      0.014286      0.000000      0.000000   \n50%        0.003112      0.025156      0.000000      0.000000   \n75%        0.016813      0.050000      0.000000      0.000000   \nmax        0.200000      0.200000    361.763742      1.000000   \n\n       OperatingSystems       Browser        Region   TrafficType  \ncount      12207.000000  12330.000000  12330.000000  12330.000000  \nmean           2.123618      2.357097      3.147364      4.069586  \nstd            0.911829      1.717277      2.401591      4.025169  \nmin            1.000000      1.000000      1.000000      1.000000  \n25%            2.000000      2.000000      1.000000      2.000000  \n50%            2.000000      2.000000      3.000000      2.000000  \n75%            3.000000      2.000000      4.000000      4.000000  \nmax            8.000000     13.000000      9.000000     20.000000  ",
      "text/html": "<div>\n<style scoped>\n    .dataframe tbody tr th:only-of-type {\n        vertical-align: middle;\n    }\n\n    .dataframe tbody tr th {\n        vertical-align: top;\n    }\n\n    .dataframe thead th {\n        text-align: right;\n    }\n</style>\n<table border=\"1\" class=\"dataframe\">\n  <thead>\n    <tr style=\"text-align: right;\">\n      <th></th>\n      <th>Administrative</th>\n      <th>Administrative_Duration</th>\n      <th>Informational</th>\n      <th>Informational_Duration</th>\n      <th>ProductRelated</th>\n      <th>ProductRelated_Duration</th>\n      <th>BounceRates</th>\n      <th>ExitRates</th>\n      <th>PageValues</th>\n      <th>SpecialDay</th>\n      <th>OperatingSystems</th>\n      <th>Browser</th>\n      <th>Region</th>\n      <th>TrafficType</th>\n    </tr>\n  </thead>\n  <tbody>\n    <tr>\n      <th>count</th>\n      <td>12330.000000</td>\n      <td>12330.000000</td>\n      <td>12202.000000</td>\n      <td>12330.000000</td>\n      <td>12330.000000</td>\n      <td>12330.000000</td>\n      <td>12330.000000</td>\n      <td>12330.000000</td>\n      <td>12195.000000</td>\n      <td>12330.000000</td>\n      <td>12207.000000</td>\n      <td>12330.000000</td>\n      <td>12330.000000</td>\n      <td>12330.000000</td>\n    </tr>\n    <tr>\n      <th>mean</th>\n      <td>2.315166</td>\n      <td>80.818611</td>\n      <td>0.503770</td>\n      <td>34.472398</td>\n      <td>31.731468</td>\n      <td>1194.746220</td>\n      <td>0.022191</td>\n      <td>0.043073</td>\n      <td>5.911196</td>\n      <td>0.061427</td>\n      <td>2.123618</td>\n      <td>2.357097</td>\n      <td>3.147364</td>\n      <td>4.069586</td>\n    </tr>\n    <tr>\n      <th>std</th>\n      <td>3.321784</td>\n      <td>176.779107</td>\n      <td>1.270882</td>\n      <td>140.749294</td>\n      <td>44.475503</td>\n      <td>1913.669288</td>\n      <td>0.048488</td>\n      <td>0.048597</td>\n      <td>18.632116</td>\n      <td>0.198917</td>\n      <td>0.911829</td>\n      <td>1.717277</td>\n      <td>2.401591</td>\n      <td>4.025169</td>\n    </tr>\n    <tr>\n      <th>min</th>\n      <td>0.000000</td>\n      <td>0.000000</td>\n      <td>0.000000</td>\n      <td>0.000000</td>\n      <td>0.000000</td>\n      <td>0.000000</td>\n      <td>0.000000</td>\n      <td>0.000000</td>\n      <td>0.000000</td>\n      <td>0.000000</td>\n      <td>1.000000</td>\n      <td>1.000000</td>\n      <td>1.000000</td>\n      <td>1.000000</td>\n    </tr>\n    <tr>\n      <th>25%</th>\n      <td>0.000000</td>\n      <td>0.000000</td>\n      <td>0.000000</td>\n      <td>0.000000</td>\n      <td>7.000000</td>\n      <td>184.137500</td>\n      <td>0.000000</td>\n      <td>0.014286</td>\n      <td>0.000000</td>\n      <td>0.000000</td>\n      <td>2.000000</td>\n      <td>2.000000</td>\n      <td>1.000000</td>\n      <td>2.000000</td>\n    </tr>\n    <tr>\n      <th>50%</th>\n      <td>1.000000</td>\n      <td>7.500000</td>\n      <td>0.000000</td>\n      <td>0.000000</td>\n      <td>18.000000</td>\n      <td>598.936905</td>\n      <td>0.003112</td>\n      <td>0.025156</td>\n      <td>0.000000</td>\n      <td>0.000000</td>\n      <td>2.000000</td>\n      <td>2.000000</td>\n      <td>3.000000</td>\n      <td>2.000000</td>\n    </tr>\n    <tr>\n      <th>75%</th>\n      <td>4.000000</td>\n      <td>93.256250</td>\n      <td>0.000000</td>\n      <td>0.000000</td>\n      <td>38.000000</td>\n      <td>1464.157214</td>\n      <td>0.016813</td>\n      <td>0.050000</td>\n      <td>0.000000</td>\n      <td>0.000000</td>\n      <td>3.000000</td>\n      <td>2.000000</td>\n      <td>4.000000</td>\n      <td>4.000000</td>\n    </tr>\n    <tr>\n      <th>max</th>\n      <td>27.000000</td>\n      <td>3398.750000</td>\n      <td>24.000000</td>\n      <td>2549.375000</td>\n      <td>705.000000</td>\n      <td>63973.522230</td>\n      <td>0.200000</td>\n      <td>0.200000</td>\n      <td>361.763742</td>\n      <td>1.000000</td>\n      <td>8.000000</td>\n      <td>13.000000</td>\n      <td>9.000000</td>\n      <td>20.000000</td>\n    </tr>\n  </tbody>\n</table>\n</div>"
     },
     "metadata": {}
    }
   ],
   "execution_count": null
  },
  {
   "cell_type": "code",
   "metadata": {
    "scrolled": true,
    "cell_id": "00003-e6d29160-57b1-4b56-a3fe-6859079518b7",
    "deepnote_to_be_reexecuted": false,
    "source_hash": "7954e988",
    "execution_start": 1629075599954,
    "execution_millis": 92,
    "deepnote_cell_type": "code"
   },
   "source": "# The null value for the data are within the parameters Informational, PageValues and Operating systems.\n# While there aren't many overall nulls compared to the amount of data, they can easily be filled\n# for Informational and Page Values, at least 75% of the data is 0, which is the mode and median\n# Operating system should be an integer, so we'll go with median as well\n\n\ntable[[\"Informational\", \"PageValues\",\"OperatingSystems\"]] = table[\n    [\"Informational\", \"PageValues\",\"OperatingSystems\"]\n].fillna(table[[\"Informational\", \"PageValues\",\"OperatingSystems\"]].median())\n\n\ntable.isnull().sum()",
   "outputs": [
    {
     "output_type": "execute_result",
     "execution_count": 6,
     "data": {
      "text/plain": "Administrative             0\nAdministrative_Duration    0\nInformational              0\nInformational_Duration     0\nProductRelated             0\nProductRelated_Duration    0\nBounceRates                0\nExitRates                  0\nPageValues                 0\nSpecialDay                 0\nMonth                      0\nOperatingSystems           0\nBrowser                    0\nRegion                     0\nTrafficType                0\nVisitorType                0\nWeekend                    0\nRevenue                    0\ndtype: int64"
     },
     "metadata": {}
    }
   ],
   "execution_count": null
  },
  {
   "cell_type": "code",
   "source": "# After filling nulls, check for median values of variables grouped by if Revenue is True or not\n\ntable.groupby('Revenue').median()",
   "metadata": {
    "tags": [],
    "cell_id": "00006-f72d5354-cc38-41f1-a7bb-7240ad9644a0",
    "deepnote_to_be_reexecuted": false,
    "source_hash": "487f2dd0",
    "execution_start": 1629075599955,
    "execution_millis": 91,
    "deepnote_cell_type": "code"
   },
   "outputs": [
    {
     "output_type": "execute_result",
     "execution_count": 7,
     "data": {
      "application/vnd.deepnote.dataframe.v2+json": {
       "row_count": 2,
       "column_count": 15,
       "columns": [
        {
         "name": "Administrative",
         "dtype": "int64",
         "stats": {
          "unique_count": 2,
          "nan_count": 0,
          "min": "0",
          "max": "2",
          "histogram": [
           {
            "bin_start": 0,
            "bin_end": 0.2,
            "count": 1
           },
           {
            "bin_start": 0.2,
            "bin_end": 0.4,
            "count": 0
           },
           {
            "bin_start": 0.4,
            "bin_end": 0.6000000000000001,
            "count": 0
           },
           {
            "bin_start": 0.6000000000000001,
            "bin_end": 0.8,
            "count": 0
           },
           {
            "bin_start": 0.8,
            "bin_end": 1,
            "count": 0
           },
           {
            "bin_start": 1,
            "bin_end": 1.2000000000000002,
            "count": 0
           },
           {
            "bin_start": 1.2000000000000002,
            "bin_end": 1.4000000000000001,
            "count": 0
           },
           {
            "bin_start": 1.4000000000000001,
            "bin_end": 1.6,
            "count": 0
           },
           {
            "bin_start": 1.6,
            "bin_end": 1.8,
            "count": 0
           },
           {
            "bin_start": 1.8,
            "bin_end": 2,
            "count": 1
           }
          ]
         }
        },
        {
         "name": "Administrative_Duration",
         "dtype": "float64",
         "stats": {
          "unique_count": 2,
          "nan_count": 0,
          "min": "0.0",
          "max": "52.366666665",
          "histogram": [
           {
            "bin_start": 0,
            "bin_end": 5.2366666665,
            "count": 1
           },
           {
            "bin_start": 5.2366666665,
            "bin_end": 10.473333333,
            "count": 0
           },
           {
            "bin_start": 10.473333333,
            "bin_end": 15.709999999499999,
            "count": 0
           },
           {
            "bin_start": 15.709999999499999,
            "bin_end": 20.946666666,
            "count": 0
           },
           {
            "bin_start": 20.946666666,
            "bin_end": 26.1833333325,
            "count": 0
           },
           {
            "bin_start": 26.1833333325,
            "bin_end": 31.419999998999998,
            "count": 0
           },
           {
            "bin_start": 31.419999998999998,
            "bin_end": 36.6566666655,
            "count": 0
           },
           {
            "bin_start": 36.6566666655,
            "bin_end": 41.893333332,
            "count": 0
           },
           {
            "bin_start": 41.893333332,
            "bin_end": 47.1299999985,
            "count": 0
           },
           {
            "bin_start": 47.1299999985,
            "bin_end": 52.366666665,
            "count": 1
           }
          ]
         }
        },
        {
         "name": "Informational",
         "dtype": "float64",
         "stats": {
          "unique_count": 1,
          "nan_count": 0,
          "min": "0.0",
          "max": "0.0",
          "histogram": [
           {
            "bin_start": -0.5,
            "bin_end": -0.4,
            "count": 0
           },
           {
            "bin_start": -0.4,
            "bin_end": -0.3,
            "count": 0
           },
           {
            "bin_start": -0.3,
            "bin_end": -0.19999999999999996,
            "count": 0
           },
           {
            "bin_start": -0.19999999999999996,
            "bin_end": -0.09999999999999998,
            "count": 0
           },
           {
            "bin_start": -0.09999999999999998,
            "bin_end": 0,
            "count": 0
           },
           {
            "bin_start": 0,
            "bin_end": 0.10000000000000009,
            "count": 2
           },
           {
            "bin_start": 0.10000000000000009,
            "bin_end": 0.20000000000000007,
            "count": 0
           },
           {
            "bin_start": 0.20000000000000007,
            "bin_end": 0.30000000000000004,
            "count": 0
           },
           {
            "bin_start": 0.30000000000000004,
            "bin_end": 0.4,
            "count": 0
           },
           {
            "bin_start": 0.4,
            "bin_end": 0.5,
            "count": 0
           }
          ]
         }
        },
        {
         "name": "Informational_Duration",
         "dtype": "float64",
         "stats": {
          "unique_count": 1,
          "nan_count": 0,
          "min": "0.0",
          "max": "0.0",
          "histogram": [
           {
            "bin_start": -0.5,
            "bin_end": -0.4,
            "count": 0
           },
           {
            "bin_start": -0.4,
            "bin_end": -0.3,
            "count": 0
           },
           {
            "bin_start": -0.3,
            "bin_end": -0.19999999999999996,
            "count": 0
           },
           {
            "bin_start": -0.19999999999999996,
            "bin_end": -0.09999999999999998,
            "count": 0
           },
           {
            "bin_start": -0.09999999999999998,
            "bin_end": 0,
            "count": 0
           },
           {
            "bin_start": 0,
            "bin_end": 0.10000000000000009,
            "count": 2
           },
           {
            "bin_start": 0.10000000000000009,
            "bin_end": 0.20000000000000007,
            "count": 0
           },
           {
            "bin_start": 0.20000000000000007,
            "bin_end": 0.30000000000000004,
            "count": 0
           },
           {
            "bin_start": 0.30000000000000004,
            "bin_end": 0.4,
            "count": 0
           },
           {
            "bin_start": 0.4,
            "bin_end": 0.5,
            "count": 0
           }
          ]
         }
        },
        {
         "name": "ProductRelated",
         "dtype": "int64",
         "stats": {
          "unique_count": 2,
          "nan_count": 0,
          "min": "16",
          "max": "29",
          "histogram": [
           {
            "bin_start": 16,
            "bin_end": 17.3,
            "count": 1
           },
           {
            "bin_start": 17.3,
            "bin_end": 18.6,
            "count": 0
           },
           {
            "bin_start": 18.6,
            "bin_end": 19.9,
            "count": 0
           },
           {
            "bin_start": 19.9,
            "bin_end": 21.2,
            "count": 0
           },
           {
            "bin_start": 21.2,
            "bin_end": 22.5,
            "count": 0
           },
           {
            "bin_start": 22.5,
            "bin_end": 23.8,
            "count": 0
           },
           {
            "bin_start": 23.8,
            "bin_end": 25.1,
            "count": 0
           },
           {
            "bin_start": 25.1,
            "bin_end": 26.4,
            "count": 0
           },
           {
            "bin_start": 26.4,
            "bin_end": 27.700000000000003,
            "count": 0
           },
           {
            "bin_start": 27.700000000000003,
            "bin_end": 29,
            "count": 1
           }
          ]
         }
        },
        {
         "name": "ProductRelated_Duration",
         "dtype": "float64",
         "stats": {
          "unique_count": 2,
          "nan_count": 0,
          "min": "510.19",
          "max": "1109.90625",
          "histogram": [
           {
            "bin_start": 510.19,
            "bin_end": 570.161625,
            "count": 1
           },
           {
            "bin_start": 570.161625,
            "bin_end": 630.13325,
            "count": 0
           },
           {
            "bin_start": 630.13325,
            "bin_end": 690.104875,
            "count": 0
           },
           {
            "bin_start": 690.104875,
            "bin_end": 750.0765,
            "count": 0
           },
           {
            "bin_start": 750.0765,
            "bin_end": 810.048125,
            "count": 0
           },
           {
            "bin_start": 810.048125,
            "bin_end": 870.0197499999999,
            "count": 0
           },
           {
            "bin_start": 870.0197499999999,
            "bin_end": 929.991375,
            "count": 0
           },
           {
            "bin_start": 929.991375,
            "bin_end": 989.963,
            "count": 0
           },
           {
            "bin_start": 989.963,
            "bin_end": 1049.9346249999999,
            "count": 0
           },
           {
            "bin_start": 1049.9346249999999,
            "bin_end": 1109.90625,
            "count": 1
           }
          ]
         }
        },
        {
         "name": "BounceRates",
         "dtype": "float64",
         "stats": {
          "unique_count": 2,
          "nan_count": 0,
          "min": "0.0",
          "max": "0.004255319",
          "histogram": [
           {
            "bin_start": 0,
            "bin_end": 0.00042553189999999997,
            "count": 1
           },
           {
            "bin_start": 0.00042553189999999997,
            "bin_end": 0.0008510637999999999,
            "count": 0
           },
           {
            "bin_start": 0.0008510637999999999,
            "bin_end": 0.0012765957,
            "count": 0
           },
           {
            "bin_start": 0.0012765957,
            "bin_end": 0.0017021275999999999,
            "count": 0
           },
           {
            "bin_start": 0.0017021275999999999,
            "bin_end": 0.0021276595,
            "count": 0
           },
           {
            "bin_start": 0.0021276595,
            "bin_end": 0.0025531914,
            "count": 0
           },
           {
            "bin_start": 0.0025531914,
            "bin_end": 0.0029787232999999996,
            "count": 0
           },
           {
            "bin_start": 0.0029787232999999996,
            "bin_end": 0.0034042551999999998,
            "count": 0
           },
           {
            "bin_start": 0.0034042551999999998,
            "bin_end": 0.0038297871,
            "count": 0
           },
           {
            "bin_start": 0.0038297871,
            "bin_end": 0.004255319,
            "count": 1
           }
          ]
         }
        },
        {
         "name": "ExitRates",
         "dtype": "float64",
         "stats": {
          "unique_count": 2,
          "nan_count": 0,
          "min": "0.016",
          "max": "0.028571429",
          "histogram": [
           {
            "bin_start": 0.016,
            "bin_end": 0.0172571429,
            "count": 1
           },
           {
            "bin_start": 0.0172571429,
            "bin_end": 0.0185142858,
            "count": 0
           },
           {
            "bin_start": 0.0185142858,
            "bin_end": 0.0197714287,
            "count": 0
           },
           {
            "bin_start": 0.0197714287,
            "bin_end": 0.0210285716,
            "count": 0
           },
           {
            "bin_start": 0.0210285716,
            "bin_end": 0.022285714499999998,
            "count": 0
           },
           {
            "bin_start": 0.022285714499999998,
            "bin_end": 0.0235428574,
            "count": 0
           },
           {
            "bin_start": 0.0235428574,
            "bin_end": 0.0248000003,
            "count": 0
           },
           {
            "bin_start": 0.0248000003,
            "bin_end": 0.0260571432,
            "count": 0
           },
           {
            "bin_start": 0.0260571432,
            "bin_end": 0.027314286099999998,
            "count": 0
           },
           {
            "bin_start": 0.027314286099999998,
            "bin_end": 0.028571429,
            "count": 1
           }
          ]
         }
        },
        {
         "name": "PageValues",
         "dtype": "float64",
         "stats": {
          "unique_count": 2,
          "nan_count": 0,
          "min": "0.0",
          "max": "16.33919226",
          "histogram": [
           {
            "bin_start": 0,
            "bin_end": 1.6339192260000002,
            "count": 1
           },
           {
            "bin_start": 1.6339192260000002,
            "bin_end": 3.2678384520000003,
            "count": 0
           },
           {
            "bin_start": 3.2678384520000003,
            "bin_end": 4.901757678000001,
            "count": 0
           },
           {
            "bin_start": 4.901757678000001,
            "bin_end": 6.535676904000001,
            "count": 0
           },
           {
            "bin_start": 6.535676904000001,
            "bin_end": 8.16959613,
            "count": 0
           },
           {
            "bin_start": 8.16959613,
            "bin_end": 9.803515356000002,
            "count": 0
           },
           {
            "bin_start": 9.803515356000002,
            "bin_end": 11.437434582000002,
            "count": 0
           },
           {
            "bin_start": 11.437434582000002,
            "bin_end": 13.071353808000001,
            "count": 0
           },
           {
            "bin_start": 13.071353808000001,
            "bin_end": 14.705273034000001,
            "count": 0
           },
           {
            "bin_start": 14.705273034000001,
            "bin_end": 16.33919226,
            "count": 1
           }
          ]
         }
        },
        {
         "name": "SpecialDay",
         "dtype": "float64",
         "stats": {
          "unique_count": 1,
          "nan_count": 0,
          "min": "0.0",
          "max": "0.0",
          "histogram": [
           {
            "bin_start": -0.5,
            "bin_end": -0.4,
            "count": 0
           },
           {
            "bin_start": -0.4,
            "bin_end": -0.3,
            "count": 0
           },
           {
            "bin_start": -0.3,
            "bin_end": -0.19999999999999996,
            "count": 0
           },
           {
            "bin_start": -0.19999999999999996,
            "bin_end": -0.09999999999999998,
            "count": 0
           },
           {
            "bin_start": -0.09999999999999998,
            "bin_end": 0,
            "count": 0
           },
           {
            "bin_start": 0,
            "bin_end": 0.10000000000000009,
            "count": 2
           },
           {
            "bin_start": 0.10000000000000009,
            "bin_end": 0.20000000000000007,
            "count": 0
           },
           {
            "bin_start": 0.20000000000000007,
            "bin_end": 0.30000000000000004,
            "count": 0
           },
           {
            "bin_start": 0.30000000000000004,
            "bin_end": 0.4,
            "count": 0
           },
           {
            "bin_start": 0.4,
            "bin_end": 0.5,
            "count": 0
           }
          ]
         }
        },
        {
         "name": "OperatingSystems",
         "dtype": "float64",
         "stats": {
          "unique_count": 1,
          "nan_count": 0,
          "min": "2.0",
          "max": "2.0",
          "histogram": [
           {
            "bin_start": 1.5,
            "bin_end": 1.6,
            "count": 0
           },
           {
            "bin_start": 1.6,
            "bin_end": 1.7,
            "count": 0
           },
           {
            "bin_start": 1.7,
            "bin_end": 1.8,
            "count": 0
           },
           {
            "bin_start": 1.8,
            "bin_end": 1.9,
            "count": 0
           },
           {
            "bin_start": 1.9,
            "bin_end": 2,
            "count": 0
           },
           {
            "bin_start": 2,
            "bin_end": 2.1,
            "count": 2
           },
           {
            "bin_start": 2.1,
            "bin_end": 2.2,
            "count": 0
           },
           {
            "bin_start": 2.2,
            "bin_end": 2.3,
            "count": 0
           },
           {
            "bin_start": 2.3,
            "bin_end": 2.4,
            "count": 0
           },
           {
            "bin_start": 2.4,
            "bin_end": 2.5,
            "count": 0
           }
          ]
         }
        },
        {
         "name": "Browser",
         "dtype": "int64",
         "stats": {
          "unique_count": 1,
          "nan_count": 0,
          "min": "2",
          "max": "2",
          "histogram": [
           {
            "bin_start": 1.5,
            "bin_end": 1.6,
            "count": 0
           },
           {
            "bin_start": 1.6,
            "bin_end": 1.7,
            "count": 0
           },
           {
            "bin_start": 1.7,
            "bin_end": 1.8,
            "count": 0
           },
           {
            "bin_start": 1.8,
            "bin_end": 1.9,
            "count": 0
           },
           {
            "bin_start": 1.9,
            "bin_end": 2,
            "count": 0
           },
           {
            "bin_start": 2,
            "bin_end": 2.1,
            "count": 2
           },
           {
            "bin_start": 2.1,
            "bin_end": 2.2,
            "count": 0
           },
           {
            "bin_start": 2.2,
            "bin_end": 2.3,
            "count": 0
           },
           {
            "bin_start": 2.3,
            "bin_end": 2.4,
            "count": 0
           },
           {
            "bin_start": 2.4,
            "bin_end": 2.5,
            "count": 0
           }
          ]
         }
        },
        {
         "name": "Region",
         "dtype": "int64",
         "stats": {
          "unique_count": 2,
          "nan_count": 0,
          "min": "2",
          "max": "3",
          "histogram": [
           {
            "bin_start": 2,
            "bin_end": 2.1,
            "count": 1
           },
           {
            "bin_start": 2.1,
            "bin_end": 2.2,
            "count": 0
           },
           {
            "bin_start": 2.2,
            "bin_end": 2.3,
            "count": 0
           },
           {
            "bin_start": 2.3,
            "bin_end": 2.4,
            "count": 0
           },
           {
            "bin_start": 2.4,
            "bin_end": 2.5,
            "count": 0
           },
           {
            "bin_start": 2.5,
            "bin_end": 2.6,
            "count": 0
           },
           {
            "bin_start": 2.6,
            "bin_end": 2.7,
            "count": 0
           },
           {
            "bin_start": 2.7,
            "bin_end": 2.8,
            "count": 0
           },
           {
            "bin_start": 2.8,
            "bin_end": 2.9,
            "count": 0
           },
           {
            "bin_start": 2.9,
            "bin_end": 3,
            "count": 1
           }
          ]
         }
        },
        {
         "name": "TrafficType",
         "dtype": "int64",
         "stats": {
          "unique_count": 1,
          "nan_count": 0,
          "min": "2",
          "max": "2",
          "histogram": [
           {
            "bin_start": 1.5,
            "bin_end": 1.6,
            "count": 0
           },
           {
            "bin_start": 1.6,
            "bin_end": 1.7,
            "count": 0
           },
           {
            "bin_start": 1.7,
            "bin_end": 1.8,
            "count": 0
           },
           {
            "bin_start": 1.8,
            "bin_end": 1.9,
            "count": 0
           },
           {
            "bin_start": 1.9,
            "bin_end": 2,
            "count": 0
           },
           {
            "bin_start": 2,
            "bin_end": 2.1,
            "count": 2
           },
           {
            "bin_start": 2.1,
            "bin_end": 2.2,
            "count": 0
           },
           {
            "bin_start": 2.2,
            "bin_end": 2.3,
            "count": 0
           },
           {
            "bin_start": 2.3,
            "bin_end": 2.4,
            "count": 0
           },
           {
            "bin_start": 2.4,
            "bin_end": 2.5,
            "count": 0
           }
          ]
         }
        },
        {
         "name": "Weekend",
         "dtype": "bool",
         "stats": {
          "unique_count": 1,
          "nan_count": 0,
          "categories": [
           {
            "name": "False",
            "count": 2
           }
          ]
         }
        },
        {
         "name": "_deepnote_index_column",
         "dtype": "object"
        }
       ],
       "rows_top": [
        {
         "Administrative": 0,
         "Administrative_Duration": 0,
         "Informational": 0,
         "Informational_Duration": 0,
         "ProductRelated": 16,
         "ProductRelated_Duration": 510.19,
         "BounceRates": 0.004255319,
         "ExitRates": 0.028571429,
         "PageValues": 0,
         "SpecialDay": 0,
         "OperatingSystems": 2,
         "Browser": 2,
         "Region": 3,
         "TrafficType": 2,
         "Weekend": "False",
         "_deepnote_index_column": "False"
        },
        {
         "Administrative": 2,
         "Administrative_Duration": 52.366666665,
         "Informational": 0,
         "Informational_Duration": 0,
         "ProductRelated": 29,
         "ProductRelated_Duration": 1109.90625,
         "BounceRates": 0,
         "ExitRates": 0.016,
         "PageValues": 16.33919226,
         "SpecialDay": 0,
         "OperatingSystems": 2,
         "Browser": 2,
         "Region": 2,
         "TrafficType": 2,
         "Weekend": "False",
         "_deepnote_index_column": "True"
        }
       ],
       "rows_bottom": null
      },
      "text/plain": "         Administrative  Administrative_Duration  Informational  \\\nRevenue                                                           \nFalse                 0                 0.000000            0.0   \nTrue                  2                52.366667            0.0   \n\n         Informational_Duration  ProductRelated  ProductRelated_Duration  \\\nRevenue                                                                    \nFalse                       0.0              16                510.19000   \nTrue                        0.0              29               1109.90625   \n\n         BounceRates  ExitRates  PageValues  SpecialDay  OperatingSystems  \\\nRevenue                                                                     \nFalse       0.004255   0.028571    0.000000         0.0               2.0   \nTrue        0.000000   0.016000   16.339192         0.0               2.0   \n\n         Browser  Region  TrafficType  Weekend  \nRevenue                                         \nFalse          2       3            2    False  \nTrue           2       2            2    False  ",
      "text/html": "<div>\n<style scoped>\n    .dataframe tbody tr th:only-of-type {\n        vertical-align: middle;\n    }\n\n    .dataframe tbody tr th {\n        vertical-align: top;\n    }\n\n    .dataframe thead th {\n        text-align: right;\n    }\n</style>\n<table border=\"1\" class=\"dataframe\">\n  <thead>\n    <tr style=\"text-align: right;\">\n      <th></th>\n      <th>Administrative</th>\n      <th>Administrative_Duration</th>\n      <th>Informational</th>\n      <th>Informational_Duration</th>\n      <th>ProductRelated</th>\n      <th>ProductRelated_Duration</th>\n      <th>BounceRates</th>\n      <th>ExitRates</th>\n      <th>PageValues</th>\n      <th>SpecialDay</th>\n      <th>OperatingSystems</th>\n      <th>Browser</th>\n      <th>Region</th>\n      <th>TrafficType</th>\n      <th>Weekend</th>\n    </tr>\n    <tr>\n      <th>Revenue</th>\n      <th></th>\n      <th></th>\n      <th></th>\n      <th></th>\n      <th></th>\n      <th></th>\n      <th></th>\n      <th></th>\n      <th></th>\n      <th></th>\n      <th></th>\n      <th></th>\n      <th></th>\n      <th></th>\n      <th></th>\n    </tr>\n  </thead>\n  <tbody>\n    <tr>\n      <th>False</th>\n      <td>0</td>\n      <td>0.000000</td>\n      <td>0.0</td>\n      <td>0.0</td>\n      <td>16</td>\n      <td>510.19000</td>\n      <td>0.004255</td>\n      <td>0.028571</td>\n      <td>0.000000</td>\n      <td>0.0</td>\n      <td>2.0</td>\n      <td>2</td>\n      <td>3</td>\n      <td>2</td>\n      <td>False</td>\n    </tr>\n    <tr>\n      <th>True</th>\n      <td>2</td>\n      <td>52.366667</td>\n      <td>0.0</td>\n      <td>0.0</td>\n      <td>29</td>\n      <td>1109.90625</td>\n      <td>0.000000</td>\n      <td>0.016000</td>\n      <td>16.339192</td>\n      <td>0.0</td>\n      <td>2.0</td>\n      <td>2</td>\n      <td>2</td>\n      <td>2</td>\n      <td>False</td>\n    </tr>\n  </tbody>\n</table>\n</div>"
     },
     "metadata": {}
    }
   ],
   "execution_count": null
  },
  {
   "cell_type": "code",
   "source": "",
   "metadata": {
    "cell_id": "00007-2f2612d4-1b63-4355-92ba-6cc04bd749c7",
    "deepnote_to_be_reexecuted": false,
    "source_hash": "b623e53d",
    "execution_start": 1629075599956,
    "execution_millis": 42764,
    "deepnote_cell_type": "visualization"
   },
   "outputs": [],
   "execution_count": null
  },
  {
   "cell_type": "code",
   "source": "",
   "metadata": {
    "cell_id": "00007-aa4eae6f-b73e-4037-8c44-b31d2297dee3",
    "deepnote_to_be_reexecuted": false,
    "source_hash": "b623e53d",
    "execution_start": 1629075599956,
    "execution_millis": 42759,
    "deepnote_cell_type": "visualization"
   },
   "outputs": [],
   "execution_count": null
  },
  {
   "cell_type": "code",
   "metadata": {
    "tags": [],
    "cell_id": "00006-41674a99-8b5d-40ee-ad90-53b70a7209b1",
    "deepnote_to_be_reexecuted": false,
    "source_hash": "ea8efdb3",
    "execution_start": 1629075599957,
    "execution_millis": 0,
    "deepnote_cell_type": "code"
   },
   "source": "table.dtypes",
   "outputs": [
    {
     "output_type": "execute_result",
     "execution_count": 8,
     "data": {
      "text/plain": "Administrative               int64\nAdministrative_Duration    float64\nInformational              float64\nInformational_Duration     float64\nProductRelated               int64\nProductRelated_Duration    float64\nBounceRates                float64\nExitRates                  float64\nPageValues                 float64\nSpecialDay                 float64\nMonth                       object\nOperatingSystems           float64\nBrowser                      int64\nRegion                       int64\nTrafficType                  int64\nVisitorType                 object\nWeekend                       bool\nRevenue                       bool\ndtype: object"
     },
     "metadata": {}
    }
   ],
   "execution_count": null
  },
  {
   "cell_type": "code",
   "metadata": {
    "tags": [],
    "cell_id": "00007-221e77e6-a6ed-4033-82b4-ab3524b4ad6b",
    "deepnote_to_be_reexecuted": false,
    "source_hash": "3d4fe7e",
    "execution_start": 1629075599962,
    "execution_millis": 84,
    "deepnote_cell_type": "code"
   },
   "source": "# for now, Informational should change to an integer data type\n\ntable['Informational']=table['Informational'].astype('int64')\n\n\ntable.dtypes",
   "outputs": [
    {
     "output_type": "execute_result",
     "execution_count": 9,
     "data": {
      "text/plain": "Administrative               int64\nAdministrative_Duration    float64\nInformational                int64\nInformational_Duration     float64\nProductRelated               int64\nProductRelated_Duration    float64\nBounceRates                float64\nExitRates                  float64\nPageValues                 float64\nSpecialDay                 float64\nMonth                       object\nOperatingSystems           float64\nBrowser                      int64\nRegion                       int64\nTrafficType                  int64\nVisitorType                 object\nWeekend                       bool\nRevenue                       bool\ndtype: object"
     },
     "metadata": {}
    }
   ],
   "execution_count": null
  },
  {
   "cell_type": "code",
   "metadata": {
    "tags": [],
    "cell_id": "00007-9d5f386a-7c0b-46cc-a630-43fd4754a634",
    "deepnote_to_be_reexecuted": false,
    "source_hash": "e9aca1bd",
    "execution_start": 1629075599963,
    "execution_millis": 90,
    "deepnote_cell_type": "code"
   },
   "source": "# trying to see some boxplots of distributions to see if any outliers\n# first, create a new table of just the attributes\n\ntable_att = table.iloc[:,0:6]\n\ntable_att.head()",
   "outputs": [
    {
     "output_type": "execute_result",
     "execution_count": 10,
     "data": {
      "application/vnd.deepnote.dataframe.v2+json": {
       "row_count": 5,
       "column_count": 6,
       "columns": [
        {
         "name": "Administrative",
         "dtype": "int64",
         "stats": {
          "unique_count": 1,
          "nan_count": 0,
          "min": "0",
          "max": "0",
          "histogram": [
           {
            "bin_start": -0.5,
            "bin_end": -0.4,
            "count": 0
           },
           {
            "bin_start": -0.4,
            "bin_end": -0.3,
            "count": 0
           },
           {
            "bin_start": -0.3,
            "bin_end": -0.19999999999999996,
            "count": 0
           },
           {
            "bin_start": -0.19999999999999996,
            "bin_end": -0.09999999999999998,
            "count": 0
           },
           {
            "bin_start": -0.09999999999999998,
            "bin_end": 0,
            "count": 0
           },
           {
            "bin_start": 0,
            "bin_end": 0.10000000000000009,
            "count": 5
           },
           {
            "bin_start": 0.10000000000000009,
            "bin_end": 0.20000000000000007,
            "count": 0
           },
           {
            "bin_start": 0.20000000000000007,
            "bin_end": 0.30000000000000004,
            "count": 0
           },
           {
            "bin_start": 0.30000000000000004,
            "bin_end": 0.4,
            "count": 0
           },
           {
            "bin_start": 0.4,
            "bin_end": 0.5,
            "count": 0
           }
          ]
         }
        },
        {
         "name": "Administrative_Duration",
         "dtype": "float64",
         "stats": {
          "unique_count": 1,
          "nan_count": 0,
          "min": "0.0",
          "max": "0.0",
          "histogram": [
           {
            "bin_start": -0.5,
            "bin_end": -0.4,
            "count": 0
           },
           {
            "bin_start": -0.4,
            "bin_end": -0.3,
            "count": 0
           },
           {
            "bin_start": -0.3,
            "bin_end": -0.19999999999999996,
            "count": 0
           },
           {
            "bin_start": -0.19999999999999996,
            "bin_end": -0.09999999999999998,
            "count": 0
           },
           {
            "bin_start": -0.09999999999999998,
            "bin_end": 0,
            "count": 0
           },
           {
            "bin_start": 0,
            "bin_end": 0.10000000000000009,
            "count": 5
           },
           {
            "bin_start": 0.10000000000000009,
            "bin_end": 0.20000000000000007,
            "count": 0
           },
           {
            "bin_start": 0.20000000000000007,
            "bin_end": 0.30000000000000004,
            "count": 0
           },
           {
            "bin_start": 0.30000000000000004,
            "bin_end": 0.4,
            "count": 0
           },
           {
            "bin_start": 0.4,
            "bin_end": 0.5,
            "count": 0
           }
          ]
         }
        },
        {
         "name": "Informational",
         "dtype": "int64",
         "stats": {
          "unique_count": 1,
          "nan_count": 0,
          "min": "0",
          "max": "0",
          "histogram": [
           {
            "bin_start": -0.5,
            "bin_end": -0.4,
            "count": 0
           },
           {
            "bin_start": -0.4,
            "bin_end": -0.3,
            "count": 0
           },
           {
            "bin_start": -0.3,
            "bin_end": -0.19999999999999996,
            "count": 0
           },
           {
            "bin_start": -0.19999999999999996,
            "bin_end": -0.09999999999999998,
            "count": 0
           },
           {
            "bin_start": -0.09999999999999998,
            "bin_end": 0,
            "count": 0
           },
           {
            "bin_start": 0,
            "bin_end": 0.10000000000000009,
            "count": 5
           },
           {
            "bin_start": 0.10000000000000009,
            "bin_end": 0.20000000000000007,
            "count": 0
           },
           {
            "bin_start": 0.20000000000000007,
            "bin_end": 0.30000000000000004,
            "count": 0
           },
           {
            "bin_start": 0.30000000000000004,
            "bin_end": 0.4,
            "count": 0
           },
           {
            "bin_start": 0.4,
            "bin_end": 0.5,
            "count": 0
           }
          ]
         }
        },
        {
         "name": "Informational_Duration",
         "dtype": "float64",
         "stats": {
          "unique_count": 1,
          "nan_count": 0,
          "min": "0.0",
          "max": "0.0",
          "histogram": [
           {
            "bin_start": -0.5,
            "bin_end": -0.4,
            "count": 0
           },
           {
            "bin_start": -0.4,
            "bin_end": -0.3,
            "count": 0
           },
           {
            "bin_start": -0.3,
            "bin_end": -0.19999999999999996,
            "count": 0
           },
           {
            "bin_start": -0.19999999999999996,
            "bin_end": -0.09999999999999998,
            "count": 0
           },
           {
            "bin_start": -0.09999999999999998,
            "bin_end": 0,
            "count": 0
           },
           {
            "bin_start": 0,
            "bin_end": 0.10000000000000009,
            "count": 5
           },
           {
            "bin_start": 0.10000000000000009,
            "bin_end": 0.20000000000000007,
            "count": 0
           },
           {
            "bin_start": 0.20000000000000007,
            "bin_end": 0.30000000000000004,
            "count": 0
           },
           {
            "bin_start": 0.30000000000000004,
            "bin_end": 0.4,
            "count": 0
           },
           {
            "bin_start": 0.4,
            "bin_end": 0.5,
            "count": 0
           }
          ]
         }
        },
        {
         "name": "ProductRelated",
         "dtype": "int64",
         "stats": {
          "unique_count": 3,
          "nan_count": 0,
          "min": "1",
          "max": "10",
          "histogram": [
           {
            "bin_start": 1,
            "bin_end": 1.9,
            "count": 2
           },
           {
            "bin_start": 1.9,
            "bin_end": 2.8,
            "count": 2
           },
           {
            "bin_start": 2.8,
            "bin_end": 3.7,
            "count": 0
           },
           {
            "bin_start": 3.7,
            "bin_end": 4.6,
            "count": 0
           },
           {
            "bin_start": 4.6,
            "bin_end": 5.5,
            "count": 0
           },
           {
            "bin_start": 5.5,
            "bin_end": 6.4,
            "count": 0
           },
           {
            "bin_start": 6.4,
            "bin_end": 7.3,
            "count": 0
           },
           {
            "bin_start": 7.3,
            "bin_end": 8.2,
            "count": 0
           },
           {
            "bin_start": 8.2,
            "bin_end": 9.1,
            "count": 0
           },
           {
            "bin_start": 9.1,
            "bin_end": 10,
            "count": 1
           }
          ]
         }
        },
        {
         "name": "ProductRelated_Duration",
         "dtype": "float64",
         "stats": {
          "unique_count": 4,
          "nan_count": 0,
          "min": "0.0",
          "max": "627.5",
          "histogram": [
           {
            "bin_start": 0,
            "bin_end": 62.75,
            "count": 3
           },
           {
            "bin_start": 62.75,
            "bin_end": 125.5,
            "count": 1
           },
           {
            "bin_start": 125.5,
            "bin_end": 188.25,
            "count": 0
           },
           {
            "bin_start": 188.25,
            "bin_end": 251,
            "count": 0
           },
           {
            "bin_start": 251,
            "bin_end": 313.75,
            "count": 0
           },
           {
            "bin_start": 313.75,
            "bin_end": 376.5,
            "count": 0
           },
           {
            "bin_start": 376.5,
            "bin_end": 439.25,
            "count": 0
           },
           {
            "bin_start": 439.25,
            "bin_end": 502,
            "count": 0
           },
           {
            "bin_start": 502,
            "bin_end": 564.75,
            "count": 0
           },
           {
            "bin_start": 564.75,
            "bin_end": 627.5,
            "count": 1
           }
          ]
         }
        },
        {
         "name": "_deepnote_index_column",
         "dtype": "int64"
        }
       ],
       "rows_top": [
        {
         "Administrative": 0,
         "Administrative_Duration": 0,
         "Informational": 0,
         "Informational_Duration": 0,
         "ProductRelated": 1,
         "ProductRelated_Duration": 0,
         "_deepnote_index_column": 0
        },
        {
         "Administrative": 0,
         "Administrative_Duration": 0,
         "Informational": 0,
         "Informational_Duration": 0,
         "ProductRelated": 2,
         "ProductRelated_Duration": 64,
         "_deepnote_index_column": 1
        },
        {
         "Administrative": 0,
         "Administrative_Duration": 0,
         "Informational": 0,
         "Informational_Duration": 0,
         "ProductRelated": 1,
         "ProductRelated_Duration": 0,
         "_deepnote_index_column": 2
        },
        {
         "Administrative": 0,
         "Administrative_Duration": 0,
         "Informational": 0,
         "Informational_Duration": 0,
         "ProductRelated": 2,
         "ProductRelated_Duration": 2.666666667,
         "_deepnote_index_column": 3
        },
        {
         "Administrative": 0,
         "Administrative_Duration": 0,
         "Informational": 0,
         "Informational_Duration": 0,
         "ProductRelated": 10,
         "ProductRelated_Duration": 627.5,
         "_deepnote_index_column": 4
        }
       ],
       "rows_bottom": null
      },
      "text/plain": "   Administrative  Administrative_Duration  Informational  \\\n0               0                      0.0              0   \n1               0                      0.0              0   \n2               0                      0.0              0   \n3               0                      0.0              0   \n4               0                      0.0              0   \n\n   Informational_Duration  ProductRelated  ProductRelated_Duration  \n0                     0.0               1                 0.000000  \n1                     0.0               2                64.000000  \n2                     0.0               1                 0.000000  \n3                     0.0               2                 2.666667  \n4                     0.0              10               627.500000  ",
      "text/html": "<div>\n<style scoped>\n    .dataframe tbody tr th:only-of-type {\n        vertical-align: middle;\n    }\n\n    .dataframe tbody tr th {\n        vertical-align: top;\n    }\n\n    .dataframe thead th {\n        text-align: right;\n    }\n</style>\n<table border=\"1\" class=\"dataframe\">\n  <thead>\n    <tr style=\"text-align: right;\">\n      <th></th>\n      <th>Administrative</th>\n      <th>Administrative_Duration</th>\n      <th>Informational</th>\n      <th>Informational_Duration</th>\n      <th>ProductRelated</th>\n      <th>ProductRelated_Duration</th>\n    </tr>\n  </thead>\n  <tbody>\n    <tr>\n      <th>0</th>\n      <td>0</td>\n      <td>0.0</td>\n      <td>0</td>\n      <td>0.0</td>\n      <td>1</td>\n      <td>0.000000</td>\n    </tr>\n    <tr>\n      <th>1</th>\n      <td>0</td>\n      <td>0.0</td>\n      <td>0</td>\n      <td>0.0</td>\n      <td>2</td>\n      <td>64.000000</td>\n    </tr>\n    <tr>\n      <th>2</th>\n      <td>0</td>\n      <td>0.0</td>\n      <td>0</td>\n      <td>0.0</td>\n      <td>1</td>\n      <td>0.000000</td>\n    </tr>\n    <tr>\n      <th>3</th>\n      <td>0</td>\n      <td>0.0</td>\n      <td>0</td>\n      <td>0.0</td>\n      <td>2</td>\n      <td>2.666667</td>\n    </tr>\n    <tr>\n      <th>4</th>\n      <td>0</td>\n      <td>0.0</td>\n      <td>0</td>\n      <td>0.0</td>\n      <td>10</td>\n      <td>627.500000</td>\n    </tr>\n  </tbody>\n</table>\n</div>"
     },
     "metadata": {}
    }
   ],
   "execution_count": null
  },
  {
   "cell_type": "code",
   "metadata": {
    "tags": [],
    "cell_id": "00008-795c8c9a-1ac0-4fc0-afc9-0f1a1efcec05",
    "deepnote_to_be_reexecuted": false,
    "source_hash": "836a8592",
    "execution_start": 1629075600009,
    "execution_millis": 314,
    "deepnote_cell_type": "code"
   },
   "source": "# viewing boxplot of these attributes\n\nfig = plt.figure(figsize = (12,10))\ntable_att.boxplot()\nplt.show()",
   "outputs": [
    {
     "data": {
      "text/plain": "<Figure size 864x720 with 1 Axes>",
      "image/png": "[encoded data removed]"
     },
     "metadata": {
      "needs_background": "light",
      "image/png": {
       "width": 728,
       "height": 575
      }
     },
     "output_type": "display_data"
    }
   ],
   "execution_count": null
  },
  {
   "cell_type": "code",
   "metadata": {
    "cell_id": "00006-3f2e1e10-7599-4ae5-9888-c8719e2e52ff",
    "deepnote_to_be_reexecuted": false,
    "source_hash": "ed3364e3",
    "execution_start": 1629075600325,
    "execution_millis": 221,
    "deepnote_cell_type": "code"
   },
   "source": "# it's obvious there is a heavy positive skew for most of these variables. \n# Let's get a closer look at page visits for each to confirm for those as they're small on previous plot\n\ntable_att_pv = table_att[['Administrative','Informational','ProductRelated']]\nfig = plt.figure(figsize = (10,10))\ntable_att_pv.boxplot()\nplt.show()\n",
   "outputs": [
    {
     "data": {
      "text/plain": "<Figure size 720x720 with 1 Axes>",
      "image/png": "[encoded data removed]"
     },
     "metadata": {
      "needs_background": "light",
      "image/png": {
       "width": 598,
       "height": 575
      }
     },
     "output_type": "display_data"
    }
   ],
   "execution_count": null
  },
  {
   "cell_type": "code",
   "metadata": {
    "cell_id": "00007-b072faeb-225a-4d0e-b99a-ea7b537447dd",
    "deepnote_to_be_reexecuted": false,
    "source_hash": "c800384d",
    "execution_start": 1629075600544,
    "execution_millis": 219,
    "deepnote_cell_type": "code"
   },
   "source": "# Doing the same for metrics - Bounce rate, exit rate and page value\n\ntable_met = table.iloc[:,6:9]\nfig = plt.figure(figsize = (10,10))\ntable_met.boxplot()\nplt.show()\n",
   "outputs": [
    {
     "data": {
      "text/plain": "<Figure size 720x720 with 1 Axes>",
      "image/png": "[encoded data removed]"
     },
     "metadata": {
      "needs_background": "light",
      "image/png": {
       "width": 598,
       "height": 575
      }
     },
     "output_type": "display_data"
    }
   ],
   "execution_count": null
  },
  {
   "cell_type": "code",
   "metadata": {
    "tags": [],
    "cell_id": "00012-503096f6-aa50-476b-bd57-984abb2137ed",
    "deepnote_to_be_reexecuted": false,
    "source_hash": "85e6b528",
    "execution_start": 1629075600781,
    "execution_millis": 174,
    "deepnote_cell_type": "code"
   },
   "source": "#closer look at just bounce and exit rates\n\ntable_met = table_met.iloc[:,:2]\ntable_met.boxplot()\nplt.show()",
   "outputs": [
    {
     "data": {
      "text/plain": "<Figure size 432x288 with 1 Axes>",
      "image/png": "[encoded data removed]"
     },
     "metadata": {
      "needs_background": "light",
      "image/png": {
       "width": 384,
       "height": 248
      }
     },
     "output_type": "display_data"
    }
   ],
   "execution_count": null
  },
  {
   "cell_type": "code",
   "source": "round(table.corr(),2)",
   "metadata": {
    "tags": [],
    "cell_id": "00014-f2dc08f4-1f87-4583-83ae-a811a9dc4524",
    "deepnote_to_be_reexecuted": false,
    "source_hash": "156edb8f",
    "execution_start": 1629075600951,
    "execution_millis": 86,
    "deepnote_cell_type": "code"
   },
   "outputs": [
    {
     "output_type": "execute_result",
     "execution_count": 15,
     "data": {
      "application/vnd.deepnote.dataframe.v2+json": {
       "row_count": 16,
       "column_count": 16,
       "columns": [
        {
         "name": "Administrative",
         "dtype": "float64",
         "stats": {
          "unique_count": 13,
          "nan_count": 0,
          "min": "-0.32",
          "max": "1.0",
          "histogram": [
           {
            "bin_start": -0.32,
            "bin_end": -0.188,
            "count": 2
           },
           {
            "bin_start": -0.188,
            "bin_end": -0.055999999999999994,
            "count": 1
           },
           {
            "bin_start": -0.055999999999999994,
            "bin_end": 0.07600000000000001,
            "count": 5
           },
           {
            "bin_start": 0.07600000000000001,
            "bin_end": 0.20800000000000002,
            "count": 2
           },
           {
            "bin_start": 0.20800000000000002,
            "bin_end": 0.34,
            "count": 1
           },
           {
            "bin_start": 0.34,
            "bin_end": 0.47200000000000003,
            "count": 3
           },
           {
            "bin_start": 0.47200000000000003,
            "bin_end": 0.6040000000000001,
            "count": 1
           },
           {
            "bin_start": 0.6040000000000001,
            "bin_end": 0.736,
            "count": 0
           },
           {
            "bin_start": 0.736,
            "bin_end": 0.8680000000000001,
            "count": 0
           },
           {
            "bin_start": 0.8680000000000001,
            "bin_end": 1,
            "count": 1
           }
          ]
         }
        },
        {
         "name": "Administrative_Duration",
         "dtype": "float64",
         "stats": {
          "unique_count": 14,
          "nan_count": 0,
          "min": "-0.21",
          "max": "1.0",
          "histogram": [
           {
            "bin_start": -0.21,
            "bin_end": -0.089,
            "count": 2
           },
           {
            "bin_start": -0.089,
            "bin_end": 0.032,
            "count": 6
           },
           {
            "bin_start": 0.032,
            "bin_end": 0.153,
            "count": 2
           },
           {
            "bin_start": 0.153,
            "bin_end": 0.274,
            "count": 1
           },
           {
            "bin_start": 0.274,
            "bin_end": 0.395,
            "count": 3
           },
           {
            "bin_start": 0.395,
            "bin_end": 0.516,
            "count": 0
           },
           {
            "bin_start": 0.516,
            "bin_end": 0.637,
            "count": 1
           },
           {
            "bin_start": 0.637,
            "bin_end": 0.758,
            "count": 0
           },
           {
            "bin_start": 0.758,
            "bin_end": 0.879,
            "count": 0
           },
           {
            "bin_start": 0.879,
            "bin_end": 1,
            "count": 1
           }
          ]
         }
        },
        {
         "name": "Informational",
         "dtype": "float64",
         "stats": {
          "unique_count": 14,
          "nan_count": 0,
          "min": "-0.16",
          "max": "1.0",
          "histogram": [
           {
            "bin_start": -0.16,
            "bin_end": -0.04400000000000001,
            "count": 3
           },
           {
            "bin_start": -0.04400000000000001,
            "bin_end": 0.07199999999999998,
            "count": 6
           },
           {
            "bin_start": 0.07199999999999998,
            "bin_end": 0.18799999999999997,
            "count": 1
           },
           {
            "bin_start": 0.18799999999999997,
            "bin_end": 0.30399999999999994,
            "count": 1
           },
           {
            "bin_start": 0.30399999999999994,
            "bin_end": 0.41999999999999993,
            "count": 3
           },
           {
            "bin_start": 0.41999999999999993,
            "bin_end": 0.5359999999999999,
            "count": 0
           },
           {
            "bin_start": 0.5359999999999999,
            "bin_end": 0.6519999999999999,
            "count": 1
           },
           {
            "bin_start": 0.6519999999999999,
            "bin_end": 0.7679999999999999,
            "count": 0
           },
           {
            "bin_start": 0.7679999999999999,
            "bin_end": 0.884,
            "count": 0
           },
           {
            "bin_start": 0.884,
            "bin_end": 1,
            "count": 1
           }
          ]
         }
        },
        {
         "name": "Informational_Duration",
         "dtype": "float64",
         "stats": {
          "unique_count": 14,
          "nan_count": 0,
          "min": "-0.11",
          "max": "1.0",
          "histogram": [
           {
            "bin_start": -0.11,
            "bin_end": 0.0010000000000000148,
            "count": 7
           },
           {
            "bin_start": 0.0010000000000000148,
            "bin_end": 0.11200000000000003,
            "count": 3
           },
           {
            "bin_start": 0.11200000000000003,
            "bin_end": 0.2230000000000001,
            "count": 0
           },
           {
            "bin_start": 0.2230000000000001,
            "bin_end": 0.3340000000000001,
            "count": 3
           },
           {
            "bin_start": 0.3340000000000001,
            "bin_end": 0.44500000000000006,
            "count": 1
           },
           {
            "bin_start": 0.44500000000000006,
            "bin_end": 0.5560000000000002,
            "count": 0
           },
           {
            "bin_start": 0.5560000000000002,
            "bin_end": 0.6670000000000001,
            "count": 1
           },
           {
            "bin_start": 0.6670000000000001,
            "bin_end": 0.7780000000000001,
            "count": 0
           },
           {
            "bin_start": 0.7780000000000001,
            "bin_end": 0.8890000000000001,
            "count": 0
           },
           {
            "bin_start": 0.8890000000000001,
            "bin_end": 1,
            "count": 1
           }
          ]
         }
        },
        {
         "name": "ProductRelated",
         "dtype": "float64",
         "stats": {
          "unique_count": 15,
          "nan_count": 0,
          "min": "-0.29",
          "max": "1.0",
          "histogram": [
           {
            "bin_start": -0.29,
            "bin_end": -0.16099999999999998,
            "count": 2
           },
           {
            "bin_start": -0.16099999999999998,
            "bin_end": -0.03199999999999997,
            "count": 2
           },
           {
            "bin_start": -0.03199999999999997,
            "bin_end": 0.09700000000000003,
            "count": 5
           },
           {
            "bin_start": 0.09700000000000003,
            "bin_end": 0.22600000000000003,
            "count": 1
           },
           {
            "bin_start": 0.22600000000000003,
            "bin_end": 0.35500000000000004,
            "count": 2
           },
           {
            "bin_start": 0.35500000000000004,
            "bin_end": 0.48400000000000004,
            "count": 2
           },
           {
            "bin_start": 0.48400000000000004,
            "bin_end": 0.613,
            "count": 0
           },
           {
            "bin_start": 0.613,
            "bin_end": 0.742,
            "count": 0
           },
           {
            "bin_start": 0.742,
            "bin_end": 0.871,
            "count": 1
           },
           {
            "bin_start": 0.871,
            "bin_end": 1,
            "count": 1
           }
          ]
         }
        },
        {
         "name": "ProductRelated_Duration",
         "dtype": "float64",
         "stats": {
          "unique_count": 15,
          "nan_count": 0,
          "min": "-0.25",
          "max": "1.0",
          "histogram": [
           {
            "bin_start": -0.25,
            "bin_end": -0.125,
            "count": 2
           },
           {
            "bin_start": -0.125,
            "bin_end": 0,
            "count": 4
           },
           {
            "bin_start": 0,
            "bin_end": 0.125,
            "count": 3
           },
           {
            "bin_start": 0.125,
            "bin_end": 0.25,
            "count": 1
           },
           {
            "bin_start": 0.25,
            "bin_end": 0.375,
            "count": 3
           },
           {
            "bin_start": 0.375,
            "bin_end": 0.5,
            "count": 1
           },
           {
            "bin_start": 0.5,
            "bin_end": 0.625,
            "count": 0
           },
           {
            "bin_start": 0.625,
            "bin_end": 0.75,
            "count": 0
           },
           {
            "bin_start": 0.75,
            "bin_end": 0.875,
            "count": 1
           },
           {
            "bin_start": 0.875,
            "bin_end": 1,
            "count": 1
           }
          ]
         }
        },
        {
         "name": "BounceRates",
         "dtype": "float64",
         "stats": {
          "unique_count": 15,
          "nan_count": 0,
          "min": "-0.22",
          "max": "1.0",
          "histogram": [
           {
            "bin_start": -0.22,
            "bin_end": -0.098,
            "count": 7
           },
           {
            "bin_start": -0.098,
            "bin_end": 0.023999999999999994,
            "count": 5
           },
           {
            "bin_start": 0.023999999999999994,
            "bin_end": 0.146,
            "count": 2
           },
           {
            "bin_start": 0.146,
            "bin_end": 0.268,
            "count": 0
           },
           {
            "bin_start": 0.268,
            "bin_end": 0.39,
            "count": 0
           },
           {
            "bin_start": 0.39,
            "bin_end": 0.512,
            "count": 0
           },
           {
            "bin_start": 0.512,
            "bin_end": 0.634,
            "count": 0
           },
           {
            "bin_start": 0.634,
            "bin_end": 0.756,
            "count": 0
           },
           {
            "bin_start": 0.756,
            "bin_end": 0.8779999999999999,
            "count": 0
           },
           {
            "bin_start": 0.8779999999999999,
            "bin_end": 1,
            "count": 2
           }
          ]
         }
        },
        {
         "name": "ExitRates",
         "dtype": "float64",
         "stats": {
          "unique_count": 15,
          "nan_count": 0,
          "min": "-0.32",
          "max": "1.0",
          "histogram": [
           {
            "bin_start": -0.32,
            "bin_end": -0.188,
            "count": 5
           },
           {
            "bin_start": -0.188,
            "bin_end": -0.055999999999999994,
            "count": 4
           },
           {
            "bin_start": -0.055999999999999994,
            "bin_end": 0.07600000000000001,
            "count": 3
           },
           {
            "bin_start": 0.07600000000000001,
            "bin_end": 0.20800000000000002,
            "count": 2
           },
           {
            "bin_start": 0.20800000000000002,
            "bin_end": 0.34,
            "count": 0
           },
           {
            "bin_start": 0.34,
            "bin_end": 0.47200000000000003,
            "count": 0
           },
           {
            "bin_start": 0.47200000000000003,
            "bin_end": 0.6040000000000001,
            "count": 0
           },
           {
            "bin_start": 0.6040000000000001,
            "bin_end": 0.736,
            "count": 0
           },
           {
            "bin_start": 0.736,
            "bin_end": 0.8680000000000001,
            "count": 0
           },
           {
            "bin_start": 0.8680000000000001,
            "bin_end": 1,
            "count": 2
           }
          ]
         }
        },
        {
         "name": "PageValues",
         "dtype": "float64",
         "stats": {
          "unique_count": 12,
          "nan_count": 0,
          "min": "-0.17",
          "max": "1.0",
          "histogram": [
           {
            "bin_start": -0.17,
            "bin_end": -0.05300000000000002,
            "count": 3
           },
           {
            "bin_start": -0.05300000000000002,
            "bin_end": 0.06399999999999997,
            "count": 9
           },
           {
            "bin_start": 0.06399999999999997,
            "bin_end": 0.18099999999999997,
            "count": 2
           },
           {
            "bin_start": 0.18099999999999997,
            "bin_end": 0.29799999999999993,
            "count": 0
           },
           {
            "bin_start": 0.29799999999999993,
            "bin_end": 0.4149999999999999,
            "count": 0
           },
           {
            "bin_start": 0.4149999999999999,
            "bin_end": 0.5319999999999999,
            "count": 1
           },
           {
            "bin_start": 0.5319999999999999,
            "bin_end": 0.6489999999999999,
            "count": 0
           },
           {
            "bin_start": 0.6489999999999999,
            "bin_end": 0.7659999999999999,
            "count": 0
           },
           {
            "bin_start": 0.7659999999999999,
            "bin_end": 0.8829999999999999,
            "count": 0
           },
           {
            "bin_start": 0.8829999999999999,
            "bin_end": 1,
            "count": 1
           }
          ]
         }
        },
        {
         "name": "SpecialDay",
         "dtype": "float64",
         "stats": {
          "unique_count": 13,
          "nan_count": 0,
          "min": "-0.09",
          "max": "1.0",
          "histogram": [
           {
            "bin_start": -0.09,
            "bin_end": 0.019000000000000017,
            "count": 12
           },
           {
            "bin_start": 0.019000000000000017,
            "bin_end": 0.12800000000000003,
            "count": 3
           },
           {
            "bin_start": 0.12800000000000003,
            "bin_end": 0.23700000000000007,
            "count": 0
           },
           {
            "bin_start": 0.23700000000000007,
            "bin_end": 0.3460000000000001,
            "count": 0
           },
           {
            "bin_start": 0.3460000000000001,
            "bin_end": 0.45500000000000007,
            "count": 0
           },
           {
            "bin_start": 0.45500000000000007,
            "bin_end": 0.5640000000000002,
            "count": 0
           },
           {
            "bin_start": 0.5640000000000002,
            "bin_end": 0.6730000000000002,
            "count": 0
           },
           {
            "bin_start": 0.6730000000000002,
            "bin_end": 0.7820000000000001,
            "count": 0
           },
           {
            "bin_start": 0.7820000000000001,
            "bin_end": 0.8910000000000001,
            "count": 0
           },
           {
            "bin_start": 0.8910000000000001,
            "bin_end": 1,
            "count": 1
           }
          ]
         }
        },
        {
         "name": "OperatingSystems",
         "dtype": "float64",
         "stats": {
          "unique_count": 8,
          "nan_count": 0,
          "min": "-0.01",
          "max": "1.0",
          "histogram": [
           {
            "bin_start": -0.01,
            "bin_end": 0.09100000000000001,
            "count": 13
           },
           {
            "bin_start": 0.09100000000000001,
            "bin_end": 0.192,
            "count": 1
           },
           {
            "bin_start": 0.192,
            "bin_end": 0.29300000000000004,
            "count": 1
           },
           {
            "bin_start": 0.29300000000000004,
            "bin_end": 0.394,
            "count": 0
           },
           {
            "bin_start": 0.394,
            "bin_end": 0.495,
            "count": 0
           },
           {
            "bin_start": 0.495,
            "bin_end": 0.5960000000000001,
            "count": 0
           },
           {
            "bin_start": 0.5960000000000001,
            "bin_end": 0.6970000000000001,
            "count": 0
           },
           {
            "bin_start": 0.6970000000000001,
            "bin_end": 0.798,
            "count": 0
           },
           {
            "bin_start": 0.798,
            "bin_end": 0.899,
            "count": 0
           },
           {
            "bin_start": 0.899,
            "bin_end": 1,
            "count": 1
           }
          ]
         }
        },
        {
         "name": "Browser",
         "dtype": "float64",
         "stats": {
          "unique_count": 11,
          "nan_count": 0,
          "min": "-0.04",
          "max": "1.0",
          "histogram": [
           {
            "bin_start": -0.04,
            "bin_end": 0.064,
            "count": 12
           },
           {
            "bin_start": 0.064,
            "bin_end": 0.168,
            "count": 2
           },
           {
            "bin_start": 0.168,
            "bin_end": 0.2720000000000001,
            "count": 1
           },
           {
            "bin_start": 0.2720000000000001,
            "bin_end": 0.37600000000000006,
            "count": 0
           },
           {
            "bin_start": 0.37600000000000006,
            "bin_end": 0.48000000000000004,
            "count": 0
           },
           {
            "bin_start": 0.48000000000000004,
            "bin_end": 0.5840000000000001,
            "count": 0
           },
           {
            "bin_start": 0.5840000000000001,
            "bin_end": 0.6880000000000001,
            "count": 0
           },
           {
            "bin_start": 0.6880000000000001,
            "bin_end": 0.792,
            "count": 0
           },
           {
            "bin_start": 0.792,
            "bin_end": 0.896,
            "count": 0
           },
           {
            "bin_start": 0.896,
            "bin_end": 1,
            "count": 1
           }
          ]
         }
        },
        {
         "name": "Region",
         "dtype": "float64",
         "stats": {
          "unique_count": 10,
          "nan_count": 0,
          "min": "-0.04",
          "max": "1.0",
          "histogram": [
           {
            "bin_start": -0.04,
            "bin_end": 0.064,
            "count": 13
           },
           {
            "bin_start": 0.064,
            "bin_end": 0.168,
            "count": 2
           },
           {
            "bin_start": 0.168,
            "bin_end": 0.2720000000000001,
            "count": 0
           },
           {
            "bin_start": 0.2720000000000001,
            "bin_end": 0.37600000000000006,
            "count": 0
           },
           {
            "bin_start": 0.37600000000000006,
            "bin_end": 0.48000000000000004,
            "count": 0
           },
           {
            "bin_start": 0.48000000000000004,
            "bin_end": 0.5840000000000001,
            "count": 0
           },
           {
            "bin_start": 0.5840000000000001,
            "bin_end": 0.6880000000000001,
            "count": 0
           },
           {
            "bin_start": 0.6880000000000001,
            "bin_end": 0.792,
            "count": 0
           },
           {
            "bin_start": 0.792,
            "bin_end": 0.896,
            "count": 0
           },
           {
            "bin_start": 0.896,
            "bin_end": 1,
            "count": 1
           }
          ]
         }
        },
        {
         "name": "TrafficType",
         "dtype": "float64",
         "stats": {
          "unique_count": 11,
          "nan_count": 0,
          "min": "-0.04",
          "max": "1.0",
          "histogram": [
           {
            "bin_start": -0.04,
            "bin_end": 0.064,
            "count": 11
           },
           {
            "bin_start": 0.064,
            "bin_end": 0.168,
            "count": 3
           },
           {
            "bin_start": 0.168,
            "bin_end": 0.2720000000000001,
            "count": 1
           },
           {
            "bin_start": 0.2720000000000001,
            "bin_end": 0.37600000000000006,
            "count": 0
           },
           {
            "bin_start": 0.37600000000000006,
            "bin_end": 0.48000000000000004,
            "count": 0
           },
           {
            "bin_start": 0.48000000000000004,
            "bin_end": 0.5840000000000001,
            "count": 0
           },
           {
            "bin_start": 0.5840000000000001,
            "bin_end": 0.6880000000000001,
            "count": 0
           },
           {
            "bin_start": 0.6880000000000001,
            "bin_end": 0.792,
            "count": 0
           },
           {
            "bin_start": 0.792,
            "bin_end": 0.896,
            "count": 0
           },
           {
            "bin_start": 0.896,
            "bin_end": 1,
            "count": 1
           }
          ]
         }
        },
        {
         "name": "Weekend",
         "dtype": "float64",
         "stats": {
          "unique_count": 9,
          "nan_count": 0,
          "min": "-0.06",
          "max": "1.0",
          "histogram": [
           {
            "bin_start": -0.06,
            "bin_end": 0.04600000000000001,
            "count": 15
           },
           {
            "bin_start": 0.04600000000000001,
            "bin_end": 0.15200000000000002,
            "count": 0
           },
           {
            "bin_start": 0.15200000000000002,
            "bin_end": 0.25800000000000006,
            "count": 0
           },
           {
            "bin_start": 0.25800000000000006,
            "bin_end": 0.36400000000000005,
            "count": 0
           },
           {
            "bin_start": 0.36400000000000005,
            "bin_end": 0.47000000000000003,
            "count": 0
           },
           {
            "bin_start": 0.47000000000000003,
            "bin_end": 0.5760000000000001,
            "count": 0
           },
           {
            "bin_start": 0.5760000000000001,
            "bin_end": 0.6820000000000002,
            "count": 0
           },
           {
            "bin_start": 0.6820000000000002,
            "bin_end": 0.788,
            "count": 0
           },
           {
            "bin_start": 0.788,
            "bin_end": 0.8940000000000001,
            "count": 0
           },
           {
            "bin_start": 0.8940000000000001,
            "bin_end": 1,
            "count": 1
           }
          ]
         }
        },
        {
         "name": "Revenue",
         "dtype": "float64",
         "stats": {
          "unique_count": 13,
          "nan_count": 0,
          "min": "-0.21",
          "max": "1.0",
          "histogram": [
           {
            "bin_start": -0.21,
            "bin_end": -0.089,
            "count": 2
           },
           {
            "bin_start": -0.089,
            "bin_end": 0.032,
            "count": 6
           },
           {
            "bin_start": 0.032,
            "bin_end": 0.153,
            "count": 5
           },
           {
            "bin_start": 0.153,
            "bin_end": 0.274,
            "count": 1
           },
           {
            "bin_start": 0.274,
            "bin_end": 0.395,
            "count": 0
           },
           {
            "bin_start": 0.395,
            "bin_end": 0.516,
            "count": 1
           },
           {
            "bin_start": 0.516,
            "bin_end": 0.637,
            "count": 0
           },
           {
            "bin_start": 0.637,
            "bin_end": 0.758,
            "count": 0
           },
           {
            "bin_start": 0.758,
            "bin_end": 0.879,
            "count": 0
           },
           {
            "bin_start": 0.879,
            "bin_end": 1,
            "count": 1
           }
          ]
         }
        },
        {
         "name": "_deepnote_index_column",
         "dtype": "object"
        }
       ],
       "rows_top": [
        {
         "Administrative": 1,
         "Administrative_Duration": 0.6,
         "Informational": 0.37,
         "Informational_Duration": 0.26,
         "ProductRelated": 0.43,
         "ProductRelated_Duration": 0.37,
         "BounceRates": -0.22,
         "ExitRates": -0.32,
         "PageValues": 0.1,
         "SpecialDay": -0.09,
         "OperatingSystems": -0.01,
         "Browser": -0.03,
         "Region": -0.01,
         "TrafficType": -0.03,
         "Weekend": 0.03,
         "Revenue": 0.14,
         "_deepnote_index_column": "Administrative"
        },
        {
         "Administrative": 0.6,
         "Administrative_Duration": 1,
         "Informational": 0.3,
         "Informational_Duration": 0.24,
         "ProductRelated": 0.29,
         "ProductRelated_Duration": 0.36,
         "BounceRates": -0.14,
         "ExitRates": -0.21,
         "PageValues": 0.07,
         "SpecialDay": -0.07,
         "OperatingSystems": -0.01,
         "Browser": -0.02,
         "Region": -0.01,
         "TrafficType": -0.01,
         "Weekend": 0.01,
         "Revenue": 0.09,
         "_deepnote_index_column": "Administrative_Duration"
        },
        {
         "Administrative": 0.37,
         "Administrative_Duration": 0.3,
         "Informational": 1,
         "Informational_Duration": 0.62,
         "ProductRelated": 0.37,
         "ProductRelated_Duration": 0.38,
         "BounceRates": -0.12,
         "ExitRates": -0.16,
         "PageValues": 0.05,
         "SpecialDay": -0.05,
         "OperatingSystems": -0.01,
         "Browser": -0.04,
         "Region": -0.03,
         "TrafficType": -0.03,
         "Weekend": 0.03,
         "Revenue": 0.09,
         "_deepnote_index_column": "Informational"
        },
        {
         "Administrative": 0.26,
         "Administrative_Duration": 0.24,
         "Informational": 0.62,
         "Informational_Duration": 1,
         "ProductRelated": 0.28,
         "ProductRelated_Duration": 0.35,
         "BounceRates": -0.07,
         "ExitRates": -0.11,
         "PageValues": 0.03,
         "SpecialDay": -0.03,
         "OperatingSystems": -0.01,
         "Browser": -0.02,
         "Region": -0.03,
         "TrafficType": -0.02,
         "Weekend": 0.02,
         "Revenue": 0.07,
         "_deepnote_index_column": "Informational_Duration"
        },
        {
         "Administrative": 0.43,
         "Administrative_Duration": 0.29,
         "Informational": 0.37,
         "Informational_Duration": 0.28,
         "ProductRelated": 1,
         "ProductRelated_Duration": 0.86,
         "BounceRates": -0.2,
         "ExitRates": -0.29,
         "PageValues": 0.06,
         "SpecialDay": -0.02,
         "OperatingSystems": 0,
         "Browser": -0.01,
         "Region": -0.04,
         "TrafficType": -0.04,
         "Weekend": 0.02,
         "Revenue": 0.16,
         "_deepnote_index_column": "ProductRelated"
        },
        {
         "Administrative": 0.37,
         "Administrative_Duration": 0.36,
         "Informational": 0.38,
         "Informational_Duration": 0.35,
         "ProductRelated": 0.86,
         "ProductRelated_Duration": 1,
         "BounceRates": -0.18,
         "ExitRates": -0.25,
         "PageValues": 0.05,
         "SpecialDay": -0.04,
         "OperatingSystems": 0,
         "Browser": -0.01,
         "Region": -0.03,
         "TrafficType": -0.04,
         "Weekend": 0.01,
         "Revenue": 0.15,
         "_deepnote_index_column": "ProductRelated_Duration"
        },
        {
         "Administrative": -0.22,
         "Administrative_Duration": -0.14,
         "Informational": -0.12,
         "Informational_Duration": -0.07,
         "ProductRelated": -0.2,
         "ProductRelated_Duration": -0.18,
         "BounceRates": 1,
         "ExitRates": 0.91,
         "PageValues": -0.12,
         "SpecialDay": 0.07,
         "OperatingSystems": 0.02,
         "Browser": -0.02,
         "Region": -0.01,
         "TrafficType": 0.08,
         "Weekend": -0.05,
         "Revenue": -0.15,
         "_deepnote_index_column": "BounceRates"
        },
        {
         "Administrative": -0.32,
         "Administrative_Duration": -0.21,
         "Informational": -0.16,
         "Informational_Duration": -0.11,
         "ProductRelated": -0.29,
         "ProductRelated_Duration": -0.25,
         "BounceRates": 0.91,
         "ExitRates": 1,
         "PageValues": -0.17,
         "SpecialDay": 0.1,
         "OperatingSystems": 0.01,
         "Browser": 0,
         "Region": -0.01,
         "TrafficType": 0.08,
         "Weekend": -0.06,
         "Revenue": -0.21,
         "_deepnote_index_column": "ExitRates"
        },
        {
         "Administrative": 0.1,
         "Administrative_Duration": 0.07,
         "Informational": 0.05,
         "Informational_Duration": 0.03,
         "ProductRelated": 0.06,
         "ProductRelated_Duration": 0.05,
         "BounceRates": -0.12,
         "ExitRates": -0.17,
         "PageValues": 1,
         "SpecialDay": -0.07,
         "OperatingSystems": 0.02,
         "Browser": 0.05,
         "Region": 0.01,
         "TrafficType": 0.01,
         "Weekend": 0.01,
         "Revenue": 0.49,
         "_deepnote_index_column": "PageValues"
        },
        {
         "Administrative": -0.09,
         "Administrative_Duration": -0.07,
         "Informational": -0.05,
         "Informational_Duration": -0.03,
         "ProductRelated": -0.02,
         "ProductRelated_Duration": -0.04,
         "BounceRates": 0.07,
         "ExitRates": 0.1,
         "PageValues": -0.07,
         "SpecialDay": 1,
         "OperatingSystems": 0.01,
         "Browser": 0,
         "Region": -0.02,
         "TrafficType": 0.05,
         "Weekend": -0.02,
         "Revenue": -0.08,
         "_deepnote_index_column": "SpecialDay"
        },
        {
         "Administrative": -0.01,
         "Administrative_Duration": -0.01,
         "Informational": -0.01,
         "Informational_Duration": -0.01,
         "ProductRelated": 0,
         "ProductRelated_Duration": 0,
         "BounceRates": 0.02,
         "ExitRates": 0.01,
         "PageValues": 0.02,
         "SpecialDay": 0.01,
         "OperatingSystems": 1,
         "Browser": 0.22,
         "Region": 0.08,
         "TrafficType": 0.19,
         "Weekend": 0,
         "Revenue": -0.01,
         "_deepnote_index_column": "OperatingSystems"
        },
        {
         "Administrative": -0.03,
         "Administrative_Duration": -0.02,
         "Informational": -0.04,
         "Informational_Duration": -0.02,
         "ProductRelated": -0.01,
         "ProductRelated_Duration": -0.01,
         "BounceRates": -0.02,
         "ExitRates": 0,
         "PageValues": 0.05,
         "SpecialDay": 0,
         "OperatingSystems": 0.22,
         "Browser": 1,
         "Region": 0.1,
         "TrafficType": 0.11,
         "Weekend": -0.04,
         "Revenue": 0.02,
         "_deepnote_index_column": "Browser"
        },
        {
         "Administrative": -0.01,
         "Administrative_Duration": -0.01,
         "Informational": -0.03,
         "Informational_Duration": -0.03,
         "ProductRelated": -0.04,
         "ProductRelated_Duration": -0.03,
         "BounceRates": -0.01,
         "ExitRates": -0.01,
         "PageValues": 0.01,
         "SpecialDay": -0.02,
         "OperatingSystems": 0.08,
         "Browser": 0.1,
         "Region": 1,
         "TrafficType": 0.05,
         "Weekend": 0,
         "Revenue": -0.01,
         "_deepnote_index_column": "Region"
        },
        {
         "Administrative": -0.03,
         "Administrative_Duration": -0.01,
         "Informational": -0.03,
         "Informational_Duration": -0.02,
         "ProductRelated": -0.04,
         "ProductRelated_Duration": -0.04,
         "BounceRates": 0.08,
         "ExitRates": 0.08,
         "PageValues": 0.01,
         "SpecialDay": 0.05,
         "OperatingSystems": 0.19,
         "Browser": 0.11,
         "Region": 0.05,
         "TrafficType": 1,
         "Weekend": 0,
         "Revenue": -0.01,
         "_deepnote_index_column": "TrafficType"
        },
        {
         "Administrative": 0.03,
         "Administrative_Duration": 0.01,
         "Informational": 0.03,
         "Informational_Duration": 0.02,
         "ProductRelated": 0.02,
         "ProductRelated_Duration": 0.01,
         "BounceRates": -0.05,
         "ExitRates": -0.06,
         "PageValues": 0.01,
         "SpecialDay": -0.02,
         "OperatingSystems": 0,
         "Browser": -0.04,
         "Region": 0,
         "TrafficType": 0,
         "Weekend": 1,
         "Revenue": 0.03,
         "_deepnote_index_column": "Weekend"
        },
        {
         "Administrative": 0.14,
         "Administrative_Duration": 0.09,
         "Informational": 0.09,
         "Informational_Duration": 0.07,
         "ProductRelated": 0.16,
         "ProductRelated_Duration": 0.15,
         "BounceRates": -0.15,
         "ExitRates": -0.21,
         "PageValues": 0.49,
         "SpecialDay": -0.08,
         "OperatingSystems": -0.01,
         "Browser": 0.02,
         "Region": -0.01,
         "TrafficType": -0.01,
         "Weekend": 0.03,
         "Revenue": 1,
         "_deepnote_index_column": "Revenue"
        }
       ],
       "rows_bottom": null
      },
      "text/plain": "                         Administrative  Administrative_Duration  \\\nAdministrative                     1.00                     0.60   \nAdministrative_Duration            0.60                     1.00   \nInformational                      0.37                     0.30   \nInformational_Duration             0.26                     0.24   \nProductRelated                     0.43                     0.29   \nProductRelated_Duration            0.37                     0.36   \nBounceRates                       -0.22                    -0.14   \nExitRates                         -0.32                    -0.21   \nPageValues                         0.10                     0.07   \nSpecialDay                        -0.09                    -0.07   \nOperatingSystems                  -0.01                    -0.01   \nBrowser                           -0.03                    -0.02   \nRegion                            -0.01                    -0.01   \nTrafficType                       -0.03                    -0.01   \nWeekend                            0.03                     0.01   \nRevenue                            0.14                     0.09   \n\n                         Informational  Informational_Duration  \\\nAdministrative                    0.37                    0.26   \nAdministrative_Duration           0.30                    0.24   \nInformational                     1.00                    0.62   \nInformational_Duration            0.62                    1.00   \nProductRelated                    0.37                    0.28   \nProductRelated_Duration           0.38                    0.35   \nBounceRates                      -0.12                   -0.07   \nExitRates                        -0.16                   -0.11   \nPageValues                        0.05                    0.03   \nSpecialDay                       -0.05                   -0.03   \nOperatingSystems                 -0.01                   -0.01   \nBrowser                          -0.04                   -0.02   \nRegion                           -0.03                   -0.03   \nTrafficType                      -0.03                   -0.02   \nWeekend                           0.03                    0.02   \nRevenue                           0.09                    0.07   \n\n                         ProductRelated  ProductRelated_Duration  BounceRates  \\\nAdministrative                     0.43                     0.37        -0.22   \nAdministrative_Duration            0.29                     0.36        -0.14   \nInformational                      0.37                     0.38        -0.12   \nInformational_Duration             0.28                     0.35        -0.07   \nProductRelated                     1.00                     0.86        -0.20   \nProductRelated_Duration            0.86                     1.00        -0.18   \nBounceRates                       -0.20                    -0.18         1.00   \nExitRates                         -0.29                    -0.25         0.91   \nPageValues                         0.06                     0.05        -0.12   \nSpecialDay                        -0.02                    -0.04         0.07   \nOperatingSystems                   0.00                     0.00         0.02   \nBrowser                           -0.01                    -0.01        -0.02   \nRegion                            -0.04                    -0.03        -0.01   \nTrafficType                       -0.04                    -0.04         0.08   \nWeekend                            0.02                     0.01        -0.05   \nRevenue                            0.16                     0.15        -0.15   \n\n                         ExitRates  PageValues  SpecialDay  OperatingSystems  \\\nAdministrative               -0.32        0.10       -0.09             -0.01   \nAdministrative_Duration      -0.21        0.07       -0.07             -0.01   \nInformational                -0.16        0.05       -0.05             -0.01   \nInformational_Duration       -0.11        0.03       -0.03             -0.01   \nProductRelated               -0.29        0.06       -0.02              0.00   \nProductRelated_Duration      -0.25        0.05       -0.04              0.00   \nBounceRates                   0.91       -0.12        0.07              0.02   \nExitRates                     1.00       -0.17        0.10              0.01   \nPageValues                   -0.17        1.00       -0.07              0.02   \nSpecialDay                    0.10       -0.07        1.00              0.01   \nOperatingSystems              0.01        0.02        0.01              1.00   \nBrowser                      -0.00        0.05        0.00              0.22   \nRegion                       -0.01        0.01       -0.02              0.08   \nTrafficType                   0.08        0.01        0.05              0.19   \nWeekend                      -0.06        0.01       -0.02             -0.00   \nRevenue                      -0.21        0.49       -0.08             -0.01   \n\n                         Browser  Region  TrafficType  Weekend  Revenue  \nAdministrative             -0.03   -0.01        -0.03     0.03     0.14  \nAdministrative_Duration    -0.02   -0.01        -0.01     0.01     0.09  \nInformational              -0.04   -0.03        -0.03     0.03     0.09  \nInformational_Duration     -0.02   -0.03        -0.02     0.02     0.07  \nProductRelated             -0.01   -0.04        -0.04     0.02     0.16  \nProductRelated_Duration    -0.01   -0.03        -0.04     0.01     0.15  \nBounceRates                -0.02   -0.01         0.08    -0.05    -0.15  \nExitRates                  -0.00   -0.01         0.08    -0.06    -0.21  \nPageValues                  0.05    0.01         0.01     0.01     0.49  \nSpecialDay                  0.00   -0.02         0.05    -0.02    -0.08  \nOperatingSystems            0.22    0.08         0.19    -0.00    -0.01  \nBrowser                     1.00    0.10         0.11    -0.04     0.02  \nRegion                      0.10    1.00         0.05    -0.00    -0.01  \nTrafficType                 0.11    0.05         1.00    -0.00    -0.01  \nWeekend                    -0.04   -0.00        -0.00     1.00     0.03  \nRevenue                     0.02   -0.01        -0.01     0.03     1.00  ",
      "text/html": "<div>\n<style scoped>\n    .dataframe tbody tr th:only-of-type {\n        vertical-align: middle;\n    }\n\n    .dataframe tbody tr th {\n        vertical-align: top;\n    }\n\n    .dataframe thead th {\n        text-align: right;\n    }\n</style>\n<table border=\"1\" class=\"dataframe\">\n  <thead>\n    <tr style=\"text-align: right;\">\n      <th></th>\n      <th>Administrative</th>\n      <th>Administrative_Duration</th>\n      <th>Informational</th>\n      <th>Informational_Duration</th>\n      <th>ProductRelated</th>\n      <th>ProductRelated_Duration</th>\n      <th>BounceRates</th>\n      <th>ExitRates</th>\n      <th>PageValues</th>\n      <th>SpecialDay</th>\n      <th>OperatingSystems</th>\n      <th>Browser</th>\n      <th>Region</th>\n      <th>TrafficType</th>\n      <th>Weekend</th>\n      <th>Revenue</th>\n    </tr>\n  </thead>\n  <tbody>\n    <tr>\n      <th>Administrative</th>\n      <td>1.00</td>\n      <td>0.60</td>\n      <td>0.37</td>\n      <td>0.26</td>\n      <td>0.43</td>\n      <td>0.37</td>\n      <td>-0.22</td>\n      <td>-0.32</td>\n      <td>0.10</td>\n      <td>-0.09</td>\n      <td>-0.01</td>\n      <td>-0.03</td>\n      <td>-0.01</td>\n      <td>-0.03</td>\n      <td>0.03</td>\n      <td>0.14</td>\n    </tr>\n    <tr>\n      <th>Administrative_Duration</th>\n      <td>0.60</td>\n      <td>1.00</td>\n      <td>0.30</td>\n      <td>0.24</td>\n      <td>0.29</td>\n      <td>0.36</td>\n      <td>-0.14</td>\n      <td>-0.21</td>\n      <td>0.07</td>\n      <td>-0.07</td>\n      <td>-0.01</td>\n      <td>-0.02</td>\n      <td>-0.01</td>\n      <td>-0.01</td>\n      <td>0.01</td>\n      <td>0.09</td>\n    </tr>\n    <tr>\n      <th>Informational</th>\n      <td>0.37</td>\n      <td>0.30</td>\n      <td>1.00</td>\n      <td>0.62</td>\n      <td>0.37</td>\n      <td>0.38</td>\n      <td>-0.12</td>\n      <td>-0.16</td>\n      <td>0.05</td>\n      <td>-0.05</td>\n      <td>-0.01</td>\n      <td>-0.04</td>\n      <td>-0.03</td>\n      <td>-0.03</td>\n      <td>0.03</td>\n      <td>0.09</td>\n    </tr>\n    <tr>\n      <th>Informational_Duration</th>\n      <td>0.26</td>\n      <td>0.24</td>\n      <td>0.62</td>\n      <td>1.00</td>\n      <td>0.28</td>\n      <td>0.35</td>\n      <td>-0.07</td>\n      <td>-0.11</td>\n      <td>0.03</td>\n      <td>-0.03</td>\n      <td>-0.01</td>\n      <td>-0.02</td>\n      <td>-0.03</td>\n      <td>-0.02</td>\n      <td>0.02</td>\n      <td>0.07</td>\n    </tr>\n    <tr>\n      <th>ProductRelated</th>\n      <td>0.43</td>\n      <td>0.29</td>\n      <td>0.37</td>\n      <td>0.28</td>\n      <td>1.00</td>\n      <td>0.86</td>\n      <td>-0.20</td>\n      <td>-0.29</td>\n      <td>0.06</td>\n      <td>-0.02</td>\n      <td>0.00</td>\n      <td>-0.01</td>\n      <td>-0.04</td>\n      <td>-0.04</td>\n      <td>0.02</td>\n      <td>0.16</td>\n    </tr>\n    <tr>\n      <th>ProductRelated_Duration</th>\n      <td>0.37</td>\n      <td>0.36</td>\n      <td>0.38</td>\n      <td>0.35</td>\n      <td>0.86</td>\n      <td>1.00</td>\n      <td>-0.18</td>\n      <td>-0.25</td>\n      <td>0.05</td>\n      <td>-0.04</td>\n      <td>0.00</td>\n      <td>-0.01</td>\n      <td>-0.03</td>\n      <td>-0.04</td>\n      <td>0.01</td>\n      <td>0.15</td>\n    </tr>\n    <tr>\n      <th>BounceRates</th>\n      <td>-0.22</td>\n      <td>-0.14</td>\n      <td>-0.12</td>\n      <td>-0.07</td>\n      <td>-0.20</td>\n      <td>-0.18</td>\n      <td>1.00</td>\n      <td>0.91</td>\n      <td>-0.12</td>\n      <td>0.07</td>\n      <td>0.02</td>\n      <td>-0.02</td>\n      <td>-0.01</td>\n      <td>0.08</td>\n      <td>-0.05</td>\n      <td>-0.15</td>\n    </tr>\n    <tr>\n      <th>ExitRates</th>\n      <td>-0.32</td>\n      <td>-0.21</td>\n      <td>-0.16</td>\n      <td>-0.11</td>\n      <td>-0.29</td>\n      <td>-0.25</td>\n      <td>0.91</td>\n      <td>1.00</td>\n      <td>-0.17</td>\n      <td>0.10</td>\n      <td>0.01</td>\n      <td>-0.00</td>\n      <td>-0.01</td>\n      <td>0.08</td>\n      <td>-0.06</td>\n      <td>-0.21</td>\n    </tr>\n    <tr>\n      <th>PageValues</th>\n      <td>0.10</td>\n      <td>0.07</td>\n      <td>0.05</td>\n      <td>0.03</td>\n      <td>0.06</td>\n      <td>0.05</td>\n      <td>-0.12</td>\n      <td>-0.17</td>\n      <td>1.00</td>\n      <td>-0.07</td>\n      <td>0.02</td>\n      <td>0.05</td>\n      <td>0.01</td>\n      <td>0.01</td>\n      <td>0.01</td>\n      <td>0.49</td>\n    </tr>\n    <tr>\n      <th>SpecialDay</th>\n      <td>-0.09</td>\n      <td>-0.07</td>\n      <td>-0.05</td>\n      <td>-0.03</td>\n      <td>-0.02</td>\n      <td>-0.04</td>\n      <td>0.07</td>\n      <td>0.10</td>\n      <td>-0.07</td>\n      <td>1.00</td>\n      <td>0.01</td>\n      <td>0.00</td>\n      <td>-0.02</td>\n      <td>0.05</td>\n      <td>-0.02</td>\n      <td>-0.08</td>\n    </tr>\n    <tr>\n      <th>OperatingSystems</th>\n      <td>-0.01</td>\n      <td>-0.01</td>\n      <td>-0.01</td>\n      <td>-0.01</td>\n      <td>0.00</td>\n      <td>0.00</td>\n      <td>0.02</td>\n      <td>0.01</td>\n      <td>0.02</td>\n      <td>0.01</td>\n      <td>1.00</td>\n      <td>0.22</td>\n      <td>0.08</td>\n      <td>0.19</td>\n      <td>-0.00</td>\n      <td>-0.01</td>\n    </tr>\n    <tr>\n      <th>Browser</th>\n      <td>-0.03</td>\n      <td>-0.02</td>\n      <td>-0.04</td>\n      <td>-0.02</td>\n      <td>-0.01</td>\n      <td>-0.01</td>\n      <td>-0.02</td>\n      <td>-0.00</td>\n      <td>0.05</td>\n      <td>0.00</td>\n      <td>0.22</td>\n      <td>1.00</td>\n      <td>0.10</td>\n      <td>0.11</td>\n      <td>-0.04</td>\n      <td>0.02</td>\n    </tr>\n    <tr>\n      <th>Region</th>\n      <td>-0.01</td>\n      <td>-0.01</td>\n      <td>-0.03</td>\n      <td>-0.03</td>\n      <td>-0.04</td>\n      <td>-0.03</td>\n      <td>-0.01</td>\n      <td>-0.01</td>\n      <td>0.01</td>\n      <td>-0.02</td>\n      <td>0.08</td>\n      <td>0.10</td>\n      <td>1.00</td>\n      <td>0.05</td>\n      <td>-0.00</td>\n      <td>-0.01</td>\n    </tr>\n    <tr>\n      <th>TrafficType</th>\n      <td>-0.03</td>\n      <td>-0.01</td>\n      <td>-0.03</td>\n      <td>-0.02</td>\n      <td>-0.04</td>\n      <td>-0.04</td>\n      <td>0.08</td>\n      <td>0.08</td>\n      <td>0.01</td>\n      <td>0.05</td>\n      <td>0.19</td>\n      <td>0.11</td>\n      <td>0.05</td>\n      <td>1.00</td>\n      <td>-0.00</td>\n      <td>-0.01</td>\n    </tr>\n    <tr>\n      <th>Weekend</th>\n      <td>0.03</td>\n      <td>0.01</td>\n      <td>0.03</td>\n      <td>0.02</td>\n      <td>0.02</td>\n      <td>0.01</td>\n      <td>-0.05</td>\n      <td>-0.06</td>\n      <td>0.01</td>\n      <td>-0.02</td>\n      <td>-0.00</td>\n      <td>-0.04</td>\n      <td>-0.00</td>\n      <td>-0.00</td>\n      <td>1.00</td>\n      <td>0.03</td>\n    </tr>\n    <tr>\n      <th>Revenue</th>\n      <td>0.14</td>\n      <td>0.09</td>\n      <td>0.09</td>\n      <td>0.07</td>\n      <td>0.16</td>\n      <td>0.15</td>\n      <td>-0.15</td>\n      <td>-0.21</td>\n      <td>0.49</td>\n      <td>-0.08</td>\n      <td>-0.01</td>\n      <td>0.02</td>\n      <td>-0.01</td>\n      <td>-0.01</td>\n      <td>0.03</td>\n      <td>1.00</td>\n    </tr>\n  </tbody>\n</table>\n</div>"
     },
     "metadata": {}
    }
   ],
   "execution_count": null
  },
  {
   "cell_type": "code",
   "metadata": {
    "tags": [],
    "cell_id": "00014-5f9c3fa0-2185-46cb-98c9-76a3a43e5a5a",
    "deepnote_to_be_reexecuted": false,
    "source_hash": "9d0049f1",
    "allow_embed": false,
    "execution_start": 1629075601033,
    "execution_millis": 34,
    "deepnote_cell_type": "code"
   },
   "source": "# check correlation for all numeric variables\n\ncorr_num = table.iloc[:,:6].corr() # correlation of numerical variables\ncorr_num",
   "outputs": [
    {
     "output_type": "execute_result",
     "execution_count": 16,
     "data": {
      "application/vnd.deepnote.dataframe.v2+json": {
       "row_count": 6,
       "column_count": 6,
       "columns": [
        {
         "name": "Administrative",
         "dtype": "float64",
         "stats": {
          "unique_count": 6,
          "nan_count": 0,
          "min": "0.25584814023262603",
          "max": "1.0",
          "histogram": [
           {
            "bin_start": 0.25584814023262603,
            "bin_end": 0.33026332620936344,
            "count": 1
           },
           {
            "bin_start": 0.33026332620936344,
            "bin_end": 0.40467851218610085,
            "count": 2
           },
           {
            "bin_start": 0.40467851218610085,
            "bin_end": 0.4790936981628382,
            "count": 1
           },
           {
            "bin_start": 0.4790936981628382,
            "bin_end": 0.5535088841395757,
            "count": 0
           },
           {
            "bin_start": 0.5535088841395757,
            "bin_end": 0.627924070116313,
            "count": 1
           },
           {
            "bin_start": 0.627924070116313,
            "bin_end": 0.7023392560930504,
            "count": 0
           },
           {
            "bin_start": 0.7023392560930504,
            "bin_end": 0.7767544420697878,
            "count": 0
           },
           {
            "bin_start": 0.7767544420697878,
            "bin_end": 0.8511696280465252,
            "count": 0
           },
           {
            "bin_start": 0.8511696280465252,
            "bin_end": 0.9255848140232625,
            "count": 0
           },
           {
            "bin_start": 0.9255848140232625,
            "bin_end": 1,
            "count": 1
           }
          ]
         }
        },
        {
         "name": "Administrative_Duration",
         "dtype": "float64",
         "stats": {
          "unique_count": 6,
          "nan_count": 0,
          "min": "0.23803078935000094",
          "max": "1.0",
          "histogram": [
           {
            "bin_start": 0.23803078935000094,
            "bin_end": 0.31422771041500086,
            "count": 3
           },
           {
            "bin_start": 0.31422771041500086,
            "bin_end": 0.39042463148000073,
            "count": 1
           },
           {
            "bin_start": 0.39042463148000073,
            "bin_end": 0.46662155254500065,
            "count": 0
           },
           {
            "bin_start": 0.46662155254500065,
            "bin_end": 0.5428184736100006,
            "count": 0
           },
           {
            "bin_start": 0.5428184736100006,
            "bin_end": 0.6190153946750006,
            "count": 1
           },
           {
            "bin_start": 0.6190153946750006,
            "bin_end": 0.6952123157400003,
            "count": 0
           },
           {
            "bin_start": 0.6952123157400003,
            "bin_end": 0.7714092368050003,
            "count": 0
           },
           {
            "bin_start": 0.7714092368050003,
            "bin_end": 0.8476061578700003,
            "count": 0
           },
           {
            "bin_start": 0.8476061578700003,
            "bin_end": 0.923803078935,
            "count": 0
           },
           {
            "bin_start": 0.923803078935,
            "bin_end": 1,
            "count": 1
           }
          ]
         }
        },
        {
         "name": "Informational",
         "dtype": "float64",
         "stats": {
          "unique_count": 6,
          "nan_count": 0,
          "min": "0.30047222590678574",
          "max": "1.0",
          "histogram": [
           {
            "bin_start": 0.30047222590678574,
            "bin_end": 0.37042500331610717,
            "count": 1
           },
           {
            "bin_start": 0.37042500331610717,
            "bin_end": 0.44037778072542855,
            "count": 3
           },
           {
            "bin_start": 0.44037778072542855,
            "bin_end": 0.5103305581347499,
            "count": 0
           },
           {
            "bin_start": 0.5103305581347499,
            "bin_end": 0.5802833355440714,
            "count": 0
           },
           {
            "bin_start": 0.5802833355440714,
            "bin_end": 0.6502361129533929,
            "count": 1
           },
           {
            "bin_start": 0.6502361129533929,
            "bin_end": 0.7201888903627143,
            "count": 0
           },
           {
            "bin_start": 0.7201888903627143,
            "bin_end": 0.7901416677720356,
            "count": 0
           },
           {
            "bin_start": 0.7901416677720356,
            "bin_end": 0.860094445181357,
            "count": 0
           },
           {
            "bin_start": 0.860094445181357,
            "bin_end": 0.9300472225906784,
            "count": 0
           },
           {
            "bin_start": 0.9300472225906784,
            "bin_end": 1,
            "count": 1
           }
          ]
         }
        },
        {
         "name": "Informational_Duration",
         "dtype": "float64",
         "stats": {
          "unique_count": 6,
          "nan_count": 0,
          "min": "0.23803078935000094",
          "max": "1.0",
          "histogram": [
           {
            "bin_start": 0.23803078935000094,
            "bin_end": 0.31422771041500086,
            "count": 3
           },
           {
            "bin_start": 0.31422771041500086,
            "bin_end": 0.39042463148000073,
            "count": 1
           },
           {
            "bin_start": 0.39042463148000073,
            "bin_end": 0.46662155254500065,
            "count": 0
           },
           {
            "bin_start": 0.46662155254500065,
            "bin_end": 0.5428184736100006,
            "count": 0
           },
           {
            "bin_start": 0.5428184736100006,
            "bin_end": 0.6190153946750006,
            "count": 1
           },
           {
            "bin_start": 0.6190153946750006,
            "bin_end": 0.6952123157400003,
            "count": 0
           },
           {
            "bin_start": 0.6952123157400003,
            "bin_end": 0.7714092368050003,
            "count": 0
           },
           {
            "bin_start": 0.7714092368050003,
            "bin_end": 0.8476061578700003,
            "count": 0
           },
           {
            "bin_start": 0.8476061578700003,
            "bin_end": 0.923803078935,
            "count": 0
           },
           {
            "bin_start": 0.923803078935,
            "bin_end": 1,
            "count": 1
           }
          ]
         }
        },
        {
         "name": "ProductRelated",
         "dtype": "float64",
         "stats": {
          "unique_count": 6,
          "nan_count": 0,
          "min": "0.2800462678591969",
          "max": "1.0",
          "histogram": [
           {
            "bin_start": 0.2800462678591969,
            "bin_end": 0.3520416410732772,
            "count": 2
           },
           {
            "bin_start": 0.3520416410732772,
            "bin_end": 0.4240370142873575,
            "count": 1
           },
           {
            "bin_start": 0.4240370142873575,
            "bin_end": 0.49603238750143785,
            "count": 1
           },
           {
            "bin_start": 0.49603238750143785,
            "bin_end": 0.5680277607155182,
            "count": 0
           },
           {
            "bin_start": 0.5680277607155182,
            "bin_end": 0.6400231339295985,
            "count": 0
           },
           {
            "bin_start": 0.6400231339295985,
            "bin_end": 0.7120185071436788,
            "count": 0
           },
           {
            "bin_start": 0.7120185071436788,
            "bin_end": 0.784013880357759,
            "count": 0
           },
           {
            "bin_start": 0.784013880357759,
            "bin_end": 0.8560092535718393,
            "count": 0
           },
           {
            "bin_start": 0.8560092535718393,
            "bin_end": 0.9280046267859197,
            "count": 1
           },
           {
            "bin_start": 0.9280046267859197,
            "bin_end": 1,
            "count": 1
           }
          ]
         }
        },
        {
         "name": "ProductRelated_Duration",
         "dtype": "float64",
         "stats": {
          "unique_count": 6,
          "nan_count": 0,
          "min": "0.3473635774464961",
          "max": "1.0",
          "histogram": [
           {
            "bin_start": 0.3473635774464961,
            "bin_end": 0.41262721970184646,
            "count": 4
           },
           {
            "bin_start": 0.41262721970184646,
            "bin_end": 0.4778908619571969,
            "count": 0
           },
           {
            "bin_start": 0.4778908619571969,
            "bin_end": 0.5431545042125473,
            "count": 0
           },
           {
            "bin_start": 0.5431545042125473,
            "bin_end": 0.6084181464678977,
            "count": 0
           },
           {
            "bin_start": 0.6084181464678977,
            "bin_end": 0.673681788723248,
            "count": 0
           },
           {
            "bin_start": 0.673681788723248,
            "bin_end": 0.7389454309785984,
            "count": 0
           },
           {
            "bin_start": 0.7389454309785984,
            "bin_end": 0.8042090732339489,
            "count": 0
           },
           {
            "bin_start": 0.8042090732339489,
            "bin_end": 0.8694727154892992,
            "count": 1
           },
           {
            "bin_start": 0.8694727154892992,
            "bin_end": 0.9347363577446497,
            "count": 0
           },
           {
            "bin_start": 0.9347363577446497,
            "bin_end": 1,
            "count": 1
           }
          ]
         }
        },
        {
         "name": "_deepnote_index_column",
         "dtype": "object"
        }
       ],
       "rows_top": [
        {
         "Administrative": 1,
         "Administrative_Duration": 0.6015833421250227,
         "Informational": 0.37147641295630407,
         "Informational_Duration": 0.25584814023262603,
         "ProductRelated": 0.43111933962453475,
         "ProductRelated_Duration": 0.3739390129596706,
         "_deepnote_index_column": "Administrative"
        },
        {
         "Administrative": 0.6015833421250227,
         "Administrative_Duration": 1,
         "Informational": 0.30047222590678574,
         "Informational_Duration": 0.23803078935000094,
         "ProductRelated": 0.2890866214062173,
         "ProductRelated_Duration": 0.35542195350163014,
         "_deepnote_index_column": "Administrative_Duration"
        },
        {
         "Administrative": 0.37147641295630407,
         "Administrative_Duration": 0.30047222590678574,
         "Informational": 1,
         "Informational_Duration": 0.6172709353931898,
         "ProductRelated": 0.37065631593717663,
         "ProductRelated_Duration": 0.3842711794504124,
         "_deepnote_index_column": "Informational"
        },
        {
         "Administrative": 0.25584814023262603,
         "Administrative_Duration": 0.23803078935000094,
         "Informational": 0.6172709353931898,
         "Informational_Duration": 1,
         "ProductRelated": 0.2800462678591969,
         "ProductRelated_Duration": 0.3473635774464961,
         "_deepnote_index_column": "Informational_Duration"
        },
        {
         "Administrative": 0.43111933962453475,
         "Administrative_Duration": 0.2890866214062173,
         "Informational": 0.37065631593717663,
         "Informational_Duration": 0.2800462678591969,
         "ProductRelated": 1,
         "ProductRelated_Duration": 0.8609268361763706,
         "_deepnote_index_column": "ProductRelated"
        },
        {
         "Administrative": 0.3739390129596706,
         "Administrative_Duration": 0.35542195350163014,
         "Informational": 0.3842711794504124,
         "Informational_Duration": 0.3473635774464961,
         "ProductRelated": 0.8609268361763706,
         "ProductRelated_Duration": 1,
         "_deepnote_index_column": "ProductRelated_Duration"
        }
       ],
       "rows_bottom": null
      },
      "text/plain": "                         Administrative  Administrative_Duration  \\\nAdministrative                 1.000000                 0.601583   \nAdministrative_Duration        0.601583                 1.000000   \nInformational                  0.371476                 0.300472   \nInformational_Duration         0.255848                 0.238031   \nProductRelated                 0.431119                 0.289087   \nProductRelated_Duration        0.373939                 0.355422   \n\n                         Informational  Informational_Duration  \\\nAdministrative                0.371476                0.255848   \nAdministrative_Duration       0.300472                0.238031   \nInformational                 1.000000                0.617271   \nInformational_Duration        0.617271                1.000000   \nProductRelated                0.370656                0.280046   \nProductRelated_Duration       0.384271                0.347364   \n\n                         ProductRelated  ProductRelated_Duration  \nAdministrative                 0.431119                 0.373939  \nAdministrative_Duration        0.289087                 0.355422  \nInformational                  0.370656                 0.384271  \nInformational_Duration         0.280046                 0.347364  \nProductRelated                 1.000000                 0.860927  \nProductRelated_Duration        0.860927                 1.000000  ",
      "text/html": "<div>\n<style scoped>\n    .dataframe tbody tr th:only-of-type {\n        vertical-align: middle;\n    }\n\n    .dataframe tbody tr th {\n        vertical-align: top;\n    }\n\n    .dataframe thead th {\n        text-align: right;\n    }\n</style>\n<table border=\"1\" class=\"dataframe\">\n  <thead>\n    <tr style=\"text-align: right;\">\n      <th></th>\n      <th>Administrative</th>\n      <th>Administrative_Duration</th>\n      <th>Informational</th>\n      <th>Informational_Duration</th>\n      <th>ProductRelated</th>\n      <th>ProductRelated_Duration</th>\n    </tr>\n  </thead>\n  <tbody>\n    <tr>\n      <th>Administrative</th>\n      <td>1.000000</td>\n      <td>0.601583</td>\n      <td>0.371476</td>\n      <td>0.255848</td>\n      <td>0.431119</td>\n      <td>0.373939</td>\n    </tr>\n    <tr>\n      <th>Administrative_Duration</th>\n      <td>0.601583</td>\n      <td>1.000000</td>\n      <td>0.300472</td>\n      <td>0.238031</td>\n      <td>0.289087</td>\n      <td>0.355422</td>\n    </tr>\n    <tr>\n      <th>Informational</th>\n      <td>0.371476</td>\n      <td>0.300472</td>\n      <td>1.000000</td>\n      <td>0.617271</td>\n      <td>0.370656</td>\n      <td>0.384271</td>\n    </tr>\n    <tr>\n      <th>Informational_Duration</th>\n      <td>0.255848</td>\n      <td>0.238031</td>\n      <td>0.617271</td>\n      <td>1.000000</td>\n      <td>0.280046</td>\n      <td>0.347364</td>\n    </tr>\n    <tr>\n      <th>ProductRelated</th>\n      <td>0.431119</td>\n      <td>0.289087</td>\n      <td>0.370656</td>\n      <td>0.280046</td>\n      <td>1.000000</td>\n      <td>0.860927</td>\n    </tr>\n    <tr>\n      <th>ProductRelated_Duration</th>\n      <td>0.373939</td>\n      <td>0.355422</td>\n      <td>0.384271</td>\n      <td>0.347364</td>\n      <td>0.860927</td>\n      <td>1.000000</td>\n    </tr>\n  </tbody>\n</table>\n</div>"
     },
     "metadata": {}
    }
   ],
   "execution_count": null
  },
  {
   "cell_type": "code",
   "metadata": {
    "tags": [],
    "cell_id": "00014-3b15a9ce-e6f8-4408-93ec-0d42405f94c7",
    "deepnote_to_be_reexecuted": false,
    "source_hash": "8751ed3e",
    "execution_start": 1629075601064,
    "execution_millis": 464,
    "deepnote_cell_type": "code"
   },
   "source": "# other than areas that were expected for some correlation (certain page visits and time on that page)\n# not many correlations\n\n# there was a high skew in all box plots of numerical variables\n# log+1 transformation\n\ntable_log = np.log((table.iloc[:,:9])+1)\nfig = plt.figure(figsize=(18,6))\ntable_log.boxplot()\n",
   "outputs": [
    {
     "output_type": "execute_result",
     "execution_count": 17,
     "data": {
      "text/plain": "<AxesSubplot:>"
     },
     "metadata": {}
    },
    {
     "data": {
      "text/plain": "<Figure size 1296x432 with 1 Axes>",
      "image/png": "[encoded data removed]"
     },
     "metadata": {
      "needs_background": "light",
      "image/png": {
       "width": 1038,
       "height": 358
      }
     },
     "output_type": "display_data"
    }
   ],
   "execution_count": null
  },
  {
   "cell_type": "code",
   "metadata": {
    "tags": [],
    "cell_id": "00015-30042324-4106-4256-b947-a5699f6231bb",
    "deepnote_to_be_reexecuted": false,
    "source_hash": "4ce498ec",
    "execution_start": 1629075601526,
    "execution_millis": 63,
    "deepnote_cell_type": "code"
   },
   "source": "# just doing some more data visualization for categorical variables\n\ntable.head()",
   "outputs": [
    {
     "output_type": "execute_result",
     "execution_count": 18,
     "data": {
      "application/vnd.deepnote.dataframe.v2+json": {
       "row_count": 5,
       "column_count": 18,
       "columns": [
        {
         "name": "Administrative",
         "dtype": "int64",
         "stats": {
          "unique_count": 1,
          "nan_count": 0,
          "min": "0",
          "max": "0",
          "histogram": [
           {
            "bin_start": -0.5,
            "bin_end": -0.4,
            "count": 0
           },
           {
            "bin_start": -0.4,
            "bin_end": -0.3,
            "count": 0
           },
           {
            "bin_start": -0.3,
            "bin_end": -0.19999999999999996,
            "count": 0
           },
           {
            "bin_start": -0.19999999999999996,
            "bin_end": -0.09999999999999998,
            "count": 0
           },
           {
            "bin_start": -0.09999999999999998,
            "bin_end": 0,
            "count": 0
           },
           {
            "bin_start": 0,
            "bin_end": 0.10000000000000009,
            "count": 5
           },
           {
            "bin_start": 0.10000000000000009,
            "bin_end": 0.20000000000000007,
            "count": 0
           },
           {
            "bin_start": 0.20000000000000007,
            "bin_end": 0.30000000000000004,
            "count": 0
           },
           {
            "bin_start": 0.30000000000000004,
            "bin_end": 0.4,
            "count": 0
           },
           {
            "bin_start": 0.4,
            "bin_end": 0.5,
            "count": 0
           }
          ]
         }
        },
        {
         "name": "Administrative_Duration",
         "dtype": "float64",
         "stats": {
          "unique_count": 1,
          "nan_count": 0,
          "min": "0.0",
          "max": "0.0",
          "histogram": [
           {
            "bin_start": -0.5,
            "bin_end": -0.4,
            "count": 0
           },
           {
            "bin_start": -0.4,
            "bin_end": -0.3,
            "count": 0
           },
           {
            "bin_start": -0.3,
            "bin_end": -0.19999999999999996,
            "count": 0
           },
           {
            "bin_start": -0.19999999999999996,
            "bin_end": -0.09999999999999998,
            "count": 0
           },
           {
            "bin_start": -0.09999999999999998,
            "bin_end": 0,
            "count": 0
           },
           {
            "bin_start": 0,
            "bin_end": 0.10000000000000009,
            "count": 5
           },
           {
            "bin_start": 0.10000000000000009,
            "bin_end": 0.20000000000000007,
            "count": 0
           },
           {
            "bin_start": 0.20000000000000007,
            "bin_end": 0.30000000000000004,
            "count": 0
           },
           {
            "bin_start": 0.30000000000000004,
            "bin_end": 0.4,
            "count": 0
           },
           {
            "bin_start": 0.4,
            "bin_end": 0.5,
            "count": 0
           }
          ]
         }
        },
        {
         "name": "Informational",
         "dtype": "int64",
         "stats": {
          "unique_count": 1,
          "nan_count": 0,
          "min": "0",
          "max": "0",
          "histogram": [
           {
            "bin_start": -0.5,
            "bin_end": -0.4,
            "count": 0
           },
           {
            "bin_start": -0.4,
            "bin_end": -0.3,
            "count": 0
           },
           {
            "bin_start": -0.3,
            "bin_end": -0.19999999999999996,
            "count": 0
           },
           {
            "bin_start": -0.19999999999999996,
            "bin_end": -0.09999999999999998,
            "count": 0
           },
           {
            "bin_start": -0.09999999999999998,
            "bin_end": 0,
            "count": 0
           },
           {
            "bin_start": 0,
            "bin_end": 0.10000000000000009,
            "count": 5
           },
           {
            "bin_start": 0.10000000000000009,
            "bin_end": 0.20000000000000007,
            "count": 0
           },
           {
            "bin_start": 0.20000000000000007,
            "bin_end": 0.30000000000000004,
            "count": 0
           },
           {
            "bin_start": 0.30000000000000004,
            "bin_end": 0.4,
            "count": 0
           },
           {
            "bin_start": 0.4,
            "bin_end": 0.5,
            "count": 0
           }
          ]
         }
        },
        {
         "name": "Informational_Duration",
         "dtype": "float64",
         "stats": {
          "unique_count": 1,
          "nan_count": 0,
          "min": "0.0",
          "max": "0.0",
          "histogram": [
           {
            "bin_start": -0.5,
            "bin_end": -0.4,
            "count": 0
           },
           {
            "bin_start": -0.4,
            "bin_end": -0.3,
            "count": 0
           },
           {
            "bin_start": -0.3,
            "bin_end": -0.19999999999999996,
            "count": 0
           },
           {
            "bin_start": -0.19999999999999996,
            "bin_end": -0.09999999999999998,
            "count": 0
           },
           {
            "bin_start": -0.09999999999999998,
            "bin_end": 0,
            "count": 0
           },
           {
            "bin_start": 0,
            "bin_end": 0.10000000000000009,
            "count": 5
           },
           {
            "bin_start": 0.10000000000000009,
            "bin_end": 0.20000000000000007,
            "count": 0
           },
           {
            "bin_start": 0.20000000000000007,
            "bin_end": 0.30000000000000004,
            "count": 0
           },
           {
            "bin_start": 0.30000000000000004,
            "bin_end": 0.4,
            "count": 0
           },
           {
            "bin_start": 0.4,
            "bin_end": 0.5,
            "count": 0
           }
          ]
         }
        },
        {
         "name": "ProductRelated",
         "dtype": "int64",
         "stats": {
          "unique_count": 3,
          "nan_count": 0,
          "min": "1",
          "max": "10",
          "histogram": [
           {
            "bin_start": 1,
            "bin_end": 1.9,
            "count": 2
           },
           {
            "bin_start": 1.9,
            "bin_end": 2.8,
            "count": 2
           },
           {
            "bin_start": 2.8,
            "bin_end": 3.7,
            "count": 0
           },
           {
            "bin_start": 3.7,
            "bin_end": 4.6,
            "count": 0
           },
           {
            "bin_start": 4.6,
            "bin_end": 5.5,
            "count": 0
           },
           {
            "bin_start": 5.5,
            "bin_end": 6.4,
            "count": 0
           },
           {
            "bin_start": 6.4,
            "bin_end": 7.3,
            "count": 0
           },
           {
            "bin_start": 7.3,
            "bin_end": 8.2,
            "count": 0
           },
           {
            "bin_start": 8.2,
            "bin_end": 9.1,
            "count": 0
           },
           {
            "bin_start": 9.1,
            "bin_end": 10,
            "count": 1
           }
          ]
         }
        },
        {
         "name": "ProductRelated_Duration",
         "dtype": "float64",
         "stats": {
          "unique_count": 4,
          "nan_count": 0,
          "min": "0.0",
          "max": "627.5",
          "histogram": [
           {
            "bin_start": 0,
            "bin_end": 62.75,
            "count": 3
           },
           {
            "bin_start": 62.75,
            "bin_end": 125.5,
            "count": 1
           },
           {
            "bin_start": 125.5,
            "bin_end": 188.25,
            "count": 0
           },
           {
            "bin_start": 188.25,
            "bin_end": 251,
            "count": 0
           },
           {
            "bin_start": 251,
            "bin_end": 313.75,
            "count": 0
           },
           {
            "bin_start": 313.75,
            "bin_end": 376.5,
            "count": 0
           },
           {
            "bin_start": 376.5,
            "bin_end": 439.25,
            "count": 0
           },
           {
            "bin_start": 439.25,
            "bin_end": 502,
            "count": 0
           },
           {
            "bin_start": 502,
            "bin_end": 564.75,
            "count": 0
           },
           {
            "bin_start": 564.75,
            "bin_end": 627.5,
            "count": 1
           }
          ]
         }
        },
        {
         "name": "BounceRates",
         "dtype": "float64",
         "stats": {
          "unique_count": 4,
          "nan_count": 0,
          "min": "0.0",
          "max": "0.2",
          "histogram": [
           {
            "bin_start": 0,
            "bin_end": 0.02,
            "count": 1
           },
           {
            "bin_start": 0.02,
            "bin_end": 0.04,
            "count": 1
           },
           {
            "bin_start": 0.04,
            "bin_end": 0.06,
            "count": 1
           },
           {
            "bin_start": 0.06,
            "bin_end": 0.08,
            "count": 0
           },
           {
            "bin_start": 0.08,
            "bin_end": 0.1,
            "count": 0
           },
           {
            "bin_start": 0.1,
            "bin_end": 0.12,
            "count": 0
           },
           {
            "bin_start": 0.12,
            "bin_end": 0.14,
            "count": 0
           },
           {
            "bin_start": 0.14,
            "bin_end": 0.16,
            "count": 0
           },
           {
            "bin_start": 0.16,
            "bin_end": 0.18,
            "count": 0
           },
           {
            "bin_start": 0.18,
            "bin_end": 0.2,
            "count": 2
           }
          ]
         }
        },
        {
         "name": "ExitRates",
         "dtype": "float64",
         "stats": {
          "unique_count": 4,
          "nan_count": 0,
          "min": "0.05",
          "max": "0.2",
          "histogram": [
           {
            "bin_start": 0.05,
            "bin_end": 0.065,
            "count": 1
           },
           {
            "bin_start": 0.065,
            "bin_end": 0.08000000000000002,
            "count": 0
           },
           {
            "bin_start": 0.08000000000000002,
            "bin_end": 0.09500000000000001,
            "count": 0
           },
           {
            "bin_start": 0.09500000000000001,
            "bin_end": 0.11000000000000001,
            "count": 1
           },
           {
            "bin_start": 0.11000000000000001,
            "bin_end": 0.125,
            "count": 0
           },
           {
            "bin_start": 0.125,
            "bin_end": 0.14,
            "count": 0
           },
           {
            "bin_start": 0.14,
            "bin_end": 0.15500000000000003,
            "count": 1
           },
           {
            "bin_start": 0.15500000000000003,
            "bin_end": 0.17000000000000004,
            "count": 0
           },
           {
            "bin_start": 0.17000000000000004,
            "bin_end": 0.18500000000000005,
            "count": 0
           },
           {
            "bin_start": 0.18500000000000005,
            "bin_end": 0.2,
            "count": 2
           }
          ]
         }
        },
        {
         "name": "PageValues",
         "dtype": "float64",
         "stats": {
          "unique_count": 1,
          "nan_count": 0,
          "min": "0.0",
          "max": "0.0",
          "histogram": [
           {
            "bin_start": -0.5,
            "bin_end": -0.4,
            "count": 0
           },
           {
            "bin_start": -0.4,
            "bin_end": -0.3,
            "count": 0
           },
           {
            "bin_start": -0.3,
            "bin_end": -0.19999999999999996,
            "count": 0
           },
           {
            "bin_start": -0.19999999999999996,
            "bin_end": -0.09999999999999998,
            "count": 0
           },
           {
            "bin_start": -0.09999999999999998,
            "bin_end": 0,
            "count": 0
           },
           {
            "bin_start": 0,
            "bin_end": 0.10000000000000009,
            "count": 5
           },
           {
            "bin_start": 0.10000000000000009,
            "bin_end": 0.20000000000000007,
            "count": 0
           },
           {
            "bin_start": 0.20000000000000007,
            "bin_end": 0.30000000000000004,
            "count": 0
           },
           {
            "bin_start": 0.30000000000000004,
            "bin_end": 0.4,
            "count": 0
           },
           {
            "bin_start": 0.4,
            "bin_end": 0.5,
            "count": 0
           }
          ]
         }
        },
        {
         "name": "SpecialDay",
         "dtype": "float64",
         "stats": {
          "unique_count": 1,
          "nan_count": 0,
          "min": "0.0",
          "max": "0.0",
          "histogram": [
           {
            "bin_start": -0.5,
            "bin_end": -0.4,
            "count": 0
           },
           {
            "bin_start": -0.4,
            "bin_end": -0.3,
            "count": 0
           },
           {
            "bin_start": -0.3,
            "bin_end": -0.19999999999999996,
            "count": 0
           },
           {
            "bin_start": -0.19999999999999996,
            "bin_end": -0.09999999999999998,
            "count": 0
           },
           {
            "bin_start": -0.09999999999999998,
            "bin_end": 0,
            "count": 0
           },
           {
            "bin_start": 0,
            "bin_end": 0.10000000000000009,
            "count": 5
           },
           {
            "bin_start": 0.10000000000000009,
            "bin_end": 0.20000000000000007,
            "count": 0
           },
           {
            "bin_start": 0.20000000000000007,
            "bin_end": 0.30000000000000004,
            "count": 0
           },
           {
            "bin_start": 0.30000000000000004,
            "bin_end": 0.4,
            "count": 0
           },
           {
            "bin_start": 0.4,
            "bin_end": 0.5,
            "count": 0
           }
          ]
         }
        },
        {
         "name": "Month",
         "dtype": "object",
         "stats": {
          "unique_count": 1,
          "nan_count": 0,
          "categories": [
           {
            "name": "Feb",
            "count": 5
           }
          ]
         }
        },
        {
         "name": "OperatingSystems",
         "dtype": "float64",
         "stats": {
          "unique_count": 4,
          "nan_count": 0,
          "min": "1.0",
          "max": "4.0",
          "histogram": [
           {
            "bin_start": 1,
            "bin_end": 1.3,
            "count": 1
           },
           {
            "bin_start": 1.3,
            "bin_end": 1.6,
            "count": 0
           },
           {
            "bin_start": 1.6,
            "bin_end": 1.9,
            "count": 0
           },
           {
            "bin_start": 1.9,
            "bin_end": 2.2,
            "count": 1
           },
           {
            "bin_start": 2.2,
            "bin_end": 2.5,
            "count": 0
           },
           {
            "bin_start": 2.5,
            "bin_end": 2.8,
            "count": 0
           },
           {
            "bin_start": 2.8,
            "bin_end": 3.1,
            "count": 2
           },
           {
            "bin_start": 3.1,
            "bin_end": 3.4,
            "count": 0
           },
           {
            "bin_start": 3.4,
            "bin_end": 3.6999999999999997,
            "count": 0
           },
           {
            "bin_start": 3.6999999999999997,
            "bin_end": 4,
            "count": 1
           }
          ]
         }
        },
        {
         "name": "Browser",
         "dtype": "int64",
         "stats": {
          "unique_count": 3,
          "nan_count": 0,
          "min": "1",
          "max": "3",
          "histogram": [
           {
            "bin_start": 1,
            "bin_end": 1.2,
            "count": 2
           },
           {
            "bin_start": 1.2,
            "bin_end": 1.4,
            "count": 0
           },
           {
            "bin_start": 1.4,
            "bin_end": 1.6,
            "count": 0
           },
           {
            "bin_start": 1.6,
            "bin_end": 1.8,
            "count": 0
           },
           {
            "bin_start": 1.8,
            "bin_end": 2,
            "count": 0
           },
           {
            "bin_start": 2,
            "bin_end": 2.2,
            "count": 2
           },
           {
            "bin_start": 2.2,
            "bin_end": 2.4000000000000004,
            "count": 0
           },
           {
            "bin_start": 2.4000000000000004,
            "bin_end": 2.6,
            "count": 0
           },
           {
            "bin_start": 2.6,
            "bin_end": 2.8,
            "count": 0
           },
           {
            "bin_start": 2.8,
            "bin_end": 3,
            "count": 1
           }
          ]
         }
        },
        {
         "name": "Region",
         "dtype": "int64",
         "stats": {
          "unique_count": 3,
          "nan_count": 0,
          "min": "1",
          "max": "9",
          "histogram": [
           {
            "bin_start": 1,
            "bin_end": 1.8,
            "count": 3
           },
           {
            "bin_start": 1.8,
            "bin_end": 2.6,
            "count": 1
           },
           {
            "bin_start": 2.6,
            "bin_end": 3.4000000000000004,
            "count": 0
           },
           {
            "bin_start": 3.4000000000000004,
            "bin_end": 4.2,
            "count": 0
           },
           {
            "bin_start": 4.2,
            "bin_end": 5,
            "count": 0
           },
           {
            "bin_start": 5,
            "bin_end": 5.800000000000001,
            "count": 0
           },
           {
            "bin_start": 5.800000000000001,
            "bin_end": 6.6000000000000005,
            "count": 0
           },
           {
            "bin_start": 6.6000000000000005,
            "bin_end": 7.4,
            "count": 0
           },
           {
            "bin_start": 7.4,
            "bin_end": 8.2,
            "count": 0
           },
           {
            "bin_start": 8.2,
            "bin_end": 9,
            "count": 1
           }
          ]
         }
        },
        {
         "name": "TrafficType",
         "dtype": "int64",
         "stats": {
          "unique_count": 4,
          "nan_count": 0,
          "min": "1",
          "max": "4",
          "histogram": [
           {
            "bin_start": 1,
            "bin_end": 1.3,
            "count": 1
           },
           {
            "bin_start": 1.3,
            "bin_end": 1.6,
            "count": 0
           },
           {
            "bin_start": 1.6,
            "bin_end": 1.9,
            "count": 0
           },
           {
            "bin_start": 1.9,
            "bin_end": 2.2,
            "count": 1
           },
           {
            "bin_start": 2.2,
            "bin_end": 2.5,
            "count": 0
           },
           {
            "bin_start": 2.5,
            "bin_end": 2.8,
            "count": 0
           },
           {
            "bin_start": 2.8,
            "bin_end": 3.1,
            "count": 1
           },
           {
            "bin_start": 3.1,
            "bin_end": 3.4,
            "count": 0
           },
           {
            "bin_start": 3.4,
            "bin_end": 3.6999999999999997,
            "count": 0
           },
           {
            "bin_start": 3.6999999999999997,
            "bin_end": 4,
            "count": 2
           }
          ]
         }
        },
        {
         "name": "VisitorType",
         "dtype": "object",
         "stats": {
          "unique_count": 1,
          "nan_count": 0,
          "categories": [
           {
            "name": "Returning_Visitor",
            "count": 5
           }
          ]
         }
        },
        {
         "name": "Weekend",
         "dtype": "bool",
         "stats": {
          "unique_count": 2,
          "nan_count": 0,
          "categories": [
           {
            "name": "False",
            "count": 4
           },
           {
            "name": "True",
            "count": 1
           }
          ]
         }
        },
        {
         "name": "Revenue",
         "dtype": "bool",
         "stats": {
          "unique_count": 1,
          "nan_count": 0,
          "categories": [
           {
            "name": "False",
            "count": 5
           }
          ]
         }
        },
        {
         "name": "_deepnote_index_column",
         "dtype": "int64"
        }
       ],
       "rows_top": [
        {
         "Administrative": 0,
         "Administrative_Duration": 0,
         "Informational": 0,
         "Informational_Duration": 0,
         "ProductRelated": 1,
         "ProductRelated_Duration": 0,
         "BounceRates": 0.2,
         "ExitRates": 0.2,
         "PageValues": 0,
         "SpecialDay": 0,
         "Month": "Feb",
         "OperatingSystems": 1,
         "Browser": 1,
         "Region": 1,
         "TrafficType": 1,
         "VisitorType": "Returning_Visitor",
         "Weekend": "False",
         "Revenue": "False",
         "_deepnote_index_column": 0
        },
        {
         "Administrative": 0,
         "Administrative_Duration": 0,
         "Informational": 0,
         "Informational_Duration": 0,
         "ProductRelated": 2,
         "ProductRelated_Duration": 64,
         "BounceRates": 0,
         "ExitRates": 0.1,
         "PageValues": 0,
         "SpecialDay": 0,
         "Month": "Feb",
         "OperatingSystems": 2,
         "Browser": 2,
         "Region": 1,
         "TrafficType": 2,
         "VisitorType": "Returning_Visitor",
         "Weekend": "False",
         "Revenue": "False",
         "_deepnote_index_column": 1
        },
        {
         "Administrative": 0,
         "Administrative_Duration": 0,
         "Informational": 0,
         "Informational_Duration": 0,
         "ProductRelated": 1,
         "ProductRelated_Duration": 0,
         "BounceRates": 0.2,
         "ExitRates": 0.2,
         "PageValues": 0,
         "SpecialDay": 0,
         "Month": "Feb",
         "OperatingSystems": 4,
         "Browser": 1,
         "Region": 9,
         "TrafficType": 3,
         "VisitorType": "Returning_Visitor",
         "Weekend": "False",
         "Revenue": "False",
         "_deepnote_index_column": 2
        },
        {
         "Administrative": 0,
         "Administrative_Duration": 0,
         "Informational": 0,
         "Informational_Duration": 0,
         "ProductRelated": 2,
         "ProductRelated_Duration": 2.666666667,
         "BounceRates": 0.05,
         "ExitRates": 0.14,
         "PageValues": 0,
         "SpecialDay": 0,
         "Month": "Feb",
         "OperatingSystems": 3,
         "Browser": 2,
         "Region": 2,
         "TrafficType": 4,
         "VisitorType": "Returning_Visitor",
         "Weekend": "False",
         "Revenue": "False",
         "_deepnote_index_column": 3
        },
        {
         "Administrative": 0,
         "Administrative_Duration": 0,
         "Informational": 0,
         "Informational_Duration": 0,
         "ProductRelated": 10,
         "ProductRelated_Duration": 627.5,
         "BounceRates": 0.02,
         "ExitRates": 0.05,
         "PageValues": 0,
         "SpecialDay": 0,
         "Month": "Feb",
         "OperatingSystems": 3,
         "Browser": 3,
         "Region": 1,
         "TrafficType": 4,
         "VisitorType": "Returning_Visitor",
         "Weekend": "True",
         "Revenue": "False",
         "_deepnote_index_column": 4
        }
       ],
       "rows_bottom": null
      },
      "text/plain": "   Administrative  Administrative_Duration  Informational  \\\n0               0                      0.0              0   \n1               0                      0.0              0   \n2               0                      0.0              0   \n3               0                      0.0              0   \n4               0                      0.0              0   \n\n   Informational_Duration  ProductRelated  ProductRelated_Duration  \\\n0                     0.0               1                 0.000000   \n1                     0.0               2                64.000000   \n2                     0.0               1                 0.000000   \n3                     0.0               2                 2.666667   \n4                     0.0              10               627.500000   \n\n   BounceRates  ExitRates  PageValues  SpecialDay Month  OperatingSystems  \\\n0         0.20       0.20         0.0         0.0   Feb               1.0   \n1         0.00       0.10         0.0         0.0   Feb               2.0   \n2         0.20       0.20         0.0         0.0   Feb               4.0   \n3         0.05       0.14         0.0         0.0   Feb               3.0   \n4         0.02       0.05         0.0         0.0   Feb               3.0   \n\n   Browser  Region  TrafficType        VisitorType  Weekend  Revenue  \n0        1       1            1  Returning_Visitor    False    False  \n1        2       1            2  Returning_Visitor    False    False  \n2        1       9            3  Returning_Visitor    False    False  \n3        2       2            4  Returning_Visitor    False    False  \n4        3       1            4  Returning_Visitor     True    False  ",
      "text/html": "<div>\n<style scoped>\n    .dataframe tbody tr th:only-of-type {\n        vertical-align: middle;\n    }\n\n    .dataframe tbody tr th {\n        vertical-align: top;\n    }\n\n    .dataframe thead th {\n        text-align: right;\n    }\n</style>\n<table border=\"1\" class=\"dataframe\">\n  <thead>\n    <tr style=\"text-align: right;\">\n      <th></th>\n      <th>Administrative</th>\n      <th>Administrative_Duration</th>\n      <th>Informational</th>\n      <th>Informational_Duration</th>\n      <th>ProductRelated</th>\n      <th>ProductRelated_Duration</th>\n      <th>BounceRates</th>\n      <th>ExitRates</th>\n      <th>PageValues</th>\n      <th>SpecialDay</th>\n      <th>Month</th>\n      <th>OperatingSystems</th>\n      <th>Browser</th>\n      <th>Region</th>\n      <th>TrafficType</th>\n      <th>VisitorType</th>\n      <th>Weekend</th>\n      <th>Revenue</th>\n    </tr>\n  </thead>\n  <tbody>\n    <tr>\n      <th>0</th>\n      <td>0</td>\n      <td>0.0</td>\n      <td>0</td>\n      <td>0.0</td>\n      <td>1</td>\n      <td>0.000000</td>\n      <td>0.20</td>\n      <td>0.20</td>\n      <td>0.0</td>\n      <td>0.0</td>\n      <td>Feb</td>\n      <td>1.0</td>\n      <td>1</td>\n      <td>1</td>\n      <td>1</td>\n      <td>Returning_Visitor</td>\n      <td>False</td>\n      <td>False</td>\n    </tr>\n    <tr>\n      <th>1</th>\n      <td>0</td>\n      <td>0.0</td>\n      <td>0</td>\n      <td>0.0</td>\n      <td>2</td>\n      <td>64.000000</td>\n      <td>0.00</td>\n      <td>0.10</td>\n      <td>0.0</td>\n      <td>0.0</td>\n      <td>Feb</td>\n      <td>2.0</td>\n      <td>2</td>\n      <td>1</td>\n      <td>2</td>\n      <td>Returning_Visitor</td>\n      <td>False</td>\n      <td>False</td>\n    </tr>\n    <tr>\n      <th>2</th>\n      <td>0</td>\n      <td>0.0</td>\n      <td>0</td>\n      <td>0.0</td>\n      <td>1</td>\n      <td>0.000000</td>\n      <td>0.20</td>\n      <td>0.20</td>\n      <td>0.0</td>\n      <td>0.0</td>\n      <td>Feb</td>\n      <td>4.0</td>\n      <td>1</td>\n      <td>9</td>\n      <td>3</td>\n      <td>Returning_Visitor</td>\n      <td>False</td>\n      <td>False</td>\n    </tr>\n    <tr>\n      <th>3</th>\n      <td>0</td>\n      <td>0.0</td>\n      <td>0</td>\n      <td>0.0</td>\n      <td>2</td>\n      <td>2.666667</td>\n      <td>0.05</td>\n      <td>0.14</td>\n      <td>0.0</td>\n      <td>0.0</td>\n      <td>Feb</td>\n      <td>3.0</td>\n      <td>2</td>\n      <td>2</td>\n      <td>4</td>\n      <td>Returning_Visitor</td>\n      <td>False</td>\n      <td>False</td>\n    </tr>\n    <tr>\n      <th>4</th>\n      <td>0</td>\n      <td>0.0</td>\n      <td>0</td>\n      <td>0.0</td>\n      <td>10</td>\n      <td>627.500000</td>\n      <td>0.02</td>\n      <td>0.05</td>\n      <td>0.0</td>\n      <td>0.0</td>\n      <td>Feb</td>\n      <td>3.0</td>\n      <td>3</td>\n      <td>1</td>\n      <td>4</td>\n      <td>Returning_Visitor</td>\n      <td>True</td>\n      <td>False</td>\n    </tr>\n  </tbody>\n</table>\n</div>"
     },
     "metadata": {}
    }
   ],
   "execution_count": null
  },
  {
   "cell_type": "code",
   "source": "",
   "metadata": {
    "cell_id": "00016-8546c3f7-74ef-4f5d-85b9-51f072692f2e",
    "deepnote_to_be_reexecuted": false,
    "source_hash": "b623e53d",
    "execution_start": 1629075601582,
    "execution_millis": 42682,
    "deepnote_cell_type": "visualization"
   },
   "outputs": [],
   "execution_count": null
  },
  {
   "cell_type": "code",
   "metadata": {
    "cell_id": "00008-a5ba5d5b-0b7e-4606-8ff1-ef29c8c2a979",
    "deepnote_to_be_reexecuted": false,
    "source_hash": "99ea646e",
    "execution_start": 1629075601587,
    "execution_millis": 152,
    "deepnote_cell_type": "code"
   },
   "source": "fig=plt.figure(figsize=(10,6))\n\nsns.countplot(table['VisitorType'],data=table)\nplt.show()",
   "outputs": [
    {
     "name": "stderr",
     "text": "/shared-libs/python3.7/py/lib/python3.7/site-packages/seaborn/_decorators.py:43: FutureWarning: Pass the following variable as a keyword arg: x. From version 0.12, the only valid positional argument will be `data`, and passing other arguments without an explicit keyword will result in an error or misinterpretation.\n  FutureWarning\n",
     "output_type": "stream"
    },
    {
     "data": {
      "text/plain": "<Figure size 720x432 with 1 Axes>",
      "image/png": "[encoded data removed]"
     },
     "metadata": {
      "needs_background": "light",
      "image/png": {
       "width": 624,
       "height": 372
      }
     },
     "output_type": "display_data"
    }
   ],
   "execution_count": null
  },
  {
   "cell_type": "code",
   "metadata": {
    "tags": [],
    "cell_id": "00018-51099c02-1b0c-4531-a68a-1cd89c5abb11",
    "deepnote_to_be_reexecuted": false,
    "source_hash": "213efa2a",
    "execution_start": 1629075601737,
    "execution_millis": 162,
    "deepnote_cell_type": "code"
   },
   "source": "# getting rid of \"other\" visitor type\n\ntable = table.loc[table['VisitorType']!=\"Other\"]\ntable_log = np.log((table.iloc[:,:9])+1)\n\ntable['VisitorType']=table['VisitorType'].astype('category')\nfig=plt.figure(figsize=(10,6))\n\nsns.countplot(table['VisitorType'],data=table)\nplt.show()\n\nprint(table.shape)",
   "outputs": [
    {
     "name": "stderr",
     "text": "/shared-libs/python3.7/py/lib/python3.7/site-packages/seaborn/_decorators.py:43: FutureWarning: Pass the following variable as a keyword arg: x. From version 0.12, the only valid positional argument will be `data`, and passing other arguments without an explicit keyword will result in an error or misinterpretation.\n  FutureWarning\n",
     "output_type": "stream"
    },
    {
     "data": {
      "text/plain": "<Figure size 720x432 with 1 Axes>",
      "image/png": "[encoded data removed]"
     },
     "metadata": {
      "needs_background": "light",
      "image/png": {
       "width": 624,
       "height": 372
      }
     },
     "output_type": "display_data"
    },
    {
     "name": "stdout",
     "text": "(12245, 18)\n",
     "output_type": "stream"
    }
   ],
   "execution_count": null
  },
  {
   "cell_type": "code",
   "metadata": {
    "tags": [],
    "cell_id": "00017-a6d64f60-804d-46b5-a576-8b86c08060ba",
    "deepnote_to_be_reexecuted": false,
    "source_hash": "8ccf4056",
    "execution_start": 1629075601897,
    "execution_millis": 209,
    "deepnote_cell_type": "code"
   },
   "source": "fig=plt.figure(figsize=(10,6))\nsns.countplot(table['Month'],data=table)\nplt.show()",
   "outputs": [
    {
     "data": {
      "text/plain": "<Figure size 720x432 with 1 Axes>",
      "image/png": "[encoded data removed]"
     },
     "metadata": {
      "needs_background": "light",
      "image/png": {
       "width": 618,
       "height": 372
      }
     },
     "output_type": "display_data"
    }
   ],
   "execution_count": null
  },
  {
   "cell_type": "markdown",
   "source": "There are only positive correlations, but, other than duration for a page to its own page visits, moderate correlations at best exist. Because of low correlations,it could be good to model based off these variables as there will be low inflation and multicollinearity concerns.",
   "metadata": {
    "tags": [],
    "cell_id": "00021-9be255ff-2329-4fbc-b61f-694fc1da09aa",
    "deepnote_cell_type": "markdown"
   }
  },
  {
   "cell_type": "code",
   "metadata": {
    "tags": [],
    "cell_id": "00018-f2d82b4d-7475-48d6-91ac-448d19c1ce46",
    "deepnote_to_be_reexecuted": false,
    "source_hash": "3703fc63",
    "execution_start": 1629075602150,
    "execution_millis": 137,
    "deepnote_cell_type": "code"
   },
   "source": "fig=plt.figure(figsize=(10,6))\n\nsns.countplot(table['Region'],data=table)\nplt.show()",
   "outputs": [
    {
     "name": "stderr",
     "text": "/shared-libs/python3.7/py/lib/python3.7/site-packages/seaborn/_decorators.py:43: FutureWarning: Pass the following variable as a keyword arg: x. From version 0.12, the only valid positional argument will be `data`, and passing other arguments without an explicit keyword will result in an error or misinterpretation.\n  FutureWarning\n",
     "output_type": "stream"
    },
    {
     "data": {
      "text/plain": "<Figure size 720x432 with 1 Axes>",
      "image/png": "[encoded data removed]"
     },
     "metadata": {
      "needs_background": "light",
      "image/png": {
       "width": 618,
       "height": 374
      }
     },
     "output_type": "display_data"
    }
   ],
   "execution_count": null
  },
  {
   "cell_type": "code",
   "metadata": {
    "tags": [],
    "cell_id": "00023-6837c1b2-c0bf-4c7e-b2e9-c766483048d9",
    "deepnote_to_be_reexecuted": false,
    "source_hash": "67adf3fa",
    "execution_start": 1629075602302,
    "execution_millis": 514,
    "deepnote_cell_type": "code"
   },
   "source": "fig=plt.figure(figsize=(10,6))\n\nsns.countplot(table['TrafficType'],data=table)\nplt.show()",
   "outputs": [
    {
     "name": "stderr",
     "text": "/shared-libs/python3.7/py/lib/python3.7/site-packages/seaborn/_decorators.py:43: FutureWarning: Pass the following variable as a keyword arg: x. From version 0.12, the only valid positional argument will be `data`, and passing other arguments without an explicit keyword will result in an error or misinterpretation.\n  FutureWarning\n",
     "output_type": "stream"
    },
    {
     "data": {
      "text/plain": "<Figure size 720x432 with 1 Axes>",
      "image/png": "[encoded data removed]"
     },
     "metadata": {
      "needs_background": "light",
      "image/png": {
       "width": 618,
       "height": 371
      }
     },
     "output_type": "display_data"
    }
   ],
   "execution_count": null
  },
  {
   "cell_type": "code",
   "metadata": {
    "tags": [],
    "cell_id": "00019-1acf5442-bb69-4939-bff0-eeacdaffab12",
    "deepnote_to_be_reexecuted": false,
    "source_hash": "a3360802",
    "execution_start": 1629075602758,
    "execution_millis": 336,
    "deepnote_cell_type": "code"
   },
   "source": "fig=plt.figure(figsize=(10,6))\n\nsns.countplot(table['Browser'],data=table)\nplt.show()",
   "outputs": [
    {
     "name": "stderr",
     "text": "/shared-libs/python3.7/py/lib/python3.7/site-packages/seaborn/_decorators.py:43: FutureWarning: Pass the following variable as a keyword arg: x. From version 0.12, the only valid positional argument will be `data`, and passing other arguments without an explicit keyword will result in an error or misinterpretation.\n  FutureWarning\n",
     "output_type": "stream"
    },
    {
     "data": {
      "text/plain": "<Figure size 720x432 with 1 Axes>",
      "image/png": "[encoded data removed]"
     },
     "metadata": {
      "needs_background": "light",
      "image/png": {
       "width": 618,
       "height": 371
      }
     },
     "output_type": "display_data"
    }
   ],
   "execution_count": null
  },
  {
   "cell_type": "code",
   "metadata": {
    "tags": [],
    "cell_id": "00025-a505b72a-dece-41e6-976c-bc44fabd914c",
    "deepnote_to_be_reexecuted": false,
    "source_hash": "62e183bc",
    "execution_start": 1629075602880,
    "execution_millis": 55,
    "deepnote_cell_type": "code"
   },
   "source": "# Noisy data in Browser (Browsers of 7 and greater) and TrafficType (Type 14 and greater)\n\ntable = table.loc[(table['Browser']<=6)&(table['TrafficType']<=13)]\ntable = table.loc[table['VisitorType']!=\"Other\"]\n\n\n# now finally change their data types to categorical\n\ntable[['Browser','Region','TrafficType']]=table[['Browser','Region','TrafficType']].astype('category')\n",
   "outputs": [],
   "execution_count": null
  },
  {
   "cell_type": "code",
   "metadata": {
    "tags": [],
    "cell_id": "00026-f1526fed-4335-4472-b4e5-a50231f04c51",
    "deepnote_to_be_reexecuted": false,
    "source_hash": "ea8efdb3",
    "execution_start": 1629075602936,
    "execution_millis": 0,
    "deepnote_cell_type": "code"
   },
   "source": "table.dtypes",
   "outputs": [
    {
     "output_type": "execute_result",
     "execution_count": 26,
     "data": {
      "text/plain": "Administrative                int64\nAdministrative_Duration     float64\nInformational                 int64\nInformational_Duration      float64\nProductRelated                int64\nProductRelated_Duration     float64\nBounceRates                 float64\nExitRates                   float64\nPageValues                  float64\nSpecialDay                  float64\nMonth                        object\nOperatingSystems            float64\nBrowser                    category\nRegion                     category\nTrafficType                category\nVisitorType                category\nWeekend                        bool\nRevenue                        bool\ndtype: object"
     },
     "metadata": {}
    }
   ],
   "execution_count": null
  },
  {
   "cell_type": "code",
   "source": "# checking median for data grouped by revenue, after cutting redundant data\n\ntable.groupby('Revenue').median()",
   "metadata": {
    "tags": [],
    "cell_id": "00027-042ca4f4-ee2f-4c0e-a918-f81d8f0a9206",
    "deepnote_to_be_reexecuted": false,
    "source_hash": "431dfa81",
    "execution_start": 1629075602968,
    "execution_millis": 129,
    "deepnote_cell_type": "code"
   },
   "outputs": [
    {
     "output_type": "execute_result",
     "execution_count": 27,
     "data": {
      "application/vnd.deepnote.dataframe.v2+json": {
       "row_count": 2,
       "column_count": 12,
       "columns": [
        {
         "name": "Administrative",
         "dtype": "int64",
         "stats": {
          "unique_count": 2,
          "nan_count": 0,
          "min": "0",
          "max": "2",
          "histogram": [
           {
            "bin_start": 0,
            "bin_end": 0.2,
            "count": 1
           },
           {
            "bin_start": 0.2,
            "bin_end": 0.4,
            "count": 0
           },
           {
            "bin_start": 0.4,
            "bin_end": 0.6000000000000001,
            "count": 0
           },
           {
            "bin_start": 0.6000000000000001,
            "bin_end": 0.8,
            "count": 0
           },
           {
            "bin_start": 0.8,
            "bin_end": 1,
            "count": 0
           },
           {
            "bin_start": 1,
            "bin_end": 1.2000000000000002,
            "count": 0
           },
           {
            "bin_start": 1.2000000000000002,
            "bin_end": 1.4000000000000001,
            "count": 0
           },
           {
            "bin_start": 1.4000000000000001,
            "bin_end": 1.6,
            "count": 0
           },
           {
            "bin_start": 1.6,
            "bin_end": 1.8,
            "count": 0
           },
           {
            "bin_start": 1.8,
            "bin_end": 2,
            "count": 1
           }
          ]
         }
        },
        {
         "name": "Administrative_Duration",
         "dtype": "float64",
         "stats": {
          "unique_count": 2,
          "nan_count": 0,
          "min": "0.0",
          "max": "53.0",
          "histogram": [
           {
            "bin_start": 0,
            "bin_end": 5.3,
            "count": 1
           },
           {
            "bin_start": 5.3,
            "bin_end": 10.6,
            "count": 0
           },
           {
            "bin_start": 10.6,
            "bin_end": 15.899999999999999,
            "count": 0
           },
           {
            "bin_start": 15.899999999999999,
            "bin_end": 21.2,
            "count": 0
           },
           {
            "bin_start": 21.2,
            "bin_end": 26.5,
            "count": 0
           },
           {
            "bin_start": 26.5,
            "bin_end": 31.799999999999997,
            "count": 0
           },
           {
            "bin_start": 31.799999999999997,
            "bin_end": 37.1,
            "count": 0
           },
           {
            "bin_start": 37.1,
            "bin_end": 42.4,
            "count": 0
           },
           {
            "bin_start": 42.4,
            "bin_end": 47.699999999999996,
            "count": 0
           },
           {
            "bin_start": 47.699999999999996,
            "bin_end": 53,
            "count": 1
           }
          ]
         }
        },
        {
         "name": "Informational",
         "dtype": "int64",
         "stats": {
          "unique_count": 1,
          "nan_count": 0,
          "min": "0",
          "max": "0",
          "histogram": [
           {
            "bin_start": -0.5,
            "bin_end": -0.4,
            "count": 0
           },
           {
            "bin_start": -0.4,
            "bin_end": -0.3,
            "count": 0
           },
           {
            "bin_start": -0.3,
            "bin_end": -0.19999999999999996,
            "count": 0
           },
           {
            "bin_start": -0.19999999999999996,
            "bin_end": -0.09999999999999998,
            "count": 0
           },
           {
            "bin_start": -0.09999999999999998,
            "bin_end": 0,
            "count": 0
           },
           {
            "bin_start": 0,
            "bin_end": 0.10000000000000009,
            "count": 2
           },
           {
            "bin_start": 0.10000000000000009,
            "bin_end": 0.20000000000000007,
            "count": 0
           },
           {
            "bin_start": 0.20000000000000007,
            "bin_end": 0.30000000000000004,
            "count": 0
           },
           {
            "bin_start": 0.30000000000000004,
            "bin_end": 0.4,
            "count": 0
           },
           {
            "bin_start": 0.4,
            "bin_end": 0.5,
            "count": 0
           }
          ]
         }
        },
        {
         "name": "Informational_Duration",
         "dtype": "float64",
         "stats": {
          "unique_count": 1,
          "nan_count": 0,
          "min": "0.0",
          "max": "0.0",
          "histogram": [
           {
            "bin_start": -0.5,
            "bin_end": -0.4,
            "count": 0
           },
           {
            "bin_start": -0.4,
            "bin_end": -0.3,
            "count": 0
           },
           {
            "bin_start": -0.3,
            "bin_end": -0.19999999999999996,
            "count": 0
           },
           {
            "bin_start": -0.19999999999999996,
            "bin_end": -0.09999999999999998,
            "count": 0
           },
           {
            "bin_start": -0.09999999999999998,
            "bin_end": 0,
            "count": 0
           },
           {
            "bin_start": 0,
            "bin_end": 0.10000000000000009,
            "count": 2
           },
           {
            "bin_start": 0.10000000000000009,
            "bin_end": 0.20000000000000007,
            "count": 0
           },
           {
            "bin_start": 0.20000000000000007,
            "bin_end": 0.30000000000000004,
            "count": 0
           },
           {
            "bin_start": 0.30000000000000004,
            "bin_end": 0.4,
            "count": 0
           },
           {
            "bin_start": 0.4,
            "bin_end": 0.5,
            "count": 0
           }
          ]
         }
        },
        {
         "name": "ProductRelated",
         "dtype": "int64",
         "stats": {
          "unique_count": 2,
          "nan_count": 0,
          "min": "16",
          "max": "29",
          "histogram": [
           {
            "bin_start": 16,
            "bin_end": 17.3,
            "count": 1
           },
           {
            "bin_start": 17.3,
            "bin_end": 18.6,
            "count": 0
           },
           {
            "bin_start": 18.6,
            "bin_end": 19.9,
            "count": 0
           },
           {
            "bin_start": 19.9,
            "bin_end": 21.2,
            "count": 0
           },
           {
            "bin_start": 21.2,
            "bin_end": 22.5,
            "count": 0
           },
           {
            "bin_start": 22.5,
            "bin_end": 23.8,
            "count": 0
           },
           {
            "bin_start": 23.8,
            "bin_end": 25.1,
            "count": 0
           },
           {
            "bin_start": 25.1,
            "bin_end": 26.4,
            "count": 0
           },
           {
            "bin_start": 26.4,
            "bin_end": 27.700000000000003,
            "count": 0
           },
           {
            "bin_start": 27.700000000000003,
            "bin_end": 29,
            "count": 1
           }
          ]
         }
        },
        {
         "name": "ProductRelated_Duration",
         "dtype": "float64",
         "stats": {
          "unique_count": 2,
          "nan_count": 0,
          "min": "525.83333335",
          "max": "1133.016667",
          "histogram": [
           {
            "bin_start": 525.83333335,
            "bin_end": 586.551666715,
            "count": 1
           },
           {
            "bin_start": 586.551666715,
            "bin_end": 647.27000008,
            "count": 0
           },
           {
            "bin_start": 647.27000008,
            "bin_end": 707.9883334450001,
            "count": 0
           },
           {
            "bin_start": 707.9883334450001,
            "bin_end": 768.70666681,
            "count": 0
           },
           {
            "bin_start": 768.70666681,
            "bin_end": 829.425000175,
            "count": 0
           },
           {
            "bin_start": 829.425000175,
            "bin_end": 890.1433335400001,
            "count": 0
           },
           {
            "bin_start": 890.1433335400001,
            "bin_end": 950.861666905,
            "count": 0
           },
           {
            "bin_start": 950.861666905,
            "bin_end": 1011.58000027,
            "count": 0
           },
           {
            "bin_start": 1011.58000027,
            "bin_end": 1072.298333635,
            "count": 0
           },
           {
            "bin_start": 1072.298333635,
            "bin_end": 1133.016667,
            "count": 1
           }
          ]
         }
        },
        {
         "name": "BounceRates",
         "dtype": "float64",
         "stats": {
          "unique_count": 2,
          "nan_count": 0,
          "min": "0.0",
          "max": "0.004347826",
          "histogram": [
           {
            "bin_start": 0,
            "bin_end": 0.0004347826,
            "count": 1
           },
           {
            "bin_start": 0.0004347826,
            "bin_end": 0.0008695652,
            "count": 0
           },
           {
            "bin_start": 0.0008695652,
            "bin_end": 0.0013043477999999998,
            "count": 0
           },
           {
            "bin_start": 0.0013043477999999998,
            "bin_end": 0.0017391304,
            "count": 0
           },
           {
            "bin_start": 0.0017391304,
            "bin_end": 0.002173913,
            "count": 0
           },
           {
            "bin_start": 0.002173913,
            "bin_end": 0.0026086955999999996,
            "count": 0
           },
           {
            "bin_start": 0.0026086955999999996,
            "bin_end": 0.0030434781999999997,
            "count": 0
           },
           {
            "bin_start": 0.0030434781999999997,
            "bin_end": 0.0034782608,
            "count": 0
           },
           {
            "bin_start": 0.0034782608,
            "bin_end": 0.0039130434,
            "count": 0
           },
           {
            "bin_start": 0.0039130434,
            "bin_end": 0.004347826,
            "count": 1
           }
          ]
         }
        },
        {
         "name": "ExitRates",
         "dtype": "float64",
         "stats": {
          "unique_count": 2,
          "nan_count": 0,
          "min": "0.016190476",
          "max": "0.028571429",
          "histogram": [
           {
            "bin_start": 0.016190476,
            "bin_end": 0.017428571299999997,
            "count": 1
           },
           {
            "bin_start": 0.017428571299999997,
            "bin_end": 0.0186666666,
            "count": 0
           },
           {
            "bin_start": 0.0186666666,
            "bin_end": 0.019904761899999998,
            "count": 0
           },
           {
            "bin_start": 0.019904761899999998,
            "bin_end": 0.021142857199999997,
            "count": 0
           },
           {
            "bin_start": 0.021142857199999997,
            "bin_end": 0.0223809525,
            "count": 0
           },
           {
            "bin_start": 0.0223809525,
            "bin_end": 0.023619047799999997,
            "count": 0
           },
           {
            "bin_start": 0.023619047799999997,
            "bin_end": 0.0248571431,
            "count": 0
           },
           {
            "bin_start": 0.0248571431,
            "bin_end": 0.026095238399999998,
            "count": 0
           },
           {
            "bin_start": 0.026095238399999998,
            "bin_end": 0.027333333699999997,
            "count": 0
           },
           {
            "bin_start": 0.027333333699999997,
            "bin_end": 0.028571429,
            "count": 1
           }
          ]
         }
        },
        {
         "name": "PageValues",
         "dtype": "float64",
         "stats": {
          "unique_count": 2,
          "nan_count": 0,
          "min": "0.0",
          "max": "16.1892",
          "histogram": [
           {
            "bin_start": 0,
            "bin_end": 1.61892,
            "count": 1
           },
           {
            "bin_start": 1.61892,
            "bin_end": 3.23784,
            "count": 0
           },
           {
            "bin_start": 3.23784,
            "bin_end": 4.8567599999999995,
            "count": 0
           },
           {
            "bin_start": 4.8567599999999995,
            "bin_end": 6.47568,
            "count": 0
           },
           {
            "bin_start": 6.47568,
            "bin_end": 8.0946,
            "count": 0
           },
           {
            "bin_start": 8.0946,
            "bin_end": 9.713519999999999,
            "count": 0
           },
           {
            "bin_start": 9.713519999999999,
            "bin_end": 11.33244,
            "count": 0
           },
           {
            "bin_start": 11.33244,
            "bin_end": 12.95136,
            "count": 0
           },
           {
            "bin_start": 12.95136,
            "bin_end": 14.570279999999999,
            "count": 0
           },
           {
            "bin_start": 14.570279999999999,
            "bin_end": 16.1892,
            "count": 1
           }
          ]
         }
        },
        {
         "name": "SpecialDay",
         "dtype": "float64",
         "stats": {
          "unique_count": 1,
          "nan_count": 0,
          "min": "0.0",
          "max": "0.0",
          "histogram": [
           {
            "bin_start": -0.5,
            "bin_end": -0.4,
            "count": 0
           },
           {
            "bin_start": -0.4,
            "bin_end": -0.3,
            "count": 0
           },
           {
            "bin_start": -0.3,
            "bin_end": -0.19999999999999996,
            "count": 0
           },
           {
            "bin_start": -0.19999999999999996,
            "bin_end": -0.09999999999999998,
            "count": 0
           },
           {
            "bin_start": -0.09999999999999998,
            "bin_end": 0,
            "count": 0
           },
           {
            "bin_start": 0,
            "bin_end": 0.10000000000000009,
            "count": 2
           },
           {
            "bin_start": 0.10000000000000009,
            "bin_end": 0.20000000000000007,
            "count": 0
           },
           {
            "bin_start": 0.20000000000000007,
            "bin_end": 0.30000000000000004,
            "count": 0
           },
           {
            "bin_start": 0.30000000000000004,
            "bin_end": 0.4,
            "count": 0
           },
           {
            "bin_start": 0.4,
            "bin_end": 0.5,
            "count": 0
           }
          ]
         }
        },
        {
         "name": "OperatingSystems",
         "dtype": "float64",
         "stats": {
          "unique_count": 1,
          "nan_count": 0,
          "min": "2.0",
          "max": "2.0",
          "histogram": [
           {
            "bin_start": 1.5,
            "bin_end": 1.6,
            "count": 0
           },
           {
            "bin_start": 1.6,
            "bin_end": 1.7,
            "count": 0
           },
           {
            "bin_start": 1.7,
            "bin_end": 1.8,
            "count": 0
           },
           {
            "bin_start": 1.8,
            "bin_end": 1.9,
            "count": 0
           },
           {
            "bin_start": 1.9,
            "bin_end": 2,
            "count": 0
           },
           {
            "bin_start": 2,
            "bin_end": 2.1,
            "count": 2
           },
           {
            "bin_start": 2.1,
            "bin_end": 2.2,
            "count": 0
           },
           {
            "bin_start": 2.2,
            "bin_end": 2.3,
            "count": 0
           },
           {
            "bin_start": 2.3,
            "bin_end": 2.4,
            "count": 0
           },
           {
            "bin_start": 2.4,
            "bin_end": 2.5,
            "count": 0
           }
          ]
         }
        },
        {
         "name": "Weekend",
         "dtype": "bool",
         "stats": {
          "unique_count": 1,
          "nan_count": 0,
          "categories": [
           {
            "name": "False",
            "count": 2
           }
          ]
         }
        },
        {
         "name": "_deepnote_index_column",
         "dtype": "object"
        }
       ],
       "rows_top": [
        {
         "Administrative": 0,
         "Administrative_Duration": 0,
         "Informational": 0,
         "Informational_Duration": 0,
         "ProductRelated": 16,
         "ProductRelated_Duration": 525.83333335,
         "BounceRates": 0.004347826,
         "ExitRates": 0.028571429,
         "PageValues": 0,
         "SpecialDay": 0,
         "OperatingSystems": 2,
         "Weekend": "False",
         "_deepnote_index_column": "False"
        },
        {
         "Administrative": 2,
         "Administrative_Duration": 53,
         "Informational": 0,
         "Informational_Duration": 0,
         "ProductRelated": 29,
         "ProductRelated_Duration": 1133.016667,
         "BounceRates": 0,
         "ExitRates": 0.016190476,
         "PageValues": 16.1892,
         "SpecialDay": 0,
         "OperatingSystems": 2,
         "Weekend": "False",
         "_deepnote_index_column": "True"
        }
       ],
       "rows_bottom": null
      },
      "text/plain": "         Administrative  Administrative_Duration  Informational  \\\nRevenue                                                           \nFalse                 0                      0.0              0   \nTrue                  2                     53.0              0   \n\n         Informational_Duration  ProductRelated  ProductRelated_Duration  \\\nRevenue                                                                    \nFalse                       0.0              16               525.833333   \nTrue                        0.0              29              1133.016667   \n\n         BounceRates  ExitRates  PageValues  SpecialDay  OperatingSystems  \\\nRevenue                                                                     \nFalse       0.004348   0.028571      0.0000         0.0               2.0   \nTrue        0.000000   0.016190     16.1892         0.0               2.0   \n\n         Weekend  \nRevenue           \nFalse      False  \nTrue       False  ",
      "text/html": "<div>\n<style scoped>\n    .dataframe tbody tr th:only-of-type {\n        vertical-align: middle;\n    }\n\n    .dataframe tbody tr th {\n        vertical-align: top;\n    }\n\n    .dataframe thead th {\n        text-align: right;\n    }\n</style>\n<table border=\"1\" class=\"dataframe\">\n  <thead>\n    <tr style=\"text-align: right;\">\n      <th></th>\n      <th>Administrative</th>\n      <th>Administrative_Duration</th>\n      <th>Informational</th>\n      <th>Informational_Duration</th>\n      <th>ProductRelated</th>\n      <th>ProductRelated_Duration</th>\n      <th>BounceRates</th>\n      <th>ExitRates</th>\n      <th>PageValues</th>\n      <th>SpecialDay</th>\n      <th>OperatingSystems</th>\n      <th>Weekend</th>\n    </tr>\n    <tr>\n      <th>Revenue</th>\n      <th></th>\n      <th></th>\n      <th></th>\n      <th></th>\n      <th></th>\n      <th></th>\n      <th></th>\n      <th></th>\n      <th></th>\n      <th></th>\n      <th></th>\n      <th></th>\n    </tr>\n  </thead>\n  <tbody>\n    <tr>\n      <th>False</th>\n      <td>0</td>\n      <td>0.0</td>\n      <td>0</td>\n      <td>0.0</td>\n      <td>16</td>\n      <td>525.833333</td>\n      <td>0.004348</td>\n      <td>0.028571</td>\n      <td>0.0000</td>\n      <td>0.0</td>\n      <td>2.0</td>\n      <td>False</td>\n    </tr>\n    <tr>\n      <th>True</th>\n      <td>2</td>\n      <td>53.0</td>\n      <td>0</td>\n      <td>0.0</td>\n      <td>29</td>\n      <td>1133.016667</td>\n      <td>0.000000</td>\n      <td>0.016190</td>\n      <td>16.1892</td>\n      <td>0.0</td>\n      <td>2.0</td>\n      <td>False</td>\n    </tr>\n  </tbody>\n</table>\n</div>"
     },
     "metadata": {}
    }
   ],
   "execution_count": null
  },
  {
   "cell_type": "code",
   "metadata": {
    "tags": [],
    "cell_id": "00027-79e199d3-a691-4532-b472-78d24c563efb",
    "deepnote_to_be_reexecuted": false,
    "source_hash": "b0db4e43",
    "execution_start": 1629075603069,
    "execution_millis": 28,
    "deepnote_cell_type": "code"
   },
   "source": "# creating a column to create a boolean for visitor type\n\ntable[\"Returning Visitor?\"]=np.where(table['VisitorType'].str.contains(\"Returning_Visitor\"),1,0)\n\ntable[\"Returning Visitor?\"] = table[\"Returning Visitor?\"].astype(bool)\n\ntable[\"Returning Visitor?\"].unique()",
   "outputs": [
    {
     "output_type": "execute_result",
     "execution_count": 28,
     "data": {
      "text/plain": "array([ True, False])"
     },
     "metadata": {}
    }
   ],
   "execution_count": null
  },
  {
   "cell_type": "code",
   "source": "# Creating new table with logged values\n\ntable_log = np.log((table.iloc[:,:9])+1)\n\n# adding revenue column to log table\n\ntable_log['Revenue'] = table['Revenue']\n\n# Plotting head map of correlation between numerical variables and revenue\n\ncorr_num_log = table_log.corr()\n\nfig = plt.figure(figsize=(8,8))\nsns.heatmap(round(corr_num_log,2),xticklabels=corr_num_log.columns,yticklabels=corr_num_log.columns, annot=True)",
   "metadata": {
    "tags": [],
    "cell_id": "00029-47d856c5-2d58-4ecf-88ae-cb6e7d207f46",
    "deepnote_to_be_reexecuted": false,
    "source_hash": "cd8d2855",
    "execution_start": 1629075603070,
    "execution_millis": 1023,
    "deepnote_cell_type": "code"
   },
   "outputs": [
    {
     "output_type": "execute_result",
     "execution_count": 29,
     "data": {
      "text/plain": "<AxesSubplot:>"
     },
     "metadata": {}
    },
    {
     "data": {
      "text/plain": "<Figure size 576x576 with 2 Axes>",
      "image/png": "[encoded data removed]"
     },
     "metadata": {
      "needs_background": "light",
      "image/png": {
       "width": 578,
       "height": 584
      }
     },
     "output_type": "display_data"
    }
   ],
   "execution_count": null
  },
  {
   "cell_type": "code",
   "source": "exitrates = table_log.iloc[:,7]\n\nplt.boxplot(exitrates)\nplt.show()",
   "metadata": {
    "tags": [],
    "cell_id": "00033-b01671b8-0068-47fa-bb2b-7f0c69d0a150",
    "deepnote_to_be_reexecuted": false,
    "source_hash": "93040724",
    "execution_start": 1629076656124,
    "execution_millis": 124,
    "deepnote_cell_type": "code"
   },
   "outputs": [
    {
     "data": {
      "text/plain": "<Figure size 432x288 with 1 Axes>",
      "image/png": "[encoded data removed]"
     },
     "metadata": {
      "needs_background": "light",
      "image/png": {
       "width": 384,
       "height": 248
      }
     },
     "output_type": "display_data"
    }
   ],
   "execution_count": null
  },
  {
   "cell_type": "code",
   "source": "table_log.groupby('Revenue').median()",
   "metadata": {
    "tags": [],
    "cell_id": "00030-128191ca-d0d3-447e-a41e-1beac488a4f1",
    "deepnote_to_be_reexecuted": false,
    "source_hash": "49e50447",
    "execution_start": 1629075604096,
    "execution_millis": 37,
    "deepnote_cell_type": "code"
   },
   "outputs": [
    {
     "output_type": "execute_result",
     "execution_count": 30,
     "data": {
      "application/vnd.deepnote.dataframe.v2+json": {
       "row_count": 2,
       "column_count": 9,
       "columns": [
        {
         "name": "Administrative",
         "dtype": "float64",
         "stats": {
          "unique_count": 2,
          "nan_count": 0,
          "min": "0.0",
          "max": "1.0986122886681098",
          "histogram": [
           {
            "bin_start": 0,
            "bin_end": 0.10986122886681098,
            "count": 1
           },
           {
            "bin_start": 0.10986122886681098,
            "bin_end": 0.21972245773362195,
            "count": 0
           },
           {
            "bin_start": 0.21972245773362195,
            "bin_end": 0.3295836866004329,
            "count": 0
           },
           {
            "bin_start": 0.3295836866004329,
            "bin_end": 0.4394449154672439,
            "count": 0
           },
           {
            "bin_start": 0.4394449154672439,
            "bin_end": 0.5493061443340549,
            "count": 0
           },
           {
            "bin_start": 0.5493061443340549,
            "bin_end": 0.6591673732008658,
            "count": 0
           },
           {
            "bin_start": 0.6591673732008658,
            "bin_end": 0.7690286020676769,
            "count": 0
           },
           {
            "bin_start": 0.7690286020676769,
            "bin_end": 0.8788898309344878,
            "count": 0
           },
           {
            "bin_start": 0.8788898309344878,
            "bin_end": 0.9887510598012987,
            "count": 0
           },
           {
            "bin_start": 0.9887510598012987,
            "bin_end": 1.0986122886681098,
            "count": 1
           }
          ]
         }
        },
        {
         "name": "Administrative_Duration",
         "dtype": "float64",
         "stats": {
          "unique_count": 2,
          "nan_count": 0,
          "min": "0.0",
          "max": "3.9889840465642745",
          "histogram": [
           {
            "bin_start": 0,
            "bin_end": 0.39889840465642745,
            "count": 1
           },
           {
            "bin_start": 0.39889840465642745,
            "bin_end": 0.7977968093128549,
            "count": 0
           },
           {
            "bin_start": 0.7977968093128549,
            "bin_end": 1.1966952139692824,
            "count": 0
           },
           {
            "bin_start": 1.1966952139692824,
            "bin_end": 1.5955936186257098,
            "count": 0
           },
           {
            "bin_start": 1.5955936186257098,
            "bin_end": 1.9944920232821373,
            "count": 0
           },
           {
            "bin_start": 1.9944920232821373,
            "bin_end": 2.3933904279385647,
            "count": 0
           },
           {
            "bin_start": 2.3933904279385647,
            "bin_end": 2.792288832594992,
            "count": 0
           },
           {
            "bin_start": 2.792288832594992,
            "bin_end": 3.1911872372514196,
            "count": 0
           },
           {
            "bin_start": 3.1911872372514196,
            "bin_end": 3.590085641907847,
            "count": 0
           },
           {
            "bin_start": 3.590085641907847,
            "bin_end": 3.9889840465642745,
            "count": 1
           }
          ]
         }
        },
        {
         "name": "Informational",
         "dtype": "float64",
         "stats": {
          "unique_count": 1,
          "nan_count": 0,
          "min": "0.0",
          "max": "0.0",
          "histogram": [
           {
            "bin_start": -0.5,
            "bin_end": -0.4,
            "count": 0
           },
           {
            "bin_start": -0.4,
            "bin_end": -0.3,
            "count": 0
           },
           {
            "bin_start": -0.3,
            "bin_end": -0.19999999999999996,
            "count": 0
           },
           {
            "bin_start": -0.19999999999999996,
            "bin_end": -0.09999999999999998,
            "count": 0
           },
           {
            "bin_start": -0.09999999999999998,
            "bin_end": 0,
            "count": 0
           },
           {
            "bin_start": 0,
            "bin_end": 0.10000000000000009,
            "count": 2
           },
           {
            "bin_start": 0.10000000000000009,
            "bin_end": 0.20000000000000007,
            "count": 0
           },
           {
            "bin_start": 0.20000000000000007,
            "bin_end": 0.30000000000000004,
            "count": 0
           },
           {
            "bin_start": 0.30000000000000004,
            "bin_end": 0.4,
            "count": 0
           },
           {
            "bin_start": 0.4,
            "bin_end": 0.5,
            "count": 0
           }
          ]
         }
        },
        {
         "name": "Informational_Duration",
         "dtype": "float64",
         "stats": {
          "unique_count": 1,
          "nan_count": 0,
          "min": "0.0",
          "max": "0.0",
          "histogram": [
           {
            "bin_start": -0.5,
            "bin_end": -0.4,
            "count": 0
           },
           {
            "bin_start": -0.4,
            "bin_end": -0.3,
            "count": 0
           },
           {
            "bin_start": -0.3,
            "bin_end": -0.19999999999999996,
            "count": 0
           },
           {
            "bin_start": -0.19999999999999996,
            "bin_end": -0.09999999999999998,
            "count": 0
           },
           {
            "bin_start": -0.09999999999999998,
            "bin_end": 0,
            "count": 0
           },
           {
            "bin_start": 0,
            "bin_end": 0.10000000000000009,
            "count": 2
           },
           {
            "bin_start": 0.10000000000000009,
            "bin_end": 0.20000000000000007,
            "count": 0
           },
           {
            "bin_start": 0.20000000000000007,
            "bin_end": 0.30000000000000004,
            "count": 0
           },
           {
            "bin_start": 0.30000000000000004,
            "bin_end": 0.4,
            "count": 0
           },
           {
            "bin_start": 0.4,
            "bin_end": 0.5,
            "count": 0
           }
          ]
         }
        },
        {
         "name": "ProductRelated",
         "dtype": "float64",
         "stats": {
          "unique_count": 2,
          "nan_count": 0,
          "min": "2.833213344056216",
          "max": "3.4011973816621555",
          "histogram": [
           {
            "bin_start": 2.833213344056216,
            "bin_end": 2.89001174781681,
            "count": 1
           },
           {
            "bin_start": 2.89001174781681,
            "bin_end": 2.946810151577404,
            "count": 0
           },
           {
            "bin_start": 2.946810151577404,
            "bin_end": 3.003608555337998,
            "count": 0
           },
           {
            "bin_start": 3.003608555337998,
            "bin_end": 3.060406959098592,
            "count": 0
           },
           {
            "bin_start": 3.060406959098592,
            "bin_end": 3.1172053628591856,
            "count": 0
           },
           {
            "bin_start": 3.1172053628591856,
            "bin_end": 3.17400376661978,
            "count": 0
           },
           {
            "bin_start": 3.17400376661978,
            "bin_end": 3.2308021703803735,
            "count": 0
           },
           {
            "bin_start": 3.2308021703803735,
            "bin_end": 3.2876005741409675,
            "count": 0
           },
           {
            "bin_start": 3.2876005741409675,
            "bin_end": 3.3443989779015615,
            "count": 0
           },
           {
            "bin_start": 3.3443989779015615,
            "bin_end": 3.4011973816621555,
            "count": 1
           }
          ]
         }
        },
        {
         "name": "ProductRelated_Duration",
         "dtype": "float64",
         "stats": {
          "unique_count": 2,
          "nan_count": 0,
          "min": "6.266884192978778",
          "max": "7.033521181710554",
          "histogram": [
           {
            "bin_start": 6.266884192978778,
            "bin_end": 6.343547891851956,
            "count": 1
           },
           {
            "bin_start": 6.343547891851956,
            "bin_end": 6.420211590725133,
            "count": 0
           },
           {
            "bin_start": 6.420211590725133,
            "bin_end": 6.496875289598311,
            "count": 0
           },
           {
            "bin_start": 6.496875289598311,
            "bin_end": 6.573538988471488,
            "count": 0
           },
           {
            "bin_start": 6.573538988471488,
            "bin_end": 6.650202687344666,
            "count": 0
           },
           {
            "bin_start": 6.650202687344666,
            "bin_end": 6.726866386217844,
            "count": 0
           },
           {
            "bin_start": 6.726866386217844,
            "bin_end": 6.803530085091021,
            "count": 0
           },
           {
            "bin_start": 6.803530085091021,
            "bin_end": 6.880193783964199,
            "count": 0
           },
           {
            "bin_start": 6.880193783964199,
            "bin_end": 6.956857482837376,
            "count": 0
           },
           {
            "bin_start": 6.956857482837376,
            "bin_end": 7.033521181710554,
            "count": 1
           }
          ]
         }
        },
        {
         "name": "BounceRates",
         "dtype": "float64",
         "stats": {
          "unique_count": 2,
          "nan_count": 0,
          "min": "0.0",
          "max": "0.004338401512018133",
          "histogram": [
           {
            "bin_start": 0,
            "bin_end": 0.00043384015120181334,
            "count": 1
           },
           {
            "bin_start": 0.00043384015120181334,
            "bin_end": 0.0008676803024036267,
            "count": 0
           },
           {
            "bin_start": 0.0008676803024036267,
            "bin_end": 0.0013015204536054401,
            "count": 0
           },
           {
            "bin_start": 0.0013015204536054401,
            "bin_end": 0.0017353606048072534,
            "count": 0
           },
           {
            "bin_start": 0.0017353606048072534,
            "bin_end": 0.0021692007560090666,
            "count": 0
           },
           {
            "bin_start": 0.0021692007560090666,
            "bin_end": 0.0026030409072108802,
            "count": 0
           },
           {
            "bin_start": 0.0026030409072108802,
            "bin_end": 0.0030368810584126935,
            "count": 0
           },
           {
            "bin_start": 0.0030368810584126935,
            "bin_end": 0.0034707212096145067,
            "count": 0
           },
           {
            "bin_start": 0.0034707212096145067,
            "bin_end": 0.00390456136081632,
            "count": 0
           },
           {
            "bin_start": 0.00390456136081632,
            "bin_end": 0.004338401512018133,
            "count": 1
           }
          ]
         }
        },
        {
         "name": "ExitRates",
         "dtype": "float64",
         "stats": {
          "unique_count": 2,
          "nan_count": 0,
          "min": "0.016060807962742896",
          "max": "0.028170877383363078",
          "histogram": [
           {
            "bin_start": 0.016060807962742896,
            "bin_end": 0.017271814904804915,
            "count": 1
           },
           {
            "bin_start": 0.017271814904804915,
            "bin_end": 0.01848282184686693,
            "count": 0
           },
           {
            "bin_start": 0.01848282184686693,
            "bin_end": 0.01969382878892895,
            "count": 0
           },
           {
            "bin_start": 0.01969382878892895,
            "bin_end": 0.02090483573099097,
            "count": 0
           },
           {
            "bin_start": 0.02090483573099097,
            "bin_end": 0.022115842673052985,
            "count": 0
           },
           {
            "bin_start": 0.022115842673052985,
            "bin_end": 0.023326849615115004,
            "count": 0
           },
           {
            "bin_start": 0.023326849615115004,
            "bin_end": 0.024537856557177024,
            "count": 0
           },
           {
            "bin_start": 0.024537856557177024,
            "bin_end": 0.025748863499239043,
            "count": 0
           },
           {
            "bin_start": 0.025748863499239043,
            "bin_end": 0.02695987044130106,
            "count": 0
           },
           {
            "bin_start": 0.02695987044130106,
            "bin_end": 0.028170877383363078,
            "count": 1
           }
          ]
         }
        },
        {
         "name": "PageValues",
         "dtype": "float64",
         "stats": {
          "unique_count": 2,
          "nan_count": 0,
          "min": "0.0",
          "max": "2.8442812796265176",
          "histogram": [
           {
            "bin_start": 0,
            "bin_end": 0.28442812796265177,
            "count": 1
           },
           {
            "bin_start": 0.28442812796265177,
            "bin_end": 0.5688562559253035,
            "count": 0
           },
           {
            "bin_start": 0.5688562559253035,
            "bin_end": 0.8532843838879554,
            "count": 0
           },
           {
            "bin_start": 0.8532843838879554,
            "bin_end": 1.137712511850607,
            "count": 0
           },
           {
            "bin_start": 1.137712511850607,
            "bin_end": 1.4221406398132588,
            "count": 0
           },
           {
            "bin_start": 1.4221406398132588,
            "bin_end": 1.7065687677759107,
            "count": 0
           },
           {
            "bin_start": 1.7065687677759107,
            "bin_end": 1.9909968957385624,
            "count": 0
           },
           {
            "bin_start": 1.9909968957385624,
            "bin_end": 2.275425023701214,
            "count": 0
           },
           {
            "bin_start": 2.275425023701214,
            "bin_end": 2.559853151663866,
            "count": 0
           },
           {
            "bin_start": 2.559853151663866,
            "bin_end": 2.8442812796265176,
            "count": 1
           }
          ]
         }
        },
        {
         "name": "_deepnote_index_column",
         "dtype": "object"
        }
       ],
       "rows_top": [
        {
         "Administrative": 0,
         "Administrative_Duration": 0,
         "Informational": 0,
         "Informational_Duration": 0,
         "ProductRelated": 2.833213344056216,
         "ProductRelated_Duration": 6.266884192978778,
         "BounceRates": 0.004338401512018133,
         "ExitRates": 0.028170877383363078,
         "PageValues": 0,
         "_deepnote_index_column": "False"
        },
        {
         "Administrative": 1.0986122886681098,
         "Administrative_Duration": 3.9889840465642745,
         "Informational": 0,
         "Informational_Duration": 0,
         "ProductRelated": 3.4011973816621555,
         "ProductRelated_Duration": 7.033521181710554,
         "BounceRates": 0,
         "ExitRates": 0.016060807962742896,
         "PageValues": 2.8442812796265176,
         "_deepnote_index_column": "True"
        }
       ],
       "rows_bottom": null
      },
      "text/plain": "         Administrative  Administrative_Duration  Informational  \\\nRevenue                                                           \nFalse          0.000000                 0.000000            0.0   \nTrue           1.098612                 3.988984            0.0   \n\n         Informational_Duration  ProductRelated  ProductRelated_Duration  \\\nRevenue                                                                    \nFalse                       0.0        2.833213                 6.266884   \nTrue                        0.0        3.401197                 7.033521   \n\n         BounceRates  ExitRates  PageValues  \nRevenue                                      \nFalse       0.004338   0.028171    0.000000  \nTrue        0.000000   0.016061    2.844281  ",
      "text/html": "<div>\n<style scoped>\n    .dataframe tbody tr th:only-of-type {\n        vertical-align: middle;\n    }\n\n    .dataframe tbody tr th {\n        vertical-align: top;\n    }\n\n    .dataframe thead th {\n        text-align: right;\n    }\n</style>\n<table border=\"1\" class=\"dataframe\">\n  <thead>\n    <tr style=\"text-align: right;\">\n      <th></th>\n      <th>Administrative</th>\n      <th>Administrative_Duration</th>\n      <th>Informational</th>\n      <th>Informational_Duration</th>\n      <th>ProductRelated</th>\n      <th>ProductRelated_Duration</th>\n      <th>BounceRates</th>\n      <th>ExitRates</th>\n      <th>PageValues</th>\n    </tr>\n    <tr>\n      <th>Revenue</th>\n      <th></th>\n      <th></th>\n      <th></th>\n      <th></th>\n      <th></th>\n      <th></th>\n      <th></th>\n      <th></th>\n      <th></th>\n    </tr>\n  </thead>\n  <tbody>\n    <tr>\n      <th>False</th>\n      <td>0.000000</td>\n      <td>0.000000</td>\n      <td>0.0</td>\n      <td>0.0</td>\n      <td>2.833213</td>\n      <td>6.266884</td>\n      <td>0.004338</td>\n      <td>0.028171</td>\n      <td>0.000000</td>\n    </tr>\n    <tr>\n      <th>True</th>\n      <td>1.098612</td>\n      <td>3.988984</td>\n      <td>0.0</td>\n      <td>0.0</td>\n      <td>3.401197</td>\n      <td>7.033521</td>\n      <td>0.000000</td>\n      <td>0.016061</td>\n      <td>2.844281</td>\n    </tr>\n  </tbody>\n</table>\n</div>"
     },
     "metadata": {}
    }
   ],
   "execution_count": null
  },
  {
   "cell_type": "code",
   "source": "# create new DF for variables in logistic regression based on correlations\n\nlog_features = table_log[['ProductRelated','PageValues']]",
   "metadata": {
    "tags": [],
    "cell_id": "00030-aaeb144b-aa94-4011-abf9-8ee74de4ba74",
    "deepnote_to_be_reexecuted": false,
    "source_hash": "418aebf9",
    "execution_start": 1629077574807,
    "execution_millis": 1,
    "deepnote_cell_type": "code"
   },
   "outputs": [],
   "execution_count": null
  },
  {
   "cell_type": "code",
   "metadata": {
    "tags": [],
    "cell_id": "00028-943cbaab-17ba-456a-b05a-424a46b3471f",
    "deepnote_to_be_reexecuted": false,
    "source_hash": "9aa6cb12",
    "execution_start": 1629075604142,
    "execution_millis": 40,
    "deepnote_cell_type": "code"
   },
   "source": "# creating new DF for variables wanted to be used for random forest\n\ntable_rf = table[['Region','TrafficType','Returning Visitor?','Weekend','Revenue']]\n\ntable_rf.head()",
   "outputs": [
    {
     "output_type": "execute_result",
     "execution_count": 32,
     "data": {
      "application/vnd.deepnote.dataframe.v2+json": {
       "row_count": 5,
       "column_count": 5,
       "columns": [
        {
         "name": "Region",
         "dtype": "category",
         "stats": {
          "unique_count": 3,
          "nan_count": 0,
          "categories": [
           {
            "name": "1",
            "count": 3
           },
           {
            "name": "9",
            "count": 1
           },
           {
            "name": "2",
            "count": 1
           }
          ]
         }
        },
        {
         "name": "TrafficType",
         "dtype": "category",
         "stats": {
          "unique_count": 4,
          "nan_count": 0,
          "categories": [
           {
            "name": "4",
            "count": 2
           },
           {
            "name": "1",
            "count": 1
           },
           {
            "name": "2 others",
            "count": 2
           }
          ]
         }
        },
        {
         "name": "Returning Visitor?",
         "dtype": "bool",
         "stats": {
          "unique_count": 1,
          "nan_count": 0,
          "categories": [
           {
            "name": "True",
            "count": 5
           }
          ]
         }
        },
        {
         "name": "Weekend",
         "dtype": "bool",
         "stats": {
          "unique_count": 2,
          "nan_count": 0,
          "categories": [
           {
            "name": "False",
            "count": 4
           },
           {
            "name": "True",
            "count": 1
           }
          ]
         }
        },
        {
         "name": "Revenue",
         "dtype": "bool",
         "stats": {
          "unique_count": 1,
          "nan_count": 0,
          "categories": [
           {
            "name": "False",
            "count": 5
           }
          ]
         }
        },
        {
         "name": "_deepnote_index_column",
         "dtype": "int64"
        }
       ],
       "rows_top": [
        {
         "Region": 1,
         "TrafficType": 1,
         "Returning Visitor?": "True",
         "Weekend": "False",
         "Revenue": "False",
         "_deepnote_index_column": 0
        },
        {
         "Region": 1,
         "TrafficType": 2,
         "Returning Visitor?": "True",
         "Weekend": "False",
         "Revenue": "False",
         "_deepnote_index_column": 1
        },
        {
         "Region": 9,
         "TrafficType": 3,
         "Returning Visitor?": "True",
         "Weekend": "False",
         "Revenue": "False",
         "_deepnote_index_column": 2
        },
        {
         "Region": 2,
         "TrafficType": 4,
         "Returning Visitor?": "True",
         "Weekend": "False",
         "Revenue": "False",
         "_deepnote_index_column": 3
        },
        {
         "Region": 1,
         "TrafficType": 4,
         "Returning Visitor?": "True",
         "Weekend": "True",
         "Revenue": "False",
         "_deepnote_index_column": 4
        }
       ],
       "rows_bottom": null
      },
      "text/plain": "  Region TrafficType  Returning Visitor?  Weekend  Revenue\n0      1           1                True    False    False\n1      1           2                True    False    False\n2      9           3                True    False    False\n3      2           4                True    False    False\n4      1           4                True     True    False",
      "text/html": "<div>\n<style scoped>\n    .dataframe tbody tr th:only-of-type {\n        vertical-align: middle;\n    }\n\n    .dataframe tbody tr th {\n        vertical-align: top;\n    }\n\n    .dataframe thead th {\n        text-align: right;\n    }\n</style>\n<table border=\"1\" class=\"dataframe\">\n  <thead>\n    <tr style=\"text-align: right;\">\n      <th></th>\n      <th>Region</th>\n      <th>TrafficType</th>\n      <th>Returning Visitor?</th>\n      <th>Weekend</th>\n      <th>Revenue</th>\n    </tr>\n  </thead>\n  <tbody>\n    <tr>\n      <th>0</th>\n      <td>1</td>\n      <td>1</td>\n      <td>True</td>\n      <td>False</td>\n      <td>False</td>\n    </tr>\n    <tr>\n      <th>1</th>\n      <td>1</td>\n      <td>2</td>\n      <td>True</td>\n      <td>False</td>\n      <td>False</td>\n    </tr>\n    <tr>\n      <th>2</th>\n      <td>9</td>\n      <td>3</td>\n      <td>True</td>\n      <td>False</td>\n      <td>False</td>\n    </tr>\n    <tr>\n      <th>3</th>\n      <td>2</td>\n      <td>4</td>\n      <td>True</td>\n      <td>False</td>\n      <td>False</td>\n    </tr>\n    <tr>\n      <th>4</th>\n      <td>1</td>\n      <td>4</td>\n      <td>True</td>\n      <td>True</td>\n      <td>False</td>\n    </tr>\n  </tbody>\n</table>\n</div>"
     },
     "metadata": {}
    }
   ],
   "execution_count": null
  },
  {
   "cell_type": "code",
   "metadata": {
    "tags": [],
    "cell_id": "00026-26852f17-3e38-48da-b0bb-138b5659be92",
    "deepnote_to_be_reexecuted": false,
    "source_hash": "44b24cc7",
    "execution_start": 1629075604180,
    "execution_millis": 32,
    "deepnote_cell_type": "code"
   },
   "source": "# check correlation between boolean \n\ncorr_cat = table_rf.corr()\ncorr_cat\n",
   "outputs": [
    {
     "output_type": "execute_result",
     "execution_count": 33,
     "data": {
      "application/vnd.deepnote.dataframe.v2+json": {
       "row_count": 3,
       "column_count": 3,
       "columns": [
        {
         "name": "Returning Visitor?",
         "dtype": "float64",
         "stats": {
          "unique_count": 3,
          "nan_count": 0,
          "min": "-0.10642335772853334",
          "max": "1.0",
          "histogram": [
           {
            "bin_start": -0.10642335772853334,
            "bin_end": 0.004218978044320004,
            "count": 2
           },
           {
            "bin_start": 0.004218978044320004,
            "bin_end": 0.11486131381717335,
            "count": 0
           },
           {
            "bin_start": 0.11486131381717335,
            "bin_end": 0.22550364959002672,
            "count": 0
           },
           {
            "bin_start": 0.22550364959002672,
            "bin_end": 0.33614598536288004,
            "count": 0
           },
           {
            "bin_start": 0.33614598536288004,
            "bin_end": 0.44678832113573336,
            "count": 0
           },
           {
            "bin_start": 0.44678832113573336,
            "bin_end": 0.5574306569085867,
            "count": 0
           },
           {
            "bin_start": 0.5574306569085867,
            "bin_end": 0.6680729926814402,
            "count": 0
           },
           {
            "bin_start": 0.6680729926814402,
            "bin_end": 0.7787153284542934,
            "count": 0
           },
           {
            "bin_start": 0.7787153284542934,
            "bin_end": 0.8893576642271468,
            "count": 0
           },
           {
            "bin_start": 0.8893576642271468,
            "bin_end": 1,
            "count": 1
           }
          ]
         }
        },
        {
         "name": "Weekend",
         "dtype": "float64",
         "stats": {
          "unique_count": 3,
          "nan_count": 0,
          "min": "-0.0488374878536722",
          "max": "1.0",
          "histogram": [
           {
            "bin_start": -0.0488374878536722,
            "bin_end": 0.05604626093169501,
            "count": 2
           },
           {
            "bin_start": 0.05604626093169501,
            "bin_end": 0.16093000971706223,
            "count": 0
           },
           {
            "bin_start": 0.16093000971706223,
            "bin_end": 0.26581375850242944,
            "count": 0
           },
           {
            "bin_start": 0.26581375850242944,
            "bin_end": 0.37069750728779666,
            "count": 0
           },
           {
            "bin_start": 0.37069750728779666,
            "bin_end": 0.47558125607316387,
            "count": 0
           },
           {
            "bin_start": 0.47558125607316387,
            "bin_end": 0.5804650048585311,
            "count": 0
           },
           {
            "bin_start": 0.5804650048585311,
            "bin_end": 0.6853487536438982,
            "count": 0
           },
           {
            "bin_start": 0.6853487536438982,
            "bin_end": 0.7902325024292656,
            "count": 0
           },
           {
            "bin_start": 0.7902325024292656,
            "bin_end": 0.8951162512146327,
            "count": 0
           },
           {
            "bin_start": 0.8951162512146327,
            "bin_end": 1,
            "count": 1
           }
          ]
         }
        },
        {
         "name": "Revenue",
         "dtype": "float64",
         "stats": {
          "unique_count": 3,
          "nan_count": 0,
          "min": "-0.10642335772853334",
          "max": "1.0",
          "histogram": [
           {
            "bin_start": -0.10642335772853334,
            "bin_end": 0.004218978044320004,
            "count": 1
           },
           {
            "bin_start": 0.004218978044320004,
            "bin_end": 0.11486131381717335,
            "count": 1
           },
           {
            "bin_start": 0.11486131381717335,
            "bin_end": 0.22550364959002672,
            "count": 0
           },
           {
            "bin_start": 0.22550364959002672,
            "bin_end": 0.33614598536288004,
            "count": 0
           },
           {
            "bin_start": 0.33614598536288004,
            "bin_end": 0.44678832113573336,
            "count": 0
           },
           {
            "bin_start": 0.44678832113573336,
            "bin_end": 0.5574306569085867,
            "count": 0
           },
           {
            "bin_start": 0.5574306569085867,
            "bin_end": 0.6680729926814402,
            "count": 0
           },
           {
            "bin_start": 0.6680729926814402,
            "bin_end": 0.7787153284542934,
            "count": 0
           },
           {
            "bin_start": 0.7787153284542934,
            "bin_end": 0.8893576642271468,
            "count": 0
           },
           {
            "bin_start": 0.8893576642271468,
            "bin_end": 1,
            "count": 1
           }
          ]
         }
        },
        {
         "name": "_deepnote_index_column",
         "dtype": "object"
        }
       ],
       "rows_top": [
        {
         "Returning Visitor?": 1,
         "Weekend": -0.0488374878536722,
         "Revenue": -0.10642335772853334,
         "_deepnote_index_column": "Returning Visitor?"
        },
        {
         "Returning Visitor?": -0.0488374878536722,
         "Weekend": 1,
         "Revenue": 0.028885919193488454,
         "_deepnote_index_column": "Weekend"
        },
        {
         "Returning Visitor?": -0.10642335772853334,
         "Weekend": 0.028885919193488454,
         "Revenue": 1,
         "_deepnote_index_column": "Revenue"
        }
       ],
       "rows_bottom": null
      },
      "text/plain": "                    Returning Visitor?   Weekend   Revenue\nReturning Visitor?            1.000000 -0.048837 -0.106423\nWeekend                      -0.048837  1.000000  0.028886\nRevenue                      -0.106423  0.028886  1.000000",
      "text/html": "<div>\n<style scoped>\n    .dataframe tbody tr th:only-of-type {\n        vertical-align: middle;\n    }\n\n    .dataframe tbody tr th {\n        vertical-align: top;\n    }\n\n    .dataframe thead th {\n        text-align: right;\n    }\n</style>\n<table border=\"1\" class=\"dataframe\">\n  <thead>\n    <tr style=\"text-align: right;\">\n      <th></th>\n      <th>Returning Visitor?</th>\n      <th>Weekend</th>\n      <th>Revenue</th>\n    </tr>\n  </thead>\n  <tbody>\n    <tr>\n      <th>Returning Visitor?</th>\n      <td>1.000000</td>\n      <td>-0.048837</td>\n      <td>-0.106423</td>\n    </tr>\n    <tr>\n      <th>Weekend</th>\n      <td>-0.048837</td>\n      <td>1.000000</td>\n      <td>0.028886</td>\n    </tr>\n    <tr>\n      <th>Revenue</th>\n      <td>-0.106423</td>\n      <td>0.028886</td>\n      <td>1.000000</td>\n    </tr>\n  </tbody>\n</table>\n</div>"
     },
     "metadata": {}
    }
   ],
   "execution_count": null
  },
  {
   "cell_type": "code",
   "metadata": {
    "tags": [],
    "cell_id": "00020-da9597f6-71f0-4140-ad67-938fdb2fbd90",
    "deepnote_to_be_reexecuted": false,
    "source_hash": "c6e7a4f",
    "execution_start": 1629075604222,
    "execution_millis": 2,
    "deepnote_cell_type": "code"
   },
   "source": "# Number of Sales & proportion of sales\n\nprint(\"Total number of sales in data:\", sum(table['Revenue']))\n\nprint(\"Proportion of sales to overall visitors:\", sum(table['Revenue'])/len(table))",
   "outputs": [
    {
     "name": "stdout",
     "text": "Total number of sales in data: 1793\nProportion of sales to overall visitors: 0.15368132339076027\n",
     "output_type": "stream"
    }
   ],
   "execution_count": null
  },
  {
   "cell_type": "markdown",
   "source": "",
   "metadata": {
    "tags": [],
    "cell_id": "00024-c6ddf2b9-7775-4e82-915a-f1636551fbd0",
    "deepnote_cell_type": "markdown"
   }
  },
  {
   "cell_type": "code",
   "metadata": {
    "tags": [],
    "cell_id": "00021-d54ffa3f-8a63-413e-bd1b-db86bf3a8920",
    "deepnote_to_be_reexecuted": false,
    "source_hash": "ba26e669",
    "execution_start": 1629077850586,
    "execution_millis": 71,
    "deepnote_cell_type": "code"
   },
   "source": "## Logistic Regression - using numerical variables from attributes, logged, to predict revenue\n\nfrom sklearn.metrics import accuracy_score, classification_report, confusion_matrix\nfrom sklearn import neighbors, preprocessing\nfrom sklearn.linear_model import LogisticRegression\nX = log_features\ny = table.iloc[:,17]\nX_train, X_test, y_train, y_test = train_test_split(log_features,table.iloc[:,17])\nscaler = preprocessing.StandardScaler().fit(X_train)\nX_train = scaler.transform(X_train)\nX_test = scaler.transform(X_test)\nlogreg=LogisticRegression()\nlogreg.fit(X_train, y_train)\ny_pred=logreg.predict(X)\n\nprint('coefficients for features ProductRelated and PageValues are', logreg.coef_)\nprint('Intercept of Model:', logreg.intercept_)\nprint(\"Score of Model:\", logreg.score(X,y))\n\nprint(classification_report(y,logreg.predict(X)))",
   "outputs": [
    {
     "name": "stdout",
     "text": "coefficients for features ProductRelated and PageValues are [[0.26418086 1.36408401]]\nIntercept of Model: [-2.35241821]\nScore of Model: 0.8743464472443645\n              precision    recall  f1-score   support\n\n       False       0.96      0.89      0.92      9874\n        True       0.57      0.78      0.66      1793\n\n    accuracy                           0.87     11667\n   macro avg       0.76      0.84      0.79     11667\nweighted avg       0.90      0.87      0.88     11667\n\n",
     "output_type": "stream"
    }
   ],
   "execution_count": null
  },
  {
   "cell_type": "markdown",
   "source": "These are the coefficient values for each of type of page visits - Administrative, administrative duration, informational, informational duration, product related and product related duration, respectively, with them being normalized with a Log+1 transformation to limit outliers and skew. The largest impact on if a sale is made, is product related page visit duration.",
   "metadata": {
    "tags": [],
    "cell_id": "00029-c8b4a639-bbdc-418a-8349-5fad768c8298",
    "deepnote_cell_type": "markdown"
   }
  },
  {
   "cell_type": "code",
   "metadata": {
    "tags": [],
    "cell_id": "00028-c3b43a1c-6fff-4505-8379-ac0f7ec16704",
    "deepnote_to_be_reexecuted": false,
    "source_hash": "26a832f2",
    "execution_start": 1629077852578,
    "execution_millis": 389,
    "deepnote_cell_type": "code"
   },
   "source": "#classification with random forests - using categorical variables region, traffic type, vistor type and weekend\n\nnp.random.seed(123)\nX_train, X_test, y_train, y_test = train_test_split(table_rf.iloc[:,:4],table_rf.iloc[:,4],test_size=.3)\nclf = RandomForestClassifier(n_estimators=100)\nclf.fit(X_train,y_train)\ny_pred=clf.predict(X_test)\n",
   "outputs": [],
   "execution_count": null
  },
  {
   "cell_type": "code",
   "metadata": {
    "tags": [],
    "cell_id": "00029-fabe2826-4adb-4803-ac35-9e85b7958b31",
    "deepnote_to_be_reexecuted": false,
    "source_hash": "e69828d5",
    "execution_start": 1629077853451,
    "execution_millis": 15,
    "deepnote_cell_type": "code"
   },
   "source": "from sklearn import metrics\nprint(metrics.confusion_matrix(y_test,y_pred))\nprint(metrics.classification_report(y_test,y_pred))",
   "outputs": [
    {
     "name": "stdout",
     "text": "[[2916   51]\n [ 518   16]]\n              precision    recall  f1-score   support\n\n       False       0.85      0.98      0.91      2967\n        True       0.24      0.03      0.05       534\n\n    accuracy                           0.84      3501\n   macro avg       0.54      0.51      0.48      3501\nweighted avg       0.76      0.84      0.78      3501\n\n",
     "output_type": "stream"
    }
   ],
   "execution_count": null
  },
  {
   "cell_type": "code",
   "metadata": {
    "tags": [],
    "cell_id": "00030-b438bef7-abbd-4733-8e77-c96f9ceffc7f",
    "deepnote_to_be_reexecuted": false,
    "source_hash": "c2a7a589",
    "execution_start": 1629077855735,
    "execution_millis": 1211,
    "deepnote_cell_type": "code"
   },
   "source": "from sklearn.model_selection import cross_val_score\nprint(cross_val_score(clf, X_train, y_train, cv=4))\n",
   "outputs": [
    {
     "name": "stdout",
     "text": "[0.84329089 0.84084231 0.84370407 0.84076433]\n",
     "output_type": "stream"
    }
   ],
   "execution_count": null
  },
  {
   "cell_type": "code",
   "metadata": {
    "tags": [],
    "cell_id": "00035-f9055084-b73d-4e10-9ca3-3a4c92571fd2",
    "deepnote_to_be_reexecuted": false,
    "source_hash": "5805f771",
    "execution_start": 1629077859790,
    "execution_millis": 44,
    "deepnote_cell_type": "code"
   },
   "source": "# K-means cluster\n# Include all data that we've seen to have an impact on  \n\ntable_km1 = log_features\ntable_km2 = table_rf.iloc[:,:4]\n\ntable_km = table_km1.join(table_km2)\ntable_km.head()",
   "outputs": [
    {
     "output_type": "execute_result",
     "execution_count": 89,
     "data": {
      "application/vnd.deepnote.dataframe.v2+json": {
       "row_count": 5,
       "column_count": 6,
       "columns": [
        {
         "name": "ProductRelated",
         "dtype": "float64",
         "stats": {
          "unique_count": 3,
          "nan_count": 0,
          "min": "0.6931471805599453",
          "max": "2.3978952727983707",
          "histogram": [
           {
            "bin_start": 0.6931471805599453,
            "bin_end": 0.8636219897837878,
            "count": 2
           },
           {
            "bin_start": 0.8636219897837878,
            "bin_end": 1.0340967990076304,
            "count": 0
           },
           {
            "bin_start": 1.0340967990076304,
            "bin_end": 1.2045716082314728,
            "count": 2
           },
           {
            "bin_start": 1.2045716082314728,
            "bin_end": 1.3750464174553154,
            "count": 0
           },
           {
            "bin_start": 1.3750464174553154,
            "bin_end": 1.545521226679158,
            "count": 0
           },
           {
            "bin_start": 1.545521226679158,
            "bin_end": 1.7159960359030006,
            "count": 0
           },
           {
            "bin_start": 1.7159960359030006,
            "bin_end": 1.8864708451268428,
            "count": 0
           },
           {
            "bin_start": 1.8864708451268428,
            "bin_end": 2.0569456543506854,
            "count": 0
           },
           {
            "bin_start": 2.0569456543506854,
            "bin_end": 2.227420463574528,
            "count": 0
           },
           {
            "bin_start": 2.227420463574528,
            "bin_end": 2.3978952727983707,
            "count": 1
           }
          ]
         }
        },
        {
         "name": "PageValues",
         "dtype": "float64",
         "stats": {
          "unique_count": 1,
          "nan_count": 0,
          "min": "0.0",
          "max": "0.0",
          "histogram": [
           {
            "bin_start": -0.5,
            "bin_end": -0.4,
            "count": 0
           },
           {
            "bin_start": -0.4,
            "bin_end": -0.3,
            "count": 0
           },
           {
            "bin_start": -0.3,
            "bin_end": -0.19999999999999996,
            "count": 0
           },
           {
            "bin_start": -0.19999999999999996,
            "bin_end": -0.09999999999999998,
            "count": 0
           },
           {
            "bin_start": -0.09999999999999998,
            "bin_end": 0,
            "count": 0
           },
           {
            "bin_start": 0,
            "bin_end": 0.10000000000000009,
            "count": 5
           },
           {
            "bin_start": 0.10000000000000009,
            "bin_end": 0.20000000000000007,
            "count": 0
           },
           {
            "bin_start": 0.20000000000000007,
            "bin_end": 0.30000000000000004,
            "count": 0
           },
           {
            "bin_start": 0.30000000000000004,
            "bin_end": 0.4,
            "count": 0
           },
           {
            "bin_start": 0.4,
            "bin_end": 0.5,
            "count": 0
           }
          ]
         }
        },
        {
         "name": "Region",
         "dtype": "category",
         "stats": {
          "unique_count": 3,
          "nan_count": 0,
          "categories": [
           {
            "name": "1",
            "count": 3
           },
           {
            "name": "9",
            "count": 1
           },
           {
            "name": "2",
            "count": 1
           }
          ]
         }
        },
        {
         "name": "TrafficType",
         "dtype": "category",
         "stats": {
          "unique_count": 4,
          "nan_count": 0,
          "categories": [
           {
            "name": "4",
            "count": 2
           },
           {
            "name": "1",
            "count": 1
           },
           {
            "name": "2 others",
            "count": 2
           }
          ]
         }
        },
        {
         "name": "Returning Visitor?",
         "dtype": "bool",
         "stats": {
          "unique_count": 1,
          "nan_count": 0,
          "categories": [
           {
            "name": "True",
            "count": 5
           }
          ]
         }
        },
        {
         "name": "Weekend",
         "dtype": "bool",
         "stats": {
          "unique_count": 2,
          "nan_count": 0,
          "categories": [
           {
            "name": "False",
            "count": 4
           },
           {
            "name": "True",
            "count": 1
           }
          ]
         }
        },
        {
         "name": "_deepnote_index_column",
         "dtype": "int64"
        }
       ],
       "rows_top": [
        {
         "ProductRelated": 0.6931471805599453,
         "PageValues": 0,
         "Region": 1,
         "TrafficType": 1,
         "Returning Visitor?": "True",
         "Weekend": "False",
         "_deepnote_index_column": 0
        },
        {
         "ProductRelated": 1.0986122886681098,
         "PageValues": 0,
         "Region": 1,
         "TrafficType": 2,
         "Returning Visitor?": "True",
         "Weekend": "False",
         "_deepnote_index_column": 1
        },
        {
         "ProductRelated": 0.6931471805599453,
         "PageValues": 0,
         "Region": 9,
         "TrafficType": 3,
         "Returning Visitor?": "True",
         "Weekend": "False",
         "_deepnote_index_column": 2
        },
        {
         "ProductRelated": 1.0986122886681098,
         "PageValues": 0,
         "Region": 2,
         "TrafficType": 4,
         "Returning Visitor?": "True",
         "Weekend": "False",
         "_deepnote_index_column": 3
        },
        {
         "ProductRelated": 2.3978952727983707,
         "PageValues": 0,
         "Region": 1,
         "TrafficType": 4,
         "Returning Visitor?": "True",
         "Weekend": "True",
         "_deepnote_index_column": 4
        }
       ],
       "rows_bottom": null
      },
      "text/plain": "   ProductRelated  PageValues Region TrafficType  Returning Visitor?  Weekend\n0        0.693147         0.0      1           1                True    False\n1        1.098612         0.0      1           2                True    False\n2        0.693147         0.0      9           3                True    False\n3        1.098612         0.0      2           4                True    False\n4        2.397895         0.0      1           4                True     True",
      "text/html": "<div>\n<style scoped>\n    .dataframe tbody tr th:only-of-type {\n        vertical-align: middle;\n    }\n\n    .dataframe tbody tr th {\n        vertical-align: top;\n    }\n\n    .dataframe thead th {\n        text-align: right;\n    }\n</style>\n<table border=\"1\" class=\"dataframe\">\n  <thead>\n    <tr style=\"text-align: right;\">\n      <th></th>\n      <th>ProductRelated</th>\n      <th>PageValues</th>\n      <th>Region</th>\n      <th>TrafficType</th>\n      <th>Returning Visitor?</th>\n      <th>Weekend</th>\n    </tr>\n  </thead>\n  <tbody>\n    <tr>\n      <th>0</th>\n      <td>0.693147</td>\n      <td>0.0</td>\n      <td>1</td>\n      <td>1</td>\n      <td>True</td>\n      <td>False</td>\n    </tr>\n    <tr>\n      <th>1</th>\n      <td>1.098612</td>\n      <td>0.0</td>\n      <td>1</td>\n      <td>2</td>\n      <td>True</td>\n      <td>False</td>\n    </tr>\n    <tr>\n      <th>2</th>\n      <td>0.693147</td>\n      <td>0.0</td>\n      <td>9</td>\n      <td>3</td>\n      <td>True</td>\n      <td>False</td>\n    </tr>\n    <tr>\n      <th>3</th>\n      <td>1.098612</td>\n      <td>0.0</td>\n      <td>2</td>\n      <td>4</td>\n      <td>True</td>\n      <td>False</td>\n    </tr>\n    <tr>\n      <th>4</th>\n      <td>2.397895</td>\n      <td>0.0</td>\n      <td>1</td>\n      <td>4</td>\n      <td>True</td>\n      <td>True</td>\n    </tr>\n  </tbody>\n</table>\n</div>"
     },
     "metadata": {}
    }
   ],
   "execution_count": null
  },
  {
   "cell_type": "code",
   "metadata": {
    "tags": [],
    "cell_id": "00038-3dd088a2-2630-4604-b436-31c5ee50fd72",
    "deepnote_to_be_reexecuted": false,
    "source_hash": "a87535d8",
    "execution_start": 1629077861859,
    "execution_millis": 3,
    "deepnote_cell_type": "code"
   },
   "source": "# importing necessary libraries for kmeans clustering, scaling and PCA\n\nfrom sklearn.cluster import KMeans\nfrom sklearn.preprocessing import scale\nfrom sklearn.decomposition import PCA\n\nX_digits = table_km.values\ny_digits = table.iloc[:,17].values\ndata = scale(X_digits)\nn_digits = len(np.unique(y_digits))\nlabels=y_digits",
   "outputs": [],
   "execution_count": null
  },
  {
   "cell_type": "code",
   "metadata": {
    "tags": [],
    "cell_id": "00040-b8a2b9bc-0bd5-4108-b22e-34eedde2c204",
    "deepnote_to_be_reexecuted": false,
    "source_hash": "a1361da8",
    "execution_start": 1629077862774,
    "execution_millis": 564,
    "deepnote_cell_type": "code"
   },
   "source": "# applying Principal Component Analysis to reduce data to 2 dimensions\n\nreduced_data = PCA(n_components=2).fit_transform(data)\nkmeans=KMeans(init='k-means++',n_clusters=n_digits, n_init =10)\nkmeans.fit(reduced_data)\n\n#plotting decision boundary\nx_min, x_max = reduced_data[:,0].min()-1,reduced_data[:,0].max()+1\ny_min, y_max = reduced_data[:,1].min()-1,reduced_data[:,1].max()+1\nxx,yy = np.meshgrid(np.arange(x_min,x_max,0.1),np.arange(y_min,y_max,0.1))\n\n# obtain labels for each point\nZ = kmeans.predict(np.c_[xx.ravel(),yy.ravel()])\n\n# put result on color plot\n\nZ = Z.reshape(xx.shape)\nfig = plt.figure(figsize=(10,8))\nplt.figure(1)\nplt.clf()\nplt.imshow(Z,interpolation='nearest',\n            extent = (xx.min(), xx.max(), yy.min(),yy.max()),\n            cmap = plt.cm.Paired, origin = 'lower')\nplt.plot(reduced_data[:,0],reduced_data[:,1],'k.',markersize=3)\n\nplt.title('K-Means clustering on PCA-reduced data')\nplt.xticks(())\nplt.yticks(())\nplt.show()\n",
   "outputs": [
    {
     "data": {
      "text/plain": "<Figure size 720x576 with 1 Axes>",
      "image/png": "[encoded data removed]"
     },
     "metadata": {
      "image/png": {
       "width": 507,
       "height": 468
      }
     },
     "output_type": "display_data"
    }
   ],
   "execution_count": null
  },
  {
   "cell_type": "code",
   "metadata": {
    "tags": [],
    "cell_id": "00041-f6822e91-d367-4c51-a02f-876c8236ca41",
    "deepnote_to_be_reexecuted": false,
    "source_hash": "304562e4",
    "execution_start": 1629077865550,
    "execution_millis": 17,
    "deepnote_cell_type": "code"
   },
   "source": "# doing it once more, but just with variables used in random forest\n\nX_digits = table_km2.values\ny_digits = table.iloc[:,17].values\ndata = scale(X_digits)\nn_digits = len(np.unique(y_digits))\nlabels=y_digits",
   "outputs": [],
   "execution_count": null
  },
  {
   "cell_type": "code",
   "source": "reduced_data = PCA(n_components=2).fit_transform(data)\nkmeans=KMeans(init='k-means++',n_clusters=n_digits, n_init =10)\nkmeans.fit(reduced_data)\n\n#plotting decision boundary\nx_min, x_max = reduced_data[:,0].min()-1,reduced_data[:,0].max()+1\ny_min, y_max = reduced_data[:,1].min()-1,reduced_data[:,1].max()+1\nxx,yy = np.meshgrid(np.arange(x_min,x_max,0.1),np.arange(y_min,y_max,0.1))\n\n# obtain labels for each point\nZ = kmeans.predict(np.c_[xx.ravel(),yy.ravel()])\n\n# put result on color plot\n\nZ = Z.reshape(xx.shape)\nfig = plt.figure(figsize=(10,8))\nplt.figure(1)\nplt.clf()\nplt.imshow(Z,interpolation='nearest',\n            extent = (xx.min(), xx.max(), yy.min(),yy.max()),\n            cmap = plt.cm.Paired, origin = 'lower')\nplt.plot(reduced_data[:,0],reduced_data[:,1],'k.',markersize=3)\n\nplt.title('K-Means clustering on PCA-reduced data - Only Categorical Variables')\nplt.xticks(())\nplt.yticks(())\nplt.show()\n",
   "metadata": {
    "tags": [],
    "cell_id": "00043-ee6303fd-09cb-4871-950d-add603892e8a",
    "deepnote_to_be_reexecuted": false,
    "source_hash": "8ba5ac3c",
    "execution_start": 1629077867150,
    "execution_millis": 259,
    "deepnote_cell_type": "code"
   },
   "outputs": [
    {
     "data": {
      "text/plain": "<Figure size 720x576 with 1 Axes>",
      "image/png": "[encoded data removed]"
     },
     "metadata": {
      "image/png": {
       "width": 458,
       "height": 468
      }
     },
     "output_type": "display_data"
    }
   ],
   "execution_count": null
  },
  {
   "cell_type": "code",
   "source": "# One last time with just log features\n\nX_digits = log_features.values\ny_digits = table.iloc[:,17].values\ndata = scale(X_digits)\nn_digits = len(np.unique(y_digits))\nlabels=y_digits",
   "metadata": {
    "tags": [],
    "cell_id": "00044-e484dc84-630d-4a3b-8ce0-e3ea68c893df",
    "deepnote_to_be_reexecuted": false,
    "source_hash": "3e7a887f",
    "execution_start": 1629077868763,
    "execution_millis": 3,
    "deepnote_cell_type": "code"
   },
   "outputs": [],
   "execution_count": null
  },
  {
   "cell_type": "code",
   "source": "reduced_data = PCA(n_components=2).fit_transform(data)\nkmeans=KMeans(init='k-means++',n_clusters=n_digits, n_init =10)\nkmeans.fit(reduced_data)\n\n#plotting decision boundary\nx_min, x_max = reduced_data[:,0].min()-1,reduced_data[:,0].max()+1\ny_min, y_max = reduced_data[:,1].min()-1,reduced_data[:,1].max()+1\nxx,yy = np.meshgrid(np.arange(x_min,x_max,0.1),np.arange(y_min,y_max,0.1))\n\n# obtain labels for each point\nZ = kmeans.predict(np.c_[xx.ravel(),yy.ravel()])\n\n# put result on color plot\n\nZ = Z.reshape(xx.shape)\nfig = plt.figure(figsize=(10,8))\nplt.figure(1)\nplt.clf()\nplt.imshow(Z,interpolation='nearest',\n            extent = (xx.min(), xx.max(), yy.min(),yy.max()),\n            cmap = plt.cm.Paired, origin = 'lower')\nplt.plot(reduced_data[:,0],reduced_data[:,1],'k.',markersize=3)\n\nplt.title('K-Means clustering on PCA-reduced data - Only Numerical variables')\nplt.xticks(())\nplt.yticks(())\nplt.show()\n",
   "metadata": {
    "tags": [],
    "cell_id": "00047-cda24d06-8fc1-4b3d-b83c-93bd975a200f",
    "deepnote_to_be_reexecuted": false,
    "source_hash": "46dddf19",
    "execution_start": 1629077869806,
    "execution_millis": 358,
    "deepnote_cell_type": "code"
   },
   "outputs": [
    {
     "data": {
      "text/plain": "<Figure size 720x576 with 1 Axes>",
      "image/png": "[encoded data removed]"
     },
     "metadata": {
      "image/png": {
       "width": 463,
       "height": 468
      }
     },
     "output_type": "display_data"
    }
   ],
   "execution_count": null
  },
  {
   "cell_type": "markdown",
   "source": "<a style='text-decoration:none;line-height:16px;display:flex;color:#5B5B62;padding:10px;justify-content:end;' href='https://deepnote.com?utm_source=created-in-deepnote-cell&projectId=55138edf-d8a0-4ac0-ad44-a7f5409892d8' target=\"_blank\">\n<img alt='Created in deepnote.com' style='display:inline;max-height:16px;margin:0px;margin-right:7.5px;' src='data:image/svg+xml;base64,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' > </img>\nCreated in <span style='font-weight:600;margin-left:4px;'>Deepnote</span></a>",
   "metadata": {
    "tags": [],
    "created_in_deepnote_cell": true,
    "deepnote_cell_type": "markdown"
   }
  }
 ],
 "nbformat": 4,
 "nbformat_minor": 5,
 "metadata": {
  "kernelspec": {
   "display_name": "Python 3",
   "language": "python",
   "name": "python3"
  },
  "language_info": {
   "codemirror_mode": {
    "name": "ipython",
    "version": 3
   },
   "file_extension": ".py",
   "mimetype": "text/x-python",
   "name": "python",
   "nbconvert_exporter": "python",
   "pygments_lexer": "ipython3",
   "version": "3.8.8"
  },
  "deepnote_notebook_id": "9b81d19c-790f-472e-90ca-927f8880008b",
  "deepnote": {},
  "deepnote_execution_queue": []
 }
}